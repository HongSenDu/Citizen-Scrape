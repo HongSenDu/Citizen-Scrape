{
  "nbformat": 4,
  "nbformat_minor": 0,
  "metadata": {
    "colab": {
      "name": "citizen_scrape.ipynb",
      "provenance": [],
      "collapsed_sections": [],
      "authorship_tag": "ABX9TyNcnWJaUdLuiZFRm0TsUuPI",
      "include_colab_link": true
    },
    "kernelspec": {
      "name": "python3",
      "display_name": "Python 3"
    },
    "language_info": {
      "name": "python"
    },
    "widgets": {
      "application/vnd.jupyter.widget-state+json": {
        "606e1e1eca6e425ba43ec0c9d8bf1624": {
          "model_module": "@jupyter-widgets/controls",
          "model_name": "VBoxModel",
          "model_module_version": "1.5.0",
          "state": {
            "_dom_classes": [],
            "_model_module": "@jupyter-widgets/controls",
            "_model_module_version": "1.5.0",
            "_model_name": "VBoxModel",
            "_view_count": null,
            "_view_module": "@jupyter-widgets/controls",
            "_view_module_version": "1.5.0",
            "_view_name": "VBoxView",
            "box_style": "",
            "children": [
              "IPY_MODEL_e090c5241d5147338cb2972f602a0349"
            ],
            "layout": "IPY_MODEL_a86f590ec5df421b9f98d18bb316aed5"
          }
        },
        "e090c5241d5147338cb2972f602a0349": {
          "model_module": "@jupyter-widgets/controls",
          "model_name": "BoxModel",
          "model_module_version": "1.5.0",
          "state": {
            "_dom_classes": [],
            "_model_module": "@jupyter-widgets/controls",
            "_model_module_version": "1.5.0",
            "_model_name": "BoxModel",
            "_view_count": null,
            "_view_module": "@jupyter-widgets/controls",
            "_view_module_version": "1.5.0",
            "_view_name": "BoxView",
            "box_style": "",
            "children": [
              "IPY_MODEL_1c86739a8c91417eb3e75fe8b7c74380",
              "IPY_MODEL_86a8a95476fa4c3eac1a9715fff25774",
              "IPY_MODEL_44842c17df9d4ef29577d8d4ad278d26"
            ],
            "layout": "IPY_MODEL_69f0d93993eb49f59294ca7c69e10b26"
          }
        },
        "a86f590ec5df421b9f98d18bb316aed5": {
          "model_module": "@jupyter-widgets/base",
          "model_name": "LayoutModel",
          "model_module_version": "1.2.0",
          "state": {
            "_model_module": "@jupyter-widgets/base",
            "_model_module_version": "1.2.0",
            "_model_name": "LayoutModel",
            "_view_count": null,
            "_view_module": "@jupyter-widgets/base",
            "_view_module_version": "1.2.0",
            "_view_name": "LayoutView",
            "align_content": null,
            "align_items": null,
            "align_self": null,
            "border": null,
            "bottom": null,
            "display": null,
            "flex": null,
            "flex_flow": null,
            "grid_area": null,
            "grid_auto_columns": null,
            "grid_auto_flow": null,
            "grid_auto_rows": null,
            "grid_column": null,
            "grid_gap": null,
            "grid_row": null,
            "grid_template_areas": null,
            "grid_template_columns": null,
            "grid_template_rows": null,
            "height": null,
            "justify_content": null,
            "justify_items": null,
            "left": null,
            "margin": null,
            "max_height": null,
            "max_width": null,
            "min_height": null,
            "min_width": null,
            "object_fit": null,
            "object_position": null,
            "order": null,
            "overflow": null,
            "overflow_x": null,
            "overflow_y": null,
            "padding": null,
            "right": null,
            "top": null,
            "visibility": null,
            "width": null
          }
        },
        "1c86739a8c91417eb3e75fe8b7c74380": {
          "model_module": "@jupyter-widgets/controls",
          "model_name": "DropdownModel",
          "model_module_version": "1.5.0",
          "state": {
            "_dom_classes": [],
            "_model_module": "@jupyter-widgets/controls",
            "_model_module_version": "1.5.0",
            "_model_name": "DropdownModel",
            "_options_labels": [
              "ALL",
              "Fire",
              "Gun Related",
              "Missing Person",
              "Police Related",
              "Pursuit / Search",
              "Robbery / Theft ",
              "Traffic Related",
              "Weapon"
            ],
            "_view_count": null,
            "_view_module": "@jupyter-widgets/controls",
            "_view_module_version": "1.5.0",
            "_view_name": "DropdownView",
            "description": "Category",
            "description_tooltip": null,
            "disabled": false,
            "index": 0,
            "layout": "IPY_MODEL_17de481af7914796afec8854166764c6",
            "style": "IPY_MODEL_26e94109ffac4b32ba0ccb21a2881c42"
          }
        },
        "86a8a95476fa4c3eac1a9715fff25774": {
          "model_module": "@jupyter-widgets/controls",
          "model_name": "DropdownModel",
          "model_module_version": "1.5.0",
          "state": {
            "_dom_classes": [],
            "_model_module": "@jupyter-widgets/controls",
            "_model_module_version": "1.5.0",
            "_model_name": "DropdownModel",
            "_options_labels": [
              "ALL",
              "Astoria, Queens",
              "Bedford Park, Bronx",
              "Bedford Stuyvesant, Brooklyn",
              "Borough Park, Brooklyn",
              "Brownsville, Brooklyn",
              "Canarsie, Brooklyn",
              "Concourse, Bronx",
              "Crown Heights, Brooklyn",
              "East New York, Brooklyn",
              "East Tremont, Bronx",
              "Far Rockaway, Queens",
              "Garment District, Manhattan",
              "Harlem, Manhattan",
              "Jamaica Hills, Queens",
              "Jamaica, Queens",
              "Longwood, Bronx",
              "Middle Village, Queens",
              "Midtown, Manhattan",
              "Mill Basin, Brooklyn",
              "Morris Heights, Bronx",
              "New Utrecht, Brooklyn",
              "Port Morris, Bronx",
              "Ridgewood, Queens",
              "SoHo, Manhattan",
              "South Bronx, Bronx",
              "Sunset Park, Brooklyn",
              "Unionport, Bronx",
              "University Heights, Bronx",
              "Upper East Side, Manhattan",
              "Washington Heights, Manhattan",
              "Westchester Heights, Bronx",
              "Williamsbridge, Bronx",
              "Woodside, Queens"
            ],
            "_view_count": null,
            "_view_module": "@jupyter-widgets/controls",
            "_view_module_version": "1.5.0",
            "_view_name": "DropdownView",
            "description": "Neighborhood",
            "description_tooltip": null,
            "disabled": false,
            "index": 0,
            "layout": "IPY_MODEL_28688a7b1a5b44dd86473e20213c6bb2",
            "style": "IPY_MODEL_179cbc18b1cf4d949c7fe4a68cc7ffbc"
          }
        },
        "44842c17df9d4ef29577d8d4ad278d26": {
          "model_module": "@jupyter-widgets/controls",
          "model_name": "DropdownModel",
          "model_module_version": "1.5.0",
          "state": {
            "_dom_classes": [],
            "_model_module": "@jupyter-widgets/controls",
            "_model_module_version": "1.5.0",
            "_model_name": "DropdownModel",
            "_options_labels": [
              "Groupable Data Table",
              "HTML Rendering"
            ],
            "_view_count": null,
            "_view_module": "@jupyter-widgets/controls",
            "_view_module_version": "1.5.0",
            "_view_name": "DropdownView",
            "description": "Display Option",
            "description_tooltip": null,
            "disabled": false,
            "index": 1,
            "layout": "IPY_MODEL_e4adc8f23655434abb845ebdaec8ea82",
            "style": "IPY_MODEL_ec2047dc89fc42a489a3944a37910b1f"
          }
        },
        "69f0d93993eb49f59294ca7c69e10b26": {
          "model_module": "@jupyter-widgets/base",
          "model_name": "LayoutModel",
          "model_module_version": "1.2.0",
          "state": {
            "_model_module": "@jupyter-widgets/base",
            "_model_module_version": "1.2.0",
            "_model_name": "LayoutModel",
            "_view_count": null,
            "_view_module": "@jupyter-widgets/base",
            "_view_module_version": "1.2.0",
            "_view_name": "LayoutView",
            "align_content": null,
            "align_items": "stretch",
            "align_self": null,
            "border": null,
            "bottom": null,
            "display": "flex",
            "flex": null,
            "flex_flow": "row",
            "grid_area": null,
            "grid_auto_columns": null,
            "grid_auto_flow": null,
            "grid_auto_rows": null,
            "grid_column": null,
            "grid_gap": null,
            "grid_row": null,
            "grid_template_areas": null,
            "grid_template_columns": null,
            "grid_template_rows": null,
            "height": null,
            "justify_content": "center",
            "justify_items": null,
            "left": null,
            "margin": null,
            "max_height": null,
            "max_width": null,
            "min_height": null,
            "min_width": null,
            "object_fit": null,
            "object_position": null,
            "order": null,
            "overflow": "visible",
            "overflow_x": null,
            "overflow_y": null,
            "padding": null,
            "right": null,
            "top": null,
            "visibility": null,
            "width": "auto"
          }
        },
        "17de481af7914796afec8854166764c6": {
          "model_module": "@jupyter-widgets/base",
          "model_name": "LayoutModel",
          "model_module_version": "1.2.0",
          "state": {
            "_model_module": "@jupyter-widgets/base",
            "_model_module_version": "1.2.0",
            "_model_name": "LayoutModel",
            "_view_count": null,
            "_view_module": "@jupyter-widgets/base",
            "_view_module_version": "1.2.0",
            "_view_name": "LayoutView",
            "align_content": null,
            "align_items": null,
            "align_self": null,
            "border": null,
            "bottom": null,
            "display": null,
            "flex": null,
            "flex_flow": null,
            "grid_area": null,
            "grid_auto_columns": null,
            "grid_auto_flow": null,
            "grid_auto_rows": null,
            "grid_column": null,
            "grid_gap": null,
            "grid_row": null,
            "grid_template_areas": null,
            "grid_template_columns": null,
            "grid_template_rows": null,
            "height": null,
            "justify_content": null,
            "justify_items": null,
            "left": null,
            "margin": null,
            "max_height": null,
            "max_width": null,
            "min_height": null,
            "min_width": null,
            "object_fit": null,
            "object_position": null,
            "order": null,
            "overflow": null,
            "overflow_x": null,
            "overflow_y": null,
            "padding": null,
            "right": null,
            "top": null,
            "visibility": null,
            "width": null
          }
        },
        "26e94109ffac4b32ba0ccb21a2881c42": {
          "model_module": "@jupyter-widgets/controls",
          "model_name": "DescriptionStyleModel",
          "model_module_version": "1.5.0",
          "state": {
            "_model_module": "@jupyter-widgets/controls",
            "_model_module_version": "1.5.0",
            "_model_name": "DescriptionStyleModel",
            "_view_count": null,
            "_view_module": "@jupyter-widgets/base",
            "_view_module_version": "1.2.0",
            "_view_name": "StyleView",
            "description_width": ""
          }
        },
        "28688a7b1a5b44dd86473e20213c6bb2": {
          "model_module": "@jupyter-widgets/base",
          "model_name": "LayoutModel",
          "model_module_version": "1.2.0",
          "state": {
            "_model_module": "@jupyter-widgets/base",
            "_model_module_version": "1.2.0",
            "_model_name": "LayoutModel",
            "_view_count": null,
            "_view_module": "@jupyter-widgets/base",
            "_view_module_version": "1.2.0",
            "_view_name": "LayoutView",
            "align_content": null,
            "align_items": null,
            "align_self": null,
            "border": null,
            "bottom": null,
            "display": null,
            "flex": null,
            "flex_flow": null,
            "grid_area": null,
            "grid_auto_columns": null,
            "grid_auto_flow": null,
            "grid_auto_rows": null,
            "grid_column": null,
            "grid_gap": null,
            "grid_row": null,
            "grid_template_areas": null,
            "grid_template_columns": null,
            "grid_template_rows": null,
            "height": null,
            "justify_content": null,
            "justify_items": null,
            "left": null,
            "margin": null,
            "max_height": null,
            "max_width": null,
            "min_height": null,
            "min_width": null,
            "object_fit": null,
            "object_position": null,
            "order": null,
            "overflow": null,
            "overflow_x": null,
            "overflow_y": null,
            "padding": null,
            "right": null,
            "top": null,
            "visibility": null,
            "width": null
          }
        },
        "179cbc18b1cf4d949c7fe4a68cc7ffbc": {
          "model_module": "@jupyter-widgets/controls",
          "model_name": "DescriptionStyleModel",
          "model_module_version": "1.5.0",
          "state": {
            "_model_module": "@jupyter-widgets/controls",
            "_model_module_version": "1.5.0",
            "_model_name": "DescriptionStyleModel",
            "_view_count": null,
            "_view_module": "@jupyter-widgets/base",
            "_view_module_version": "1.2.0",
            "_view_name": "StyleView",
            "description_width": ""
          }
        },
        "e4adc8f23655434abb845ebdaec8ea82": {
          "model_module": "@jupyter-widgets/base",
          "model_name": "LayoutModel",
          "model_module_version": "1.2.0",
          "state": {
            "_model_module": "@jupyter-widgets/base",
            "_model_module_version": "1.2.0",
            "_model_name": "LayoutModel",
            "_view_count": null,
            "_view_module": "@jupyter-widgets/base",
            "_view_module_version": "1.2.0",
            "_view_name": "LayoutView",
            "align_content": null,
            "align_items": null,
            "align_self": null,
            "border": null,
            "bottom": null,
            "display": null,
            "flex": null,
            "flex_flow": null,
            "grid_area": null,
            "grid_auto_columns": null,
            "grid_auto_flow": null,
            "grid_auto_rows": null,
            "grid_column": null,
            "grid_gap": null,
            "grid_row": null,
            "grid_template_areas": null,
            "grid_template_columns": null,
            "grid_template_rows": null,
            "height": null,
            "justify_content": null,
            "justify_items": null,
            "left": null,
            "margin": null,
            "max_height": null,
            "max_width": null,
            "min_height": null,
            "min_width": null,
            "object_fit": null,
            "object_position": null,
            "order": null,
            "overflow": null,
            "overflow_x": null,
            "overflow_y": null,
            "padding": null,
            "right": null,
            "top": null,
            "visibility": null,
            "width": null
          }
        },
        "ec2047dc89fc42a489a3944a37910b1f": {
          "model_module": "@jupyter-widgets/controls",
          "model_name": "DescriptionStyleModel",
          "model_module_version": "1.5.0",
          "state": {
            "_model_module": "@jupyter-widgets/controls",
            "_model_module_version": "1.5.0",
            "_model_name": "DescriptionStyleModel",
            "_view_count": null,
            "_view_module": "@jupyter-widgets/base",
            "_view_module_version": "1.2.0",
            "_view_name": "StyleView",
            "description_width": ""
          }
        },
        "a902e7114bc54717a076a77851a849ca": {
          "model_module": "@jupyter-widgets/output",
          "model_name": "OutputModel",
          "model_module_version": "1.0.0",
          "state": {
            "_dom_classes": [],
            "_model_module": "@jupyter-widgets/output",
            "_model_module_version": "1.0.0",
            "_model_name": "OutputModel",
            "_view_count": null,
            "_view_module": "@jupyter-widgets/output",
            "_view_module_version": "1.0.0",
            "_view_name": "OutputView",
            "layout": "IPY_MODEL_9c3d8cc3dc9c4c1b8780481855a8417e",
            "msg_id": "",
            "outputs": [
              {
                "output_type": "display_data",
                "data": {
                  "text/plain": "<IPython.core.display.HTML object>",
                  "text/html": "\n  <head>\n    <style> table, th, td {border:1px solid black !important;} </style>\n  </head>\n  <body>\n    <table border=\"1\" class=\"dataframe\">\n  <thead>\n    <tr style=\"text-align: center;\">\n      <th></th>\n      <th>title</th>\n      <th>address</th>\n      <th>neighborhood</th>\n      <th>location</th>\n      <th>cityCode</th>\n      <th>categories</th>\n      <th>key</th>\n      <th>police</th>\n      <th>shareImageLive</th>\n      <th>stats</th>\n      <th>hasVod</th>\n      <th>severity</th>\n      <th>cs</th>\n      <th>url</th>\n      <th>created_at</th>\n      <th>updated_at</th>\n      <th>usersNotified</th>\n    </tr>\n  </thead>\n  <tbody>\n    <tr>\n      <th>0</th>\n      <td>Man Critically Shot Two Women</td>\n      <td>66-17 Fresh Pond Rd, Ridgewood, New York, 11385</td>\n      <td>Ridgewood, Queens</td>\n      <td>66-17 Fresh Pond Rd</td>\n      <td>nyc</td>\n      <td>Gun Related</td>\n      <td>-N1cmWzGUkXKrOWbgN02</td>\n      <td>NYPD 104</td>\n      <td><img src=\"https://storage.googleapis.com/citizen-stream-capture/mux:u2LiGrbZrUMlRZ3vtEsdW8lYD5zezhlWPNS02P02qT01VQ_0000.jpg\" style=max-height:124px;\"/></td>\n      <td>angers:1301, chats:560, hearts:84, streamViews:0, streamsConfirmed:1, streamsCount:9, thanks:672, usersNotifiedUnique:230685, views:106049, whoas:254</td>\n      <td>True</td>\n      <td>red</td>\n      <td>1652099259000</td>\n      <td><a target=\"_blank\" href=\"https://citizen.com/-N1cmWzGUkXKrOWbgN02\">https://citizen.com/-N1cmWzGUkXKrOWbgN02</a></td>\n      <td>05/09/2022, 12:27:39</td>\n      <td>05/09/2022, 12:27:39</td>\n      <td>230685</td>\n    </tr>\n    <tr>\n      <th>1</th>\n      <td>Flames Erupted From Windows of Sunset Park Building, No One Injured</td>\n      <td>408 59th St, Brooklyn, New York, 11220</td>\n      <td>Sunset Park, Brooklyn</td>\n      <td>408 59th St</td>\n      <td>nyc</td>\n      <td>Fire</td>\n      <td>-N1ZznYzZk9mT0l8Gb3t</td>\n      <td>NYPD 72</td>\n      <td><img src=\"https://storage.googleapis.com/citizen-stream-capture/mux:bJ5eudnYdn01fCSqLmH01ZYYarRG4HhveW4eSP7rWF01jE_0018.jpg\" style=max-height:124px;\"/></td>\n      <td>angers:1364, chats:166, hearts:1453, streamViews:0, streamsConfirmed:34, streamsCount:48, thanks:2332, usersNotifiedUnique:109828, views:147771, whoas:1683</td>\n      <td>True</td>\n      <td>red</td>\n      <td>1652035631000</td>\n      <td><a target=\"_blank\" href=\"https://citizen.com/-N1ZznYzZk9mT0l8Gb3t\">https://citizen.com/-N1ZznYzZk9mT0l8Gb3t</a></td>\n      <td>05/08/2022, 18:47:11</td>\n      <td>05/08/2022, 18:47:11</td>\n      <td>109828</td>\n    </tr>\n    <tr>\n      <th>2</th>\n      <td>Shed on Fire</td>\n      <td>860 E 175th St, Bronx, New York, 10460</td>\n      <td>South Bronx, Bronx</td>\n      <td>860 E 175th St</td>\n      <td>nyc</td>\n      <td>Fire</td>\n      <td>-N1_56hPtwsVUhqeBJIG</td>\n      <td>NYPD 48</td>\n      <td><img src=\"https://storage.googleapis.com/citizen-stream-capture/mux:fDWy8CBkpMOlJ1MENta7kpV83ecsV4aLc65HGsUcylE_0026.jpg\" style=max-height:124px;\"/></td>\n      <td>angers:0, chats:13, hearts:58, streamViews:0, streamsConfirmed:1, streamsCount:1, thanks:104, usersNotifiedUnique:37367, views:9528, whoas:103</td>\n      <td>True</td>\n      <td>red</td>\n      <td>1652037282000</td>\n      <td><a target=\"_blank\" href=\"https://citizen.com/-N1_56hPtwsVUhqeBJIG\">https://citizen.com/-N1_56hPtwsVUhqeBJIG</a></td>\n      <td>05/08/2022, 19:14:42</td>\n      <td>05/08/2022, 19:14:42</td>\n      <td>37367</td>\n    </tr>\n    <tr>\n      <th>3</th>\n      <td>Ten People Injured in Basement Fire</td>\n      <td>2575 Jerome Ave, Bronx, New York, 10468</td>\n      <td>University Heights, Bronx</td>\n      <td>2575 Jerome Ave</td>\n      <td>nyc</td>\n      <td>Fire</td>\n      <td>-N1a_bOzzXY5DdTTmtda</td>\n      <td>NYPD 52</td>\n      <td><img src=\"https://storage.googleapis.com/citizen-stream-capture/mux:QJUiU00Z200F01chTAsAnwGRT01eRHACt9d1b4Dc84qUhlc_0100.jpg\" style=max-height:124px;\"/></td>\n      <td>angers:39, chats:62, hearts:122, streamViews:0, streamsConfirmed:2, streamsCount:9, thanks:284, usersNotifiedUnique:32250, views:20906, whoas:252</td>\n      <td>True</td>\n      <td>red</td>\n      <td>1652062316000</td>\n      <td><a target=\"_blank\" href=\"https://citizen.com/-N1a_bOzzXY5DdTTmtda\">https://citizen.com/-N1a_bOzzXY5DdTTmtda</a></td>\n      <td>05/09/2022, 02:11:56</td>\n      <td>05/09/2022, 02:11:56</td>\n      <td>32250</td>\n    </tr>\n    <tr>\n      <th>4</th>\n      <td>Apartment Fire on Third Floor</td>\n      <td>728 Garden St, Bronx, New York, 10457</td>\n      <td>East Tremont, Bronx</td>\n      <td>728 Garden St</td>\n      <td>nyc</td>\n      <td>Fire</td>\n      <td>-N1ZVkqmVobqRJ7f7SmK</td>\n      <td>NYPD 48</td>\n      <td><img src=\"https://storage.googleapis.com/citizen-stream-capture/mux:2gofXwq5msWD7ZcR1G7NlkCBWHdgaR2Gi3UJNvUL9Ec_0058.jpg\" style=max-height:124px;\"/></td>\n      <td>angers:0, chats:41, hearts:403, streamViews:0, streamsConfirmed:2, streamsCount:9, thanks:303, usersNotifiedUnique:32045, views:23501, whoas:29</td>\n      <td>True</td>\n      <td>red</td>\n      <td>1652027493000</td>\n      <td><a target=\"_blank\" href=\"https://citizen.com/-N1ZVkqmVobqRJ7f7SmK\">https://citizen.com/-N1ZVkqmVobqRJ7f7SmK</a></td>\n      <td>05/08/2022, 16:31:33</td>\n      <td>05/08/2022, 16:31:33</td>\n      <td>32045</td>\n    </tr>\n    <tr>\n      <th>5</th>\n      <td>Police Vehicle on Fire After Crashing Into Pole</td>\n      <td>65th St & 8th Ave, Brooklyn, New York, 11220</td>\n      <td>Sunset Park, Brooklyn</td>\n      <td>65th St & 8th Ave</td>\n      <td>nyc</td>\n      <td>Police Related</td>\n      <td>-N1ahwrZfWI779VKtAo_</td>\n      <td>NYPD 68</td>\n      <td><img src=\"https://storage.googleapis.com/citizen-stream-capture/mux:Q75i92ct5b02uDTTIPrjM9LCoJS1SKuBGR3MDgCWqWOg_0009.jpg\" style=max-height:124px;\"/></td>\n      <td>angers:958, chats:422, hearts:205, streamViews:0, streamsConfirmed:5, streamsCount:11, thanks:1409, usersNotifiedUnique:28026, views:38151, whoas:80</td>\n      <td>True</td>\n      <td>red</td>\n      <td>1652064505000</td>\n      <td><a target=\"_blank\" href=\"https://citizen.com/-N1ahwrZfWI779VKtAo_\">https://citizen.com/-N1ahwrZfWI779VKtAo_</a></td>\n      <td>05/09/2022, 02:48:25</td>\n      <td>05/09/2022, 02:48:25</td>\n      <td>28026</td>\n    </tr>\n    <tr>\n      <th>6</th>\n      <td>Smoke Erupting From Window Amid Fire</td>\n      <td>62-98 Woodhaven Blvd, Middle Village, New York, 11379</td>\n      <td>Middle Village, Queens</td>\n      <td>62-98 Woodhaven Blvd</td>\n      <td>nyc</td>\n      <td>Fire</td>\n      <td>-N1Z6SdYQyo-UmY5j436</td>\n      <td>NYPD 104</td>\n      <td><img src=\"https://storage.googleapis.com/citizen-stream-capture/mux:gbhRyvhv6D00RyeOgIGvCOgRsvvmakOesITIapiXFtbI_0005.jpg\" style=max-height:124px;\"/></td>\n      <td>angers:44, chats:41, hearts:140, streamViews:0, streamsConfirmed:6, streamsCount:16, thanks:98, usersNotifiedUnique:20250, views:37257, whoas:143</td>\n      <td>True</td>\n      <td>red</td>\n      <td>1652020861000</td>\n      <td><a target=\"_blank\" href=\"https://citizen.com/-N1Z6SdYQyo-UmY5j436\">https://citizen.com/-N1Z6SdYQyo-UmY5j436</a></td>\n      <td>05/08/2022, 14:41:01</td>\n      <td>05/08/2022, 14:41:01</td>\n      <td>20250</td>\n    </tr>\n    <tr>\n      <th>7</th>\n      <td>Overturned Vehicle Collision</td>\n      <td>590 Gates Ave, Brooklyn, New York, 11221</td>\n      <td>Bedford Stuyvesant, Brooklyn</td>\n      <td>590 Gates Ave</td>\n      <td>nyc</td>\n      <td>Traffic Related</td>\n      <td>-N1bHwuF5DOgB92a05Gs</td>\n      <td>NYPD 79</td>\n      <td><img src=\"https://storage.googleapis.com/citizen-stream-capture/mux:atxshGrBHr488z5BcMuWMNVc01bpQWRwNrrA02iOcycOM_0023.jpg\" style=max-height:124px;\"/></td>\n      <td>angers:0, chats:8, hearts:0, streamViews:0, streamsConfirmed:1, streamsCount:1, thanks:8, usersNotifiedUnique:14126, views:2793, whoas:117</td>\n      <td>True</td>\n      <td>red</td>\n      <td>1652074205000</td>\n      <td><a target=\"_blank\" href=\"https://citizen.com/-N1bHwuF5DOgB92a05Gs\">https://citizen.com/-N1bHwuF5DOgB92a05Gs</a></td>\n      <td>05/09/2022, 05:30:05</td>\n      <td>05/09/2022, 05:30:05</td>\n      <td>14126</td>\n    </tr>\n    <tr>\n      <th>8</th>\n      <td>Car Fire in Parking Garage</td>\n      <td>1114 6th Ave, New York, New York, 10036</td>\n      <td>Midtown, Manhattan</td>\n      <td>1114 6th Ave</td>\n      <td>nyc</td>\n      <td>Fire</td>\n      <td>-N1YnBdxVWWUUFKpm_yW</td>\n      <td>NYPD MTS</td>\n      <td><img src=\"https://storage.googleapis.com/citizen-stream-capture/mux:EtT2xPO1ngu01lktzGgMZ4FQshXTwT3LsyDg8JqfCUoU_0004.jpg\" style=max-height:124px;\"/></td>\n      <td>angers:24, chats:1, hearts:8, streamViews:0, streamsConfirmed:0, streamsCount:1, thanks:1018, usersNotifiedUnique:12648, views:7268, whoas:31</td>\n      <td>True</td>\n      <td>red</td>\n      <td>1652015548000</td>\n      <td><a target=\"_blank\" href=\"https://citizen.com/-N1YnBdxVWWUUFKpm_yW\">https://citizen.com/-N1YnBdxVWWUUFKpm_yW</a></td>\n      <td>05/08/2022, 13:12:28</td>\n      <td>05/08/2022, 13:12:28</td>\n      <td>12648</td>\n    </tr>\n    <tr>\n      <th>9</th>\n      <td>Shots Fired</td>\n      <td>1390 5th Ave, New York, New York, 10026</td>\n      <td>Harlem, Manhattan</td>\n      <td>1390 5th Ave</td>\n      <td>nyc</td>\n      <td>Gun Related</td>\n      <td>-N1aC6gSZ3B9E7rX8_u4</td>\n      <td>NYPD 28</td>\n      <td>None</td>\n      <td>angers:229, chats:18, hearts:1, streamViews:0, streamsConfirmed:0, streamsCount:1, thanks:1, usersNotifiedUnique:12590, views:3259, whoas:9</td>\n      <td>False</td>\n      <td>red</td>\n      <td>1652055896000</td>\n      <td><a target=\"_blank\" href=\"https://citizen.com/-N1aC6gSZ3B9E7rX8_u4\">https://citizen.com/-N1aC6gSZ3B9E7rX8_u4</a></td>\n      <td>05/09/2022, 00:24:56</td>\n      <td>05/09/2022, 00:24:56</td>\n      <td>12590</td>\n    </tr>\n    <tr>\n      <th>10</th>\n      <td>Man Struck by Truck</td>\n      <td>2nd Ave & E 89th St, New York, New York, 10128</td>\n      <td>Upper East Side, Manhattan</td>\n      <td>2nd Ave & E 89th St</td>\n      <td>nyc</td>\n      <td>Traffic Related</td>\n      <td>-N1c-J30IO_1hESu4yfU</td>\n      <td>NYPD 19</td>\n      <td>None</td>\n      <td>angers:23, chats:0, hearts:2, streamViews:0, streamsConfirmed:0, streamsCount:0, thanks:37, usersNotifiedUnique:11830, views:2063, whoas:9</td>\n      <td>False</td>\n      <td>red</td>\n      <td>1652086096000</td>\n      <td><a target=\"_blank\" href=\"https://citizen.com/-N1c-J30IO_1hESu4yfU\">https://citizen.com/-N1c-J30IO_1hESu4yfU</a></td>\n      <td>05/09/2022, 08:48:16</td>\n      <td>05/09/2022, 08:48:16</td>\n      <td>11830</td>\n    </tr>\n    <tr>\n      <th>11</th>\n      <td>First-Floor Fire in Gucci Store</td>\n      <td>61 Wooster St, New York, New York, 10012</td>\n      <td>SoHo, Manhattan</td>\n      <td>61 Wooster St</td>\n      <td>nyc</td>\n      <td>Fire</td>\n      <td>-N1cgVC_ZKkeu6KKgUIv</td>\n      <td>NYPD 1</td>\n      <td>None</td>\n      <td>angers:1, chats:16, hearts:0, streamViews:0, streamsConfirmed:0, streamsCount:1, thanks:7, usersNotifiedUnique:11517, views:3557, whoas:3</td>\n      <td>False</td>\n      <td>red</td>\n      <td>1652097678000</td>\n      <td><a target=\"_blank\" href=\"https://citizen.com/-N1cgVC_ZKkeu6KKgUIv\">https://citizen.com/-N1cgVC_ZKkeu6KKgUIv</a></td>\n      <td>05/09/2022, 12:01:18</td>\n      <td>05/09/2022, 12:01:18</td>\n      <td>11517</td>\n    </tr>\n    <tr>\n      <th>12</th>\n      <td>Man Slashed</td>\n      <td>W 41st St & Broadway, New York, New York, 10036</td>\n      <td>Garment District, Manhattan</td>\n      <td>W 41st St & Broadway</td>\n      <td>nyc</td>\n      <td>Weapon</td>\n      <td>-N1bAuWM8Jj0OB3x1onx</td>\n      <td>NYPD MTS</td>\n      <td>None</td>\n      <td>angers:30, chats:3, hearts:50, streamViews:0, streamsConfirmed:0, streamsCount:0, thanks:40, usersNotifiedUnique:11452, views:867, whoas:90</td>\n      <td>False</td>\n      <td>red</td>\n      <td>1652072312000</td>\n      <td><a target=\"_blank\" href=\"https://citizen.com/-N1bAuWM8Jj0OB3x1onx\">https://citizen.com/-N1bAuWM8Jj0OB3x1onx</a></td>\n      <td>05/09/2022, 04:58:32</td>\n      <td>05/09/2022, 04:58:32</td>\n      <td>11452</td>\n    </tr>\n    <tr>\n      <th>13</th>\n      <td>Fire in Laundromat</td>\n      <td>268 W 145th St, New York, New York, 10030</td>\n      <td>Harlem, Manhattan</td>\n      <td>268 W 145th St</td>\n      <td>nyc</td>\n      <td>Fire</td>\n      <td>-N1ZcGIUxIxad1fexaSo</td>\n      <td>NYPD 32</td>\n      <td><img src=\"https://storage.googleapis.com/citizen-stream-capture/mux:G3Nf602as4wAN9yzng7LkZ3vIrfW4PC48qnQ7WZe1KIs_0018.jpg\" style=max-height:124px;\"/></td>\n      <td>angers:22, chats:15, hearts:29, streamViews:0, streamsConfirmed:0, streamsCount:2, thanks:1, usersNotifiedUnique:10059, views:11305, whoas:1</td>\n      <td>True</td>\n      <td>red</td>\n      <td>1652029460000</td>\n      <td><a target=\"_blank\" href=\"https://citizen.com/-N1ZcGIUxIxad1fexaSo\">https://citizen.com/-N1ZcGIUxIxad1fexaSo</a></td>\n      <td>05/08/2022, 17:04:20</td>\n      <td>05/08/2022, 17:04:20</td>\n      <td>10059</td>\n    </tr>\n    <tr>\n      <th>14</th>\n      <td>Man Stabbed</td>\n      <td>1707 Topping Ave, Bronx, New York, 10457</td>\n      <td>Concourse, Bronx</td>\n      <td>1707 Topping Ave</td>\n      <td>nyc</td>\n      <td>Weapon</td>\n      <td>-N1bEsSRGDCCgJok3NMf</td>\n      <td>NYPD 44</td>\n      <td>None</td>\n      <td>angers:19, chats:1, hearts:0, streamViews:0, streamsConfirmed:0, streamsCount:0, thanks:4, usersNotifiedUnique:9438, views:1134, whoas:6</td>\n      <td>False</td>\n      <td>red</td>\n      <td>1652073398000</td>\n      <td><a target=\"_blank\" href=\"https://citizen.com/-N1bEsSRGDCCgJok3NMf\">https://citizen.com/-N1bEsSRGDCCgJok3NMf</a></td>\n      <td>05/09/2022, 05:16:38</td>\n      <td>05/09/2022, 05:16:38</td>\n      <td>9438</td>\n    </tr>\n    <tr>\n      <th>15</th>\n      <td>Have You Seen Jahrye?</td>\n      <td>2-110 Alexander Ave, Bronx, NY, 10454, USA</td>\n      <td>Port Morris, Bronx</td>\n      <td>E 132nd St & Alexander Ave</td>\n      <td>nyc</td>\n      <td>Missing Person</td>\n      <td>-N1ZgSOXVoU8EOUptpnf</td>\n      <td>NYPD 40</td>\n      <td>None</td>\n      <td>angers:0, chats:3, hearts:31, streamViews:0, streamsConfirmed:0, streamsCount:0, thanks:125, usersNotifiedUnique:9082, views:1866, whoas:4</td>\n      <td>False</td>\n      <td>red</td>\n      <td>1652030559000</td>\n      <td><a target=\"_blank\" href=\"https://citizen.com/-N1ZgSOXVoU8EOUptpnf\">https://citizen.com/-N1ZgSOXVoU8EOUptpnf</a></td>\n      <td>05/08/2022, 17:22:39</td>\n      <td>05/08/2022, 17:22:39</td>\n      <td>9082</td>\n    </tr>\n    <tr>\n      <th>16</th>\n      <td>Man Shot</td>\n      <td>300 W 155th St, New York, New York, 10039</td>\n      <td>Harlem, Manhattan</td>\n      <td>300 W 155th St</td>\n      <td>nyc</td>\n      <td>Gun Related</td>\n      <td>-N1b5s1ajAixc1-3lC6k</td>\n      <td>NYPD 32</td>\n      <td>None</td>\n      <td>angers:11, chats:10, hearts:16, streamViews:0, streamsConfirmed:0, streamsCount:1, thanks:8, usersNotifiedUnique:8830, views:1628, whoas:18</td>\n      <td>False</td>\n      <td>red</td>\n      <td>1652070991000</td>\n      <td><a target=\"_blank\" href=\"https://citizen.com/-N1b5s1ajAixc1-3lC6k\">https://citizen.com/-N1b5s1ajAixc1-3lC6k</a></td>\n      <td>05/09/2022, 04:36:31</td>\n      <td>05/09/2022, 04:36:31</td>\n      <td>8830</td>\n    </tr>\n    <tr>\n      <th>17</th>\n      <td>Man Stabbed</td>\n      <td>251 Osborn St, Brooklyn, New York, 11212</td>\n      <td>Brownsville, Brooklyn</td>\n      <td>251 Osborn St</td>\n      <td>nyc</td>\n      <td>Weapon</td>\n      <td>-N1YfvsGHHk2Wn3q7Y4J</td>\n      <td>NYPD 73</td>\n      <td><img src=\"https://storage.googleapis.com/citizen-stream-capture/mux:iIbwpnNRfbz1LdCF00cf5jBb5nAd3BJSwPvJ8niycNq4_0003.jpg\" style=max-height:124px;\"/></td>\n      <td>angers:0, chats:13, hearts:7, streamViews:0, streamsConfirmed:0, streamsCount:1, thanks:111, usersNotifiedUnique:8535, views:6591, whoas:101</td>\n      <td>True</td>\n      <td>red</td>\n      <td>1652013645000</td>\n      <td><a target=\"_blank\" href=\"https://citizen.com/-N1YfvsGHHk2Wn3q7Y4J\">https://citizen.com/-N1YfvsGHHk2Wn3q7Y4J</a></td>\n      <td>05/08/2022, 12:40:45</td>\n      <td>05/08/2022, 12:40:45</td>\n      <td>8535</td>\n    </tr>\n    <tr>\n      <th>18</th>\n      <td>Man Shot in Left Leg</td>\n      <td>140 W Fordham Rd, Bronx, New York, 10468</td>\n      <td>University Heights, Bronx</td>\n      <td>140 W Fordham Rd</td>\n      <td>nyc</td>\n      <td>Gun Related</td>\n      <td>-N1bfM24bDFdrsOxVXiH</td>\n      <td>NYPD 52</td>\n      <td>None</td>\n      <td>angers:1, chats:7, hearts:0, streamViews:0, streamsConfirmed:0, streamsCount:0, thanks:1, usersNotifiedUnique:8461, views:968, whoas:0</td>\n      <td>False</td>\n      <td>red</td>\n      <td>1652080602000</td>\n      <td><a target=\"_blank\" href=\"https://citizen.com/-N1bfM24bDFdrsOxVXiH\">https://citizen.com/-N1bfM24bDFdrsOxVXiH</a></td>\n      <td>05/09/2022, 07:16:42</td>\n      <td>05/09/2022, 07:16:42</td>\n      <td>8461</td>\n    </tr>\n    <tr>\n      <th>19</th>\n      <td>Person Robbed at Knifepoint</td>\n      <td>1600 Sedgwick Ave, Bronx, New York, 10453</td>\n      <td>Morris Heights, Bronx</td>\n      <td>1600 Sedgwick Ave</td>\n      <td>nyc</td>\n      <td>Robbery / Theft</td>\n      <td>-N1aQFKUfCwIm6PX9PzP</td>\n      <td>NYPD 46</td>\n      <td>None</td>\n      <td>angers:41, chats:0, hearts:0, streamViews:0, streamsConfirmed:0, streamsCount:0, thanks:0, usersNotifiedUnique:8169, views:1119, whoas:0</td>\n      <td>False</td>\n      <td>red</td>\n      <td>1652059601000</td>\n      <td><a target=\"_blank\" href=\"https://citizen.com/-N1aQFKUfCwIm6PX9PzP\">https://citizen.com/-N1aQFKUfCwIm6PX9PzP</a></td>\n      <td>05/09/2022, 01:26:41</td>\n      <td>05/09/2022, 01:26:41</td>\n      <td>8169</td>\n    </tr>\n    <tr>\n      <th>20</th>\n      <td>Person Assaulted With Knife</td>\n      <td>1361 St Johns Pl, Brooklyn, New York, 11213</td>\n      <td>Crown Heights, Brooklyn</td>\n      <td>1361 St Johns Pl</td>\n      <td>nyc</td>\n      <td>Weapon</td>\n      <td>-N1aOTDEdyz84yF4B-ET</td>\n      <td>NYPD 77</td>\n      <td><img src=\"https://storage.googleapis.com/citizen-stream-capture/mux:zFC1qn2pn7JvX1v2z6E3jkWcdn01jtL8pMHXf7nwerqM_0001.jpg\" style=max-height:124px;\"/></td>\n      <td>angers:9, chats:1, hearts:3, streamViews:0, streamsConfirmed:0, streamsCount:1, thanks:11, usersNotifiedUnique:7615, views:5119, whoas:7</td>\n      <td>True</td>\n      <td>red</td>\n      <td>1652059136000</td>\n      <td><a target=\"_blank\" href=\"https://citizen.com/-N1aOTDEdyz84yF4B-ET\">https://citizen.com/-N1aOTDEdyz84yF4B-ET</a></td>\n      <td>05/09/2022, 01:18:56</td>\n      <td>05/09/2022, 01:18:56</td>\n      <td>7615</td>\n    </tr>\n    <tr>\n      <th>21</th>\n      <td>Search for Missing 80-Year-Old Woman</td>\n      <td>Claflin Ave & W 197th St, Bronx, New York, 10468</td>\n      <td>Bedford Park, Bronx</td>\n      <td>Claflin Ave & W 197th St</td>\n      <td>nyc</td>\n      <td>Missing Person</td>\n      <td>-N1ZuTS6iR_grG_kmQB1</td>\n      <td>NYPD 50</td>\n      <td>None</td>\n      <td>angers:271, chats:1, hearts:206, streamViews:0, streamsConfirmed:0, streamsCount:0, thanks:245, usersNotifiedUnique:7370, views:756, whoas:111</td>\n      <td>False</td>\n      <td>red</td>\n      <td>1652034234000</td>\n      <td><a target=\"_blank\" href=\"https://citizen.com/-N1ZuTS6iR_grG_kmQB1\">https://citizen.com/-N1ZuTS6iR_grG_kmQB1</a></td>\n      <td>05/08/2022, 18:23:54</td>\n      <td>05/08/2022, 18:23:54</td>\n      <td>7370</td>\n    </tr>\n    <tr>\n      <th>22</th>\n      <td>Commercial Building Robbed at Gunpoint</td>\n      <td>1204 White Plains Rd, Bronx, New York, 10472</td>\n      <td>Unionport, Bronx</td>\n      <td>1204 White Plains Rd</td>\n      <td>nyc</td>\n      <td>Gun Related</td>\n      <td>-N1aH_G18Jg7KPkaqAgs</td>\n      <td>NYPD 43</td>\n      <td><img src=\"https://storage.googleapis.com/citizen-stream-capture/mux:hgPqRHS9Pl9d8uhp3GRlIUwq01ok5otw02Az5SNSXuhCU_0009.jpg\" style=max-height:124px;\"/></td>\n      <td>angers:165, chats:86, hearts:70, streamViews:0, streamsConfirmed:1, streamsCount:8, thanks:82, usersNotifiedUnique:7322, views:24823, whoas:112</td>\n      <td>True</td>\n      <td>red</td>\n      <td>1652057328000</td>\n      <td><a target=\"_blank\" href=\"https://citizen.com/-N1aH_G18Jg7KPkaqAgs\">https://citizen.com/-N1aH_G18Jg7KPkaqAgs</a></td>\n      <td>05/09/2022, 00:48:48</td>\n      <td>05/09/2022, 00:48:48</td>\n      <td>7322</td>\n    </tr>\n    <tr>\n      <th>23</th>\n      <td>Person Assaulted With Knife</td>\n      <td>E 173rd St & Boston Rd, Bronx, New York, 10460</td>\n      <td>South Bronx, Bronx</td>\n      <td>E 173rd St & Boston Rd</td>\n      <td>nyc</td>\n      <td>Weapon</td>\n      <td>-N1aSJJh58u-knSRHWa8</td>\n      <td>NYPD 42</td>\n      <td>None</td>\n      <td>angers:0, chats:1, hearts:0, streamViews:0, streamsConfirmed:0, streamsCount:1, thanks:3, usersNotifiedUnique:7157, views:1045, whoas:1</td>\n      <td>False</td>\n      <td>red</td>\n      <td>1652060141000</td>\n      <td><a target=\"_blank\" href=\"https://citizen.com/-N1aSJJh58u-knSRHWa8\">https://citizen.com/-N1aSJJh58u-knSRHWa8</a></td>\n      <td>05/09/2022, 01:35:41</td>\n      <td>05/09/2022, 01:35:41</td>\n      <td>7157</td>\n    </tr>\n    <tr>\n      <th>24</th>\n      <td>Search for Missing 17-Year-Old Girl</td>\n      <td>Bryant Ave & E 172nd St, Bronx, New York, 10460</td>\n      <td>South Bronx, Bronx</td>\n      <td>Bryant Ave & E 172nd St</td>\n      <td>nyc</td>\n      <td>Missing Person</td>\n      <td>-N1ZNExdrAKdR-rENnRS</td>\n      <td>NYPD 42</td>\n      <td>None</td>\n      <td>angers:0, chats:11, hearts:2, streamViews:0, streamsConfirmed:0, streamsCount:0, thanks:7, usersNotifiedUnique:6976, views:1078, whoas:1</td>\n      <td>False</td>\n      <td>red</td>\n      <td>1652025260000</td>\n      <td><a target=\"_blank\" href=\"https://citizen.com/-N1ZNExdrAKdR-rENnRS\">https://citizen.com/-N1ZNExdrAKdR-rENnRS</a></td>\n      <td>05/08/2022, 15:54:20</td>\n      <td>05/08/2022, 15:54:20</td>\n      <td>6976</td>\n    </tr>\n    <tr>\n      <th>25</th>\n      <td>Man Slashed</td>\n      <td>543 Southern Blvd, Bronx, New York, 10455</td>\n      <td>Longwood, Bronx</td>\n      <td>543 Southern Blvd</td>\n      <td>nyc</td>\n      <td>Weapon</td>\n      <td>-N1ch7SOvT8SAWbeqOE9</td>\n      <td>NYPD 41</td>\n      <td>None</td>\n      <td>angers:0, chats:1, hearts:0, streamViews:0, streamsConfirmed:0, streamsCount:0, thanks:0, usersNotifiedUnique:6447, views:650, whoas:2</td>\n      <td>False</td>\n      <td>red</td>\n      <td>1652097846000</td>\n      <td><a target=\"_blank\" href=\"https://citizen.com/-N1ch7SOvT8SAWbeqOE9\">https://citizen.com/-N1ch7SOvT8SAWbeqOE9</a></td>\n      <td>05/09/2022, 12:04:06</td>\n      <td>05/09/2022, 12:04:06</td>\n      <td>6447</td>\n    </tr>\n    <tr>\n      <th>26</th>\n      <td>Four Shots Fired</td>\n      <td>657 Vermont St, Brooklyn, New York, 11207</td>\n      <td>East New York, Brooklyn</td>\n      <td>657 Vermont St</td>\n      <td>nyc</td>\n      <td>Gun Related</td>\n      <td>-N1ZO5lKQQvVhamjb8Ep</td>\n      <td>NYPD 75</td>\n      <td>None</td>\n      <td>angers:4, chats:34, hearts:0, streamViews:0, streamsConfirmed:0, streamsCount:1, thanks:133, usersNotifiedUnique:6355, views:2084, whoas:176</td>\n      <td>False</td>\n      <td>red</td>\n      <td>1652025486000</td>\n      <td><a target=\"_blank\" href=\"https://citizen.com/-N1ZO5lKQQvVhamjb8Ep\">https://citizen.com/-N1ZO5lKQQvVhamjb8Ep</a></td>\n      <td>05/08/2022, 15:58:06</td>\n      <td>05/08/2022, 15:58:06</td>\n      <td>6355</td>\n    </tr>\n    <tr>\n      <th>27</th>\n      <td>Help Find This 16-Year-Old Girl</td>\n      <td>New Utrecht Ave & 85th St, Brooklyn, New York, 11214</td>\n      <td>New Utrecht, Brooklyn</td>\n      <td>New Utrecht Ave & 85th St</td>\n      <td>nyc</td>\n      <td>Missing Person</td>\n      <td>-N1a7BcfFN-tLplr2sNW</td>\n      <td>NYPD 62</td>\n      <td>None</td>\n      <td>angers:3, chats:22, hearts:68, streamViews:0, streamsConfirmed:0, streamsCount:0, thanks:25, usersNotifiedUnique:6231, views:2376, whoas:103</td>\n      <td>False</td>\n      <td>red</td>\n      <td>1652054608000</td>\n      <td><a target=\"_blank\" href=\"https://citizen.com/-N1a7BcfFN-tLplr2sNW\">https://citizen.com/-N1a7BcfFN-tLplr2sNW</a></td>\n      <td>05/09/2022, 00:03:28</td>\n      <td>05/09/2022, 00:03:28</td>\n      <td>6231</td>\n    </tr>\n    <tr>\n      <th>28</th>\n      <td>Shots Fired</td>\n      <td>Grand Concourse & Bedford Park Blvd E, Bronx, New York, 10468</td>\n      <td>Bedford Park, Bronx</td>\n      <td>Grand Concourse & Bedford Park Blvd E</td>\n      <td>nyc</td>\n      <td>Gun Related</td>\n      <td>-N1_VCNjQWfPnBKm5v7h</td>\n      <td>NYPD 52</td>\n      <td>None</td>\n      <td>angers:32, chats:11, hearts:2, streamViews:0, streamsConfirmed:0, streamsCount:0, thanks:3, usersNotifiedUnique:6205, views:1608, whoas:5</td>\n      <td>False</td>\n      <td>red</td>\n      <td>1652044122000</td>\n      <td><a target=\"_blank\" href=\"https://citizen.com/-N1_VCNjQWfPnBKm5v7h\">https://citizen.com/-N1_VCNjQWfPnBKm5v7h</a></td>\n      <td>05/08/2022, 21:08:42</td>\n      <td>05/08/2022, 21:08:42</td>\n      <td>6205</td>\n    </tr>\n    <tr>\n      <th>29</th>\n      <td>Rollover Vehicle Collision</td>\n      <td>Liberty Ave & Hendrix St, Brooklyn, New York, 11207</td>\n      <td>East New York, Brooklyn</td>\n      <td>Liberty Ave & Hendrix St</td>\n      <td>nyc</td>\n      <td>Traffic Related</td>\n      <td>-N1YjaS52p8RlNVC6-HH</td>\n      <td>NYPD 75</td>\n      <td><img src=\"https://storage.googleapis.com/citizen-stream-capture/mux:2zS5Lzo02s5c3mm9gJNjV74MIW3DzciNe8QOWk1sam8I_0013.jpg\" style=max-height:124px;\"/></td>\n      <td>angers:3, chats:15, hearts:47, streamViews:0, streamsConfirmed:0, streamsCount:1, thanks:65, usersNotifiedUnique:5533, views:11600, whoas:24</td>\n      <td>True</td>\n      <td>red</td>\n      <td>1652014606000</td>\n      <td><a target=\"_blank\" href=\"https://citizen.com/-N1YjaS52p8RlNVC6-HH\">https://citizen.com/-N1YjaS52p8RlNVC6-HH</a></td>\n      <td>05/08/2022, 12:56:46</td>\n      <td>05/08/2022, 12:56:46</td>\n      <td>5533</td>\n    </tr>\n    <tr>\n      <th>30</th>\n      <td>Man Stabbed in Leg</td>\n      <td>W 177th St & Fort Washington Ave, New York, New York, 10033</td>\n      <td>Washington Heights, Manhattan</td>\n      <td>W 177th St & Fort Washington Ave</td>\n      <td>nyc</td>\n      <td>Weapon</td>\n      <td>-N1b5D8a_XvG3Pgv13_u</td>\n      <td>NYPD 33</td>\n      <td>None</td>\n      <td>angers:2, chats:7, hearts:1, streamViews:0, streamsConfirmed:0, streamsCount:0, thanks:4, usersNotifiedUnique:5203, views:974, whoas:60</td>\n      <td>False</td>\n      <td>red</td>\n      <td>1652070820000</td>\n      <td><a target=\"_blank\" href=\"https://citizen.com/-N1b5D8a_XvG3Pgv13_u\">https://citizen.com/-N1b5D8a_XvG3Pgv13_u</a></td>\n      <td>05/09/2022, 04:33:40</td>\n      <td>05/09/2022, 04:33:40</td>\n      <td>5203</td>\n    </tr>\n    <tr>\n      <th>31</th>\n      <td>Man Slashed</td>\n      <td>3617 White Plains Rd, Bronx, New York, 10467</td>\n      <td>Williamsbridge, Bronx</td>\n      <td>3617 White Plains Rd</td>\n      <td>nyc</td>\n      <td>Weapon</td>\n      <td>-N1YZM6YNPoyTi2mWQGC</td>\n      <td>NYPD 47</td>\n      <td><img src=\"https://storage.googleapis.com/citizen-stream-capture/mux:fKpFvWY9dDVXuX51JF4ZBWzs314DebYsbgv8jJjZx01g_0007.jpg\" style=max-height:124px;\"/></td>\n      <td>angers:6, chats:19, hearts:8, streamViews:0, streamsConfirmed:0, streamsCount:2, thanks:21, usersNotifiedUnique:4971, views:7790, whoas:7</td>\n      <td>True</td>\n      <td>red</td>\n      <td>1652011661000</td>\n      <td><a target=\"_blank\" href=\"https://citizen.com/-N1YZM6YNPoyTi2mWQGC\">https://citizen.com/-N1YZM6YNPoyTi2mWQGC</a></td>\n      <td>05/08/2022, 12:07:41</td>\n      <td>05/08/2022, 12:07:41</td>\n      <td>4971</td>\n    </tr>\n    <tr>\n      <th>32</th>\n      <td>Search for Missing 76-Year-Old Man</td>\n      <td>55th St & Woodside Ave, Woodside, New York, 11377</td>\n      <td>Woodside, Queens</td>\n      <td>55th St & Woodside Ave</td>\n      <td>nyc</td>\n      <td>Missing Person</td>\n      <td>-N1Z8jxACtmffet0KAK7</td>\n      <td>NYPD 108</td>\n      <td>None</td>\n      <td>angers:0, chats:3, hearts:0, streamViews:0, streamsConfirmed:0, streamsCount:0, thanks:13, usersNotifiedUnique:4879, views:751, whoas:5</td>\n      <td>False</td>\n      <td>red</td>\n      <td>1652021460000</td>\n      <td><a target=\"_blank\" href=\"https://citizen.com/-N1Z8jxACtmffet0KAK7\">https://citizen.com/-N1Z8jxACtmffet0KAK7</a></td>\n      <td>05/08/2022, 14:51:00</td>\n      <td>05/08/2022, 14:51:00</td>\n      <td>4879</td>\n    </tr>\n    <tr>\n      <th>33</th>\n      <td>Second-Floor Apartment Fire</td>\n      <td>969 43rd St, Brooklyn, New York, 11219</td>\n      <td>Borough Park, Brooklyn</td>\n      <td>969 43rd St</td>\n      <td>nyc</td>\n      <td>Fire</td>\n      <td>-N1ZFtAVuCMqKRT3vHrv</td>\n      <td>NYPD 66</td>\n      <td><img src=\"https://storage.googleapis.com/citizen-stream-capture/mux:QIOWGF6ZCzTIraLt2h6rZvb6C9bkm02mAcyBY802P01hqM_0000.jpg\" style=max-height:124px;\"/></td>\n      <td>angers:3, chats:22, hearts:63, streamViews:0, streamsConfirmed:0, streamsCount:2, thanks:28, usersNotifiedUnique:4811, views:18272, whoas:15</td>\n      <td>True</td>\n      <td>red</td>\n      <td>1652023333000</td>\n      <td><a target=\"_blank\" href=\"https://citizen.com/-N1ZFtAVuCMqKRT3vHrv\">https://citizen.com/-N1ZFtAVuCMqKRT3vHrv</a></td>\n      <td>05/08/2022, 15:22:13</td>\n      <td>05/08/2022, 15:22:13</td>\n      <td>4811</td>\n    </tr>\n    <tr>\n      <th>34</th>\n      <td>Person Critically Injured After Neck Slashed</td>\n      <td>2309 Westchester Ave, Bronx, New York, 10462</td>\n      <td>Westchester Heights, Bronx</td>\n      <td>2309 Westchester Ave</td>\n      <td>nyc</td>\n      <td>Weapon</td>\n      <td>-N1YVemsIjOJji1hEiE0</td>\n      <td>NYPD 45</td>\n      <td>None</td>\n      <td>angers:7, chats:10, hearts:0, streamViews:0, streamsConfirmed:0, streamsCount:0, thanks:60, usersNotifiedUnique:4203, views:897, whoas:2</td>\n      <td>False</td>\n      <td>red</td>\n      <td>1652010693000</td>\n      <td><a target=\"_blank\" href=\"https://citizen.com/-N1YVemsIjOJji1hEiE0\">https://citizen.com/-N1YVemsIjOJji1hEiE0</a></td>\n      <td>05/08/2022, 11:51:33</td>\n      <td>05/08/2022, 11:51:33</td>\n      <td>4203</td>\n    </tr>\n    <tr>\n      <th>35</th>\n      <td>Man Fired Shots</td>\n      <td>107-39 159th St, Jamaica, New York, 11433</td>\n      <td>Jamaica, Queens</td>\n      <td>107-39 159th St</td>\n      <td>nyc</td>\n      <td>Gun Related</td>\n      <td>-N1YSug-RLdq9dmbADaY</td>\n      <td>NYPD 103</td>\n      <td>None</td>\n      <td>angers:282, chats:5, hearts:0, streamViews:0, streamsConfirmed:0, streamsCount:0, thanks:0, usersNotifiedUnique:3871, views:924, whoas:1</td>\n      <td>False</td>\n      <td>red</td>\n      <td>1652009970000</td>\n      <td><a target=\"_blank\" href=\"https://citizen.com/-N1YSug-RLdq9dmbADaY\">https://citizen.com/-N1YSug-RLdq9dmbADaY</a></td>\n      <td>05/08/2022, 11:39:30</td>\n      <td>05/08/2022, 11:39:30</td>\n      <td>3871</td>\n    </tr>\n    <tr>\n      <th>36</th>\n      <td>Woman Pulled From Overturned Car</td>\n      <td>6301 Avenue T, Brooklyn, NY, 11234, USA</td>\n      <td>Mill Basin, Brooklyn</td>\n      <td>6301 Avenue T</td>\n      <td>nyc</td>\n      <td>Traffic Related</td>\n      <td>-N1_X5_JGquiZYPyI76B</td>\n      <td>NYPD 63</td>\n      <td><img src=\"https://storage.googleapis.com/citizen-stream-capture/mux:Ws01fBcmtCCiGy5PpLse02W4r9xhZD8DIQrlEjDQ7fu00A_0000.jpg\" style=max-height:124px;\"/></td>\n      <td>angers:11, chats:7, hearts:10, streamViews:0, streamsConfirmed:0, streamsCount:2, thanks:18, usersNotifiedUnique:3291, views:11480, whoas:8</td>\n      <td>True</td>\n      <td>red</td>\n      <td>1652044622000</td>\n      <td><a target=\"_blank\" href=\"https://citizen.com/-N1_X5_JGquiZYPyI76B\">https://citizen.com/-N1_X5_JGquiZYPyI76B</a></td>\n      <td>05/08/2022, 21:17:02</td>\n      <td>05/08/2022, 21:17:02</td>\n      <td>3291</td>\n    </tr>\n    <tr>\n      <th>37</th>\n      <td>Woman Critically Injured After Trapped by Stolen Pick-Up Struck; Suspect at Large</td>\n      <td>120th Ave & 167th St, Jamaica, New York, 11434</td>\n      <td>Jamaica, Queens</td>\n      <td>120th Ave & 167th St</td>\n      <td>nyc</td>\n      <td>Pursuit / Search</td>\n      <td>-N1Yexp2TllInmGc2ewC</td>\n      <td>NYPD 113</td>\n      <td>None</td>\n      <td>angers:168, chats:15, hearts:4, streamViews:0, streamsConfirmed:0, streamsCount:1, thanks:203, usersNotifiedUnique:3105, views:2512, whoas:172</td>\n      <td>False</td>\n      <td>red</td>\n      <td>1652013391000</td>\n      <td><a target=\"_blank\" href=\"https://citizen.com/-N1Yexp2TllInmGc2ewC\">https://citizen.com/-N1Yexp2TllInmGc2ewC</a></td>\n      <td>05/08/2022, 12:36:31</td>\n      <td>05/08/2022, 12:36:31</td>\n      <td>3105</td>\n    </tr>\n    <tr>\n      <th>38</th>\n      <td>Shots Fired</td>\n      <td>20-44 20th St, Astoria, New York, 11105</td>\n      <td>Astoria, Queens</td>\n      <td>20-44 20th St</td>\n      <td>nyc</td>\n      <td>Gun Related</td>\n      <td>-N1b5KcJrB3dD_GibRVI</td>\n      <td>NYPD 114</td>\n      <td>None</td>\n      <td>angers:0, chats:32, hearts:0, streamViews:0, streamsConfirmed:0, streamsCount:0, thanks:2, usersNotifiedUnique:3030, views:1146, whoas:1</td>\n      <td>False</td>\n      <td>red</td>\n      <td>1652070883000</td>\n      <td><a target=\"_blank\" href=\"https://citizen.com/-N1b5KcJrB3dD_GibRVI\">https://citizen.com/-N1b5KcJrB3dD_GibRVI</a></td>\n      <td>05/09/2022, 04:34:43</td>\n      <td>05/09/2022, 04:34:43</td>\n      <td>3030</td>\n    </tr>\n    <tr>\n      <th>39</th>\n      <td>Person Shot</td>\n      <td>13-52 Pinson St, Far Rockaway, New York, 11691</td>\n      <td>Far Rockaway, Queens</td>\n      <td>13-52 Pinson St</td>\n      <td>nyc</td>\n      <td>Gun Related</td>\n      <td>-N1b2hfd-oTnJaeAZoUo</td>\n      <td>NYPD 101</td>\n      <td>None</td>\n      <td>angers:102, chats:14, hearts:10, streamViews:0, streamsConfirmed:0, streamsCount:0, thanks:13, usersNotifiedUnique:2362, views:1066, whoas:13</td>\n      <td>False</td>\n      <td>red</td>\n      <td>1652070195000</td>\n      <td><a target=\"_blank\" href=\"https://citizen.com/-N1b2hfd-oTnJaeAZoUo\">https://citizen.com/-N1b2hfd-oTnJaeAZoUo</a></td>\n      <td>05/09/2022, 04:23:15</td>\n      <td>05/09/2022, 04:23:15</td>\n      <td>2362</td>\n    </tr>\n    <tr>\n      <th>40</th>\n      <td>Vehicle Overturned After Collision</td>\n      <td>Belt Pkwy & Rockaway Pkwy, Brooklyn, New York, 11236</td>\n      <td>Canarsie, Brooklyn</td>\n      <td>Belt Pkwy & Rockaway Pkwy</td>\n      <td>nyc</td>\n      <td>Traffic Related</td>\n      <td>-N1b5Du5CYNiutUFBViw</td>\n      <td>NYPD 69</td>\n      <td>None</td>\n      <td>angers:204, chats:16, hearts:114, streamViews:0, streamsConfirmed:0, streamsCount:0, thanks:22, usersNotifiedUnique:2095, views:1000, whoas:4</td>\n      <td>False</td>\n      <td>red</td>\n      <td>1652070875000</td>\n      <td><a target=\"_blank\" href=\"https://citizen.com/-N1b5Du5CYNiutUFBViw\">https://citizen.com/-N1b5Du5CYNiutUFBViw</a></td>\n      <td>05/09/2022, 04:34:35</td>\n      <td>05/09/2022, 04:34:35</td>\n      <td>2095</td>\n    </tr>\n    <tr>\n      <th>41</th>\n      <td>Overturned Vehicle</td>\n      <td>168th Pl & Grand Central Pkwy, Jamaica, New York, 11432</td>\n      <td>Jamaica Hills, Queens</td>\n      <td>168th Pl & Grand Central Pkwy</td>\n      <td>nyc</td>\n      <td>Traffic Related</td>\n      <td>-N1YJMgDQFfls8DuTjo4</td>\n      <td>NYPD 107</td>\n      <td>None</td>\n      <td>angers:0, chats:0, hearts:0, streamViews:0, streamsConfirmed:0, streamsCount:0, thanks:0, usersNotifiedUnique:1370, views:229, whoas:0</td>\n      <td>False</td>\n      <td>red</td>\n      <td>1652007473000</td>\n      <td><a target=\"_blank\" href=\"https://citizen.com/-N1YJMgDQFfls8DuTjo4\">https://citizen.com/-N1YJMgDQFfls8DuTjo4</a></td>\n      <td>05/08/2022, 10:57:53</td>\n      <td>05/08/2022, 10:57:53</td>\n      <td>1370</td>\n    </tr>\n  </tbody>\n</table>\n  </body>\n  <script> \n    function get_info(selected_key) { google.colab.kernel.invokeFunction('notebook.show_incident_data', [], {selected_key}); }\n    var rows = Array.from(document.getElementsByTagName('tr'));\n    // remove header row\n    rows.shift();\n    rows.forEach((row, i) => {\n      row.addEventListener('click', () => {\n        get_info(row.getElementsByTagName('td')[6].innerHTML);\n      });\n    }); \n  </script>\n"
                },
                "metadata": {}
              }
            ]
          }
        },
        "9c3d8cc3dc9c4c1b8780481855a8417e": {
          "model_module": "@jupyter-widgets/base",
          "model_name": "LayoutModel",
          "model_module_version": "1.2.0",
          "state": {
            "_model_module": "@jupyter-widgets/base",
            "_model_module_version": "1.2.0",
            "_model_name": "LayoutModel",
            "_view_count": null,
            "_view_module": "@jupyter-widgets/base",
            "_view_module_version": "1.2.0",
            "_view_name": "LayoutView",
            "align_content": null,
            "align_items": null,
            "align_self": null,
            "border": null,
            "bottom": null,
            "display": null,
            "flex": null,
            "flex_flow": null,
            "grid_area": null,
            "grid_auto_columns": null,
            "grid_auto_flow": null,
            "grid_auto_rows": null,
            "grid_column": null,
            "grid_gap": null,
            "grid_row": null,
            "grid_template_areas": null,
            "grid_template_columns": null,
            "grid_template_rows": null,
            "height": null,
            "justify_content": null,
            "justify_items": null,
            "left": null,
            "margin": null,
            "max_height": null,
            "max_width": null,
            "min_height": null,
            "min_width": null,
            "object_fit": null,
            "object_position": null,
            "order": null,
            "overflow": null,
            "overflow_x": null,
            "overflow_y": null,
            "padding": null,
            "right": null,
            "top": null,
            "visibility": null,
            "width": null
          }
        },
        "b2755a20e47641679358a86c6b3bcf69": {
          "model_module": "@jupyter-widgets/output",
          "model_name": "OutputModel",
          "model_module_version": "1.0.0",
          "state": {
            "_dom_classes": [],
            "_model_module": "@jupyter-widgets/output",
            "_model_module_version": "1.0.0",
            "_model_name": "OutputModel",
            "_view_count": null,
            "_view_module": "@jupyter-widgets/output",
            "_view_module_version": "1.0.0",
            "_view_name": "OutputView",
            "layout": "IPY_MODEL_de4b5a79dd214b12a4ad1dc04a7d3a25",
            "msg_id": "",
            "outputs": [
              {
                "output_type": "display_data",
                "data": {
                  "text/plain": "<IPython.core.display.HTML object>",
                  "text/html": "Citizen incident link: <a href=https://citizen.com/-N1Rx9bkW_KA-ZpHiN3m>One Critically Injured in South Dallas Double Shooting</a>"
                },
                "metadata": {}
              },
              {
                "output_type": "display_data",
                "data": {
                  "text/plain": "            Fields                                             Values\n0            title  One Critically Injured in South Dallas Double ...\n1          address           Lagow St & York St, Dallas, Texas, 75210\n2     neighborhood                     South Dallas/Fair Park, Dallas\n3         location                                 Lagow St & York St\n4         cityCode                                       us-tx-dallas\n5       categories                                        Gun Related\n6          updates  {'-N1Rx70NB2XvMM882uPb': {'text': 'Incident re...\n7              key                               -N1Rx9bkW_KA-ZpHiN3m\n8           police                                         DPD SE 312\n9   shareImageLive                                               None\n10           stats  angers:0, chats:0, hearts:0, streamViews:0, st...\n11          hasVod                                              False\n12        severity                                                red\n13              cs                                      1651900711000\n14             url           https://citizen.com/-N1Rx9bkW_KA-ZpHiN3m\n15      created_at                               05/07/2022, 05:18:31\n16      updated_at                               05/07/2022, 05:18:31\n17   usersNotified                                                505",
                  "text/html": "\n  <div id=\"df-cd2787ee-a079-472a-90ed-179baaccb0e9\">\n    <div class=\"colab-df-container\">\n      <div>\n<style scoped>\n    .dataframe tbody tr th:only-of-type {\n        vertical-align: middle;\n    }\n\n    .dataframe tbody tr th {\n        vertical-align: top;\n    }\n\n    .dataframe thead th {\n        text-align: right;\n    }\n</style>\n<table border=\"1\" class=\"dataframe\">\n  <thead>\n    <tr style=\"text-align: right;\">\n      <th></th>\n      <th>Fields</th>\n      <th>Values</th>\n    </tr>\n  </thead>\n  <tbody>\n    <tr>\n      <th>0</th>\n      <td>title</td>\n      <td>One Critically Injured in South Dallas Double ...</td>\n    </tr>\n    <tr>\n      <th>1</th>\n      <td>address</td>\n      <td>Lagow St &amp; York St, Dallas, Texas, 75210</td>\n    </tr>\n    <tr>\n      <th>2</th>\n      <td>neighborhood</td>\n      <td>South Dallas/Fair Park, Dallas</td>\n    </tr>\n    <tr>\n      <th>3</th>\n      <td>location</td>\n      <td>Lagow St &amp; York St</td>\n    </tr>\n    <tr>\n      <th>4</th>\n      <td>cityCode</td>\n      <td>us-tx-dallas</td>\n    </tr>\n    <tr>\n      <th>5</th>\n      <td>categories</td>\n      <td>Gun Related</td>\n    </tr>\n    <tr>\n      <th>6</th>\n      <td>updates</td>\n      <td>{'-N1Rx70NB2XvMM882uPb': {'text': 'Incident re...</td>\n    </tr>\n    <tr>\n      <th>7</th>\n      <td>key</td>\n      <td>-N1Rx9bkW_KA-ZpHiN3m</td>\n    </tr>\n    <tr>\n      <th>8</th>\n      <td>police</td>\n      <td>DPD SE 312</td>\n    </tr>\n    <tr>\n      <th>9</th>\n      <td>shareImageLive</td>\n      <td>None</td>\n    </tr>\n    <tr>\n      <th>10</th>\n      <td>stats</td>\n      <td>angers:0, chats:0, hearts:0, streamViews:0, st...</td>\n    </tr>\n    <tr>\n      <th>11</th>\n      <td>hasVod</td>\n      <td>False</td>\n    </tr>\n    <tr>\n      <th>12</th>\n      <td>severity</td>\n      <td>red</td>\n    </tr>\n    <tr>\n      <th>13</th>\n      <td>cs</td>\n      <td>1651900711000</td>\n    </tr>\n    <tr>\n      <th>14</th>\n      <td>url</td>\n      <td>https://citizen.com/-N1Rx9bkW_KA-ZpHiN3m</td>\n    </tr>\n    <tr>\n      <th>15</th>\n      <td>created_at</td>\n      <td>05/07/2022, 05:18:31</td>\n    </tr>\n    <tr>\n      <th>16</th>\n      <td>updated_at</td>\n      <td>05/07/2022, 05:18:31</td>\n    </tr>\n    <tr>\n      <th>17</th>\n      <td>usersNotified</td>\n      <td>505</td>\n    </tr>\n  </tbody>\n</table>\n</div>\n      <button class=\"colab-df-convert\" onclick=\"convertToInteractive('df-cd2787ee-a079-472a-90ed-179baaccb0e9')\"\n              title=\"Convert this dataframe to an interactive table.\"\n              style=\"display:none;\">\n        \n  <svg xmlns=\"http://www.w3.org/2000/svg\" height=\"24px\"viewBox=\"0 0 24 24\"\n       width=\"24px\">\n    <path d=\"M0 0h24v24H0V0z\" fill=\"none\"/>\n    <path d=\"M18.56 5.44l.94 2.06.94-2.06 2.06-.94-2.06-.94-.94-2.06-.94 2.06-2.06.94zm-11 1L8.5 8.5l.94-2.06 2.06-.94-2.06-.94L8.5 2.5l-.94 2.06-2.06.94zm10 10l.94 2.06.94-2.06 2.06-.94-2.06-.94-.94-2.06-.94 2.06-2.06.94z\"/><path d=\"M17.41 7.96l-1.37-1.37c-.4-.4-.92-.59-1.43-.59-.52 0-1.04.2-1.43.59L10.3 9.45l-7.72 7.72c-.78.78-.78 2.05 0 2.83L4 21.41c.39.39.9.59 1.41.59.51 0 1.02-.2 1.41-.59l7.78-7.78 2.81-2.81c.8-.78.8-2.07 0-2.86zM5.41 20L4 18.59l7.72-7.72 1.47 1.35L5.41 20z\"/>\n  </svg>\n      </button>\n      \n  <style>\n    .colab-df-container {\n      display:flex;\n      flex-wrap:wrap;\n      gap: 12px;\n    }\n\n    .colab-df-convert {\n      background-color: #E8F0FE;\n      border: none;\n      border-radius: 50%;\n      cursor: pointer;\n      display: none;\n      fill: #1967D2;\n      height: 32px;\n      padding: 0 0 0 0;\n      width: 32px;\n    }\n\n    .colab-df-convert:hover {\n      background-color: #E2EBFA;\n      box-shadow: 0px 1px 2px rgba(60, 64, 67, 0.3), 0px 1px 3px 1px rgba(60, 64, 67, 0.15);\n      fill: #174EA6;\n    }\n\n    [theme=dark] .colab-df-convert {\n      background-color: #3B4455;\n      fill: #D2E3FC;\n    }\n\n    [theme=dark] .colab-df-convert:hover {\n      background-color: #434B5C;\n      box-shadow: 0px 1px 3px 1px rgba(0, 0, 0, 0.15);\n      filter: drop-shadow(0px 1px 2px rgba(0, 0, 0, 0.3));\n      fill: #FFFFFF;\n    }\n  </style>\n\n      <script>\n        const buttonEl =\n          document.querySelector('#df-cd2787ee-a079-472a-90ed-179baaccb0e9 button.colab-df-convert');\n        buttonEl.style.display =\n          google.colab.kernel.accessAllowed ? 'block' : 'none';\n\n        async function convertToInteractive(key) {\n          const element = document.querySelector('#df-cd2787ee-a079-472a-90ed-179baaccb0e9');\n          const dataTable =\n            await google.colab.kernel.invokeFunction('convertToInteractive',\n                                                     [key], {});\n          if (!dataTable) return;\n\n          const docLinkHtml = 'Like what you see? Visit the ' +\n            '<a target=\"_blank\" href=https://colab.research.google.com/notebooks/data_table.ipynb>data table notebook</a>'\n            + ' to learn more about interactive tables.';\n          element.innerHTML = '';\n          dataTable['output_type'] = 'display_data';\n          await google.colab.output.renderOutput(dataTable, element);\n          const docLink = document.createElement('div');\n          docLink.innerHTML = docLinkHtml;\n          element.appendChild(docLink);\n        }\n      </script>\n    </div>\n  </div>\n  ",
                  "application/vnd.google.colaboratory.module+javascript": "\n      import \"https://ssl.gstatic.com/colaboratory/data_table/f872b2c2305463fd/data_table.js\";\n\n      window.createDataTable({\n        data: [[{\n            'v': 0,\n            'f': \"0\",\n        },\n\"title\",\n\"One Critically Injured in South Dallas Double Shooting\"],\n [{\n            'v': 1,\n            'f': \"1\",\n        },\n\"address\",\n\"Lagow St & York St, Dallas, Texas, 75210\"],\n [{\n            'v': 2,\n            'f': \"2\",\n        },\n\"neighborhood\",\n\"South Dallas/Fair Park, Dallas\"],\n [{\n            'v': 3,\n            'f': \"3\",\n        },\n\"location\",\n\"Lagow St & York St\"],\n [{\n            'v': 4,\n            'f': \"4\",\n        },\n\"cityCode\",\n\"us-tx-dallas\"],\n [{\n            'v': 5,\n            'f': \"5\",\n        },\n\"categories\",\n\"Gun Related\"],\n [{\n            'v': 6,\n            'f': \"6\",\n        },\n\"updates\",\n\"{'-N1Rx70NB2XvMM882uPb': {'text': 'Incident reported at Lagow St & York St.', 'ts': 1651900710999, 'type': 'ROOT', 'displayLocation': 'Lagow St & York St'}, '-N1Rx9c0Vypqk-7AGlY5': {'text': 'Police are responding to an unconfirmed report of a person shot.', 'ts': 1651900711000, 'type': 'TEXT', 'displayLocation': 'Lagow St & York St'}, '-N1RxRPMIkFo9KzctWn0': {'text': 'Firefighters are en route.', 'ts': 1651900784000, 'type': 'TEXT', 'displayLocation': ''}, '-N1Rzr1-6F5J39c5u2GY': {'text': 'Police on the scene confirm that a man was shot in the head. Police report that the victim is still alive.', 'ts': 1651901417000, 'type': 'TEXT', 'displayLocation': ''}, '-N1S-UrKIRGWCKX-e5-T': {'text': 'Police confirm that there are two victims. A man was shot in the head, and a woman shot in the left leg.', 'ts': 1651901584000, 'type': 'TEXT', 'displayLocation': ''}, '-N1S-ihRKCqOWHwDZFKu': {'text': 'Police report that the male victim has been transported to the hospital.', 'ts': 1651901645000, 'type': 'TEXT', 'displayLocation': ''}, '-N1S0VxopFA7hbFQHZVX': {'text': 'Police report that the female victim was reportedly transported to the hospital by an unknown vehicle.', 'ts': 1651901851000, 'type': 'TEXT', 'displayLocation': ''}}\"],\n [{\n            'v': 7,\n            'f': \"7\",\n        },\n\"key\",\n\"-N1Rx9bkW_KA-ZpHiN3m\"],\n [{\n            'v': 8,\n            'f': \"8\",\n        },\n\"police\",\n\"DPD SE 312\"],\n [{\n            'v': 9,\n            'f': \"9\",\n        },\n\"shareImageLive\",\nnull],\n [{\n            'v': 10,\n            'f': \"10\",\n        },\n\"stats\",\n\"angers:0, chats:0, hearts:0, streamViews:0, streamsConfirmed:0, streamsCount:0, thanks:0, usersNotifiedUnique:505, views:198, whoas:0\"],\n [{\n            'v': 11,\n            'f': \"11\",\n        },\n\"hasVod\",\nfalse],\n [{\n            'v': 12,\n            'f': \"12\",\n        },\n\"severity\",\n\"red\"],\n [{\n            'v': 13,\n            'f': \"13\",\n        },\n\"cs\",\n1651900711000],\n [{\n            'v': 14,\n            'f': \"14\",\n        },\n\"url\",\n\"https://citizen.com/-N1Rx9bkW_KA-ZpHiN3m\"],\n [{\n            'v': 15,\n            'f': \"15\",\n        },\n\"created_at\",\n\"05/07/2022, 05:18:31\"],\n [{\n            'v': 16,\n            'f': \"16\",\n        },\n\"updated_at\",\n\"05/07/2022, 05:18:31\"],\n [{\n            'v': 17,\n            'f': \"17\",\n        },\n\"usersNotified\",\n505]],\n        columns: [[\"number\", \"index\"], [\"string\", \"Fields\"], [\"string\", \"Values\"]],\n        columnOptions: [{\"width\": \"1px\", \"className\": \"index_column\"}],\n        rowsPerPage: 25,\n        helpUrl: \"https://colab.research.google.com/notebooks/data_table.ipynb\",\n        suppressOutputScrolling: true,\n        minimumWidth: undefined,\n      });\n    "
                },
                "metadata": {}
              }
            ]
          }
        },
        "de4b5a79dd214b12a4ad1dc04a7d3a25": {
          "model_module": "@jupyter-widgets/base",
          "model_name": "LayoutModel",
          "model_module_version": "1.2.0",
          "state": {
            "_model_module": "@jupyter-widgets/base",
            "_model_module_version": "1.2.0",
            "_model_name": "LayoutModel",
            "_view_count": null,
            "_view_module": "@jupyter-widgets/base",
            "_view_module_version": "1.2.0",
            "_view_name": "LayoutView",
            "align_content": null,
            "align_items": null,
            "align_self": null,
            "border": null,
            "bottom": null,
            "display": null,
            "flex": null,
            "flex_flow": null,
            "grid_area": null,
            "grid_auto_columns": null,
            "grid_auto_flow": null,
            "grid_auto_rows": null,
            "grid_column": null,
            "grid_gap": null,
            "grid_row": null,
            "grid_template_areas": null,
            "grid_template_columns": null,
            "grid_template_rows": null,
            "height": null,
            "justify_content": null,
            "justify_items": null,
            "left": null,
            "margin": null,
            "max_height": null,
            "max_width": null,
            "min_height": null,
            "min_width": null,
            "object_fit": null,
            "object_position": null,
            "order": null,
            "overflow": null,
            "overflow_x": null,
            "overflow_y": null,
            "padding": null,
            "right": null,
            "top": null,
            "visibility": null,
            "width": null
          }
        },
        "0062ba957f01489fab6df6f0f0e84554": {
          "model_module": "@jupyter-widgets/output",
          "model_name": "OutputModel",
          "model_module_version": "1.0.0",
          "state": {
            "_dom_classes": [],
            "_model_module": "@jupyter-widgets/output",
            "_model_module_version": "1.0.0",
            "_model_name": "OutputModel",
            "_view_count": null,
            "_view_module": "@jupyter-widgets/output",
            "_view_module_version": "1.0.0",
            "_view_name": "OutputView",
            "layout": "IPY_MODEL_9c1a22e686f0450fab64e155b6944d49",
            "msg_id": "",
            "outputs": [
              {
                "output_type": "display_data",
                "data": {
                  "text/plain": "                     id            created_at  \\\n0  -N1Rx70NB2XvMM882uPb  05/07/2022, 05:18:30   \n1  -N1Rx9c0Vypqk-7AGlY5  05/07/2022, 05:18:31   \n2  -N1RxRPMIkFo9KzctWn0  05/07/2022, 05:19:44   \n3  -N1Rzr1-6F5J39c5u2GY  05/07/2022, 05:30:17   \n4  -N1S-UrKIRGWCKX-e5-T  05/07/2022, 05:33:04   \n5  -N1S-ihRKCqOWHwDZFKu  05/07/2022, 05:34:05   \n6  -N1S0VxopFA7hbFQHZVX  05/07/2022, 05:37:31   \n\n                                                text            location  \n0           Incident reported at Lagow St & York St.  Lagow St & York St  \n1  Police are responding to an unconfirmed report...  Lagow St & York St  \n2                         Firefighters are en route.                      \n3  Police on the scene confirm that a man was sho...                      \n4  Police confirm that there are two victims. A m...                      \n5  Police report that the male victim has been tr...                      \n6  Police report that the female victim was repor...                      ",
                  "text/html": "\n  <div id=\"df-12e5effd-9679-4183-b0d8-834ee261be0c\">\n    <div class=\"colab-df-container\">\n      <div>\n<style scoped>\n    .dataframe tbody tr th:only-of-type {\n        vertical-align: middle;\n    }\n\n    .dataframe tbody tr th {\n        vertical-align: top;\n    }\n\n    .dataframe thead th {\n        text-align: right;\n    }\n</style>\n<table border=\"1\" class=\"dataframe\">\n  <thead>\n    <tr style=\"text-align: right;\">\n      <th></th>\n      <th>id</th>\n      <th>created_at</th>\n      <th>text</th>\n      <th>location</th>\n    </tr>\n  </thead>\n  <tbody>\n    <tr>\n      <th>0</th>\n      <td>-N1Rx70NB2XvMM882uPb</td>\n      <td>05/07/2022, 05:18:30</td>\n      <td>Incident reported at Lagow St &amp; York St.</td>\n      <td>Lagow St &amp; York St</td>\n    </tr>\n    <tr>\n      <th>1</th>\n      <td>-N1Rx9c0Vypqk-7AGlY5</td>\n      <td>05/07/2022, 05:18:31</td>\n      <td>Police are responding to an unconfirmed report...</td>\n      <td>Lagow St &amp; York St</td>\n    </tr>\n    <tr>\n      <th>2</th>\n      <td>-N1RxRPMIkFo9KzctWn0</td>\n      <td>05/07/2022, 05:19:44</td>\n      <td>Firefighters are en route.</td>\n      <td></td>\n    </tr>\n    <tr>\n      <th>3</th>\n      <td>-N1Rzr1-6F5J39c5u2GY</td>\n      <td>05/07/2022, 05:30:17</td>\n      <td>Police on the scene confirm that a man was sho...</td>\n      <td></td>\n    </tr>\n    <tr>\n      <th>4</th>\n      <td>-N1S-UrKIRGWCKX-e5-T</td>\n      <td>05/07/2022, 05:33:04</td>\n      <td>Police confirm that there are two victims. A m...</td>\n      <td></td>\n    </tr>\n    <tr>\n      <th>5</th>\n      <td>-N1S-ihRKCqOWHwDZFKu</td>\n      <td>05/07/2022, 05:34:05</td>\n      <td>Police report that the male victim has been tr...</td>\n      <td></td>\n    </tr>\n    <tr>\n      <th>6</th>\n      <td>-N1S0VxopFA7hbFQHZVX</td>\n      <td>05/07/2022, 05:37:31</td>\n      <td>Police report that the female victim was repor...</td>\n      <td></td>\n    </tr>\n  </tbody>\n</table>\n</div>\n      <button class=\"colab-df-convert\" onclick=\"convertToInteractive('df-12e5effd-9679-4183-b0d8-834ee261be0c')\"\n              title=\"Convert this dataframe to an interactive table.\"\n              style=\"display:none;\">\n        \n  <svg xmlns=\"http://www.w3.org/2000/svg\" height=\"24px\"viewBox=\"0 0 24 24\"\n       width=\"24px\">\n    <path d=\"M0 0h24v24H0V0z\" fill=\"none\"/>\n    <path d=\"M18.56 5.44l.94 2.06.94-2.06 2.06-.94-2.06-.94-.94-2.06-.94 2.06-2.06.94zm-11 1L8.5 8.5l.94-2.06 2.06-.94-2.06-.94L8.5 2.5l-.94 2.06-2.06.94zm10 10l.94 2.06.94-2.06 2.06-.94-2.06-.94-.94-2.06-.94 2.06-2.06.94z\"/><path d=\"M17.41 7.96l-1.37-1.37c-.4-.4-.92-.59-1.43-.59-.52 0-1.04.2-1.43.59L10.3 9.45l-7.72 7.72c-.78.78-.78 2.05 0 2.83L4 21.41c.39.39.9.59 1.41.59.51 0 1.02-.2 1.41-.59l7.78-7.78 2.81-2.81c.8-.78.8-2.07 0-2.86zM5.41 20L4 18.59l7.72-7.72 1.47 1.35L5.41 20z\"/>\n  </svg>\n      </button>\n      \n  <style>\n    .colab-df-container {\n      display:flex;\n      flex-wrap:wrap;\n      gap: 12px;\n    }\n\n    .colab-df-convert {\n      background-color: #E8F0FE;\n      border: none;\n      border-radius: 50%;\n      cursor: pointer;\n      display: none;\n      fill: #1967D2;\n      height: 32px;\n      padding: 0 0 0 0;\n      width: 32px;\n    }\n\n    .colab-df-convert:hover {\n      background-color: #E2EBFA;\n      box-shadow: 0px 1px 2px rgba(60, 64, 67, 0.3), 0px 1px 3px 1px rgba(60, 64, 67, 0.15);\n      fill: #174EA6;\n    }\n\n    [theme=dark] .colab-df-convert {\n      background-color: #3B4455;\n      fill: #D2E3FC;\n    }\n\n    [theme=dark] .colab-df-convert:hover {\n      background-color: #434B5C;\n      box-shadow: 0px 1px 3px 1px rgba(0, 0, 0, 0.15);\n      filter: drop-shadow(0px 1px 2px rgba(0, 0, 0, 0.3));\n      fill: #FFFFFF;\n    }\n  </style>\n\n      <script>\n        const buttonEl =\n          document.querySelector('#df-12e5effd-9679-4183-b0d8-834ee261be0c button.colab-df-convert');\n        buttonEl.style.display =\n          google.colab.kernel.accessAllowed ? 'block' : 'none';\n\n        async function convertToInteractive(key) {\n          const element = document.querySelector('#df-12e5effd-9679-4183-b0d8-834ee261be0c');\n          const dataTable =\n            await google.colab.kernel.invokeFunction('convertToInteractive',\n                                                     [key], {});\n          if (!dataTable) return;\n\n          const docLinkHtml = 'Like what you see? Visit the ' +\n            '<a target=\"_blank\" href=https://colab.research.google.com/notebooks/data_table.ipynb>data table notebook</a>'\n            + ' to learn more about interactive tables.';\n          element.innerHTML = '';\n          dataTable['output_type'] = 'display_data';\n          await google.colab.output.renderOutput(dataTable, element);\n          const docLink = document.createElement('div');\n          docLink.innerHTML = docLinkHtml;\n          element.appendChild(docLink);\n        }\n      </script>\n    </div>\n  </div>\n  ",
                  "application/vnd.google.colaboratory.module+javascript": "\n      import \"https://ssl.gstatic.com/colaboratory/data_table/f872b2c2305463fd/data_table.js\";\n\n      window.createDataTable({\n        data: [[{\n            'v': 0,\n            'f': \"0\",\n        },\n\"-N1Rx70NB2XvMM882uPb\",\n\"05/07/2022, 05:18:30\",\n\"Incident reported at Lagow St & York St.\",\n\"Lagow St & York St\"],\n [{\n            'v': 1,\n            'f': \"1\",\n        },\n\"-N1Rx9c0Vypqk-7AGlY5\",\n\"05/07/2022, 05:18:31\",\n\"Police are responding to an unconfirmed report of a person shot.\",\n\"Lagow St & York St\"],\n [{\n            'v': 2,\n            'f': \"2\",\n        },\n\"-N1RxRPMIkFo9KzctWn0\",\n\"05/07/2022, 05:19:44\",\n\"Firefighters are en route.\",\n\"\"],\n [{\n            'v': 3,\n            'f': \"3\",\n        },\n\"-N1Rzr1-6F5J39c5u2GY\",\n\"05/07/2022, 05:30:17\",\n\"Police on the scene confirm that a man was shot in the head. Police report that the victim is still alive.\",\n\"\"],\n [{\n            'v': 4,\n            'f': \"4\",\n        },\n\"-N1S-UrKIRGWCKX-e5-T\",\n\"05/07/2022, 05:33:04\",\n\"Police confirm that there are two victims. A man was shot in the head, and a woman shot in the left leg.\",\n\"\"],\n [{\n            'v': 5,\n            'f': \"5\",\n        },\n\"-N1S-ihRKCqOWHwDZFKu\",\n\"05/07/2022, 05:34:05\",\n\"Police report that the male victim has been transported to the hospital.\",\n\"\"],\n [{\n            'v': 6,\n            'f': \"6\",\n        },\n\"-N1S0VxopFA7hbFQHZVX\",\n\"05/07/2022, 05:37:31\",\n\"Police report that the female victim was reportedly transported to the hospital by an unknown vehicle.\",\n\"\"]],\n        columns: [[\"number\", \"index\"], [\"string\", \"id\"], [\"string\", \"created_at\"], [\"string\", \"text\"], [\"string\", \"location\"]],\n        columnOptions: [{\"width\": \"1px\", \"className\": \"index_column\"}],\n        rowsPerPage: 25,\n        helpUrl: \"https://colab.research.google.com/notebooks/data_table.ipynb\",\n        suppressOutputScrolling: true,\n        minimumWidth: undefined,\n      });\n    "
                },
                "metadata": {}
              }
            ]
          }
        },
        "9c1a22e686f0450fab64e155b6944d49": {
          "model_module": "@jupyter-widgets/base",
          "model_name": "LayoutModel",
          "model_module_version": "1.2.0",
          "state": {
            "_model_module": "@jupyter-widgets/base",
            "_model_module_version": "1.2.0",
            "_model_name": "LayoutModel",
            "_view_count": null,
            "_view_module": "@jupyter-widgets/base",
            "_view_module_version": "1.2.0",
            "_view_name": "LayoutView",
            "align_content": null,
            "align_items": null,
            "align_self": null,
            "border": null,
            "bottom": null,
            "display": null,
            "flex": null,
            "flex_flow": null,
            "grid_area": null,
            "grid_auto_columns": null,
            "grid_auto_flow": null,
            "grid_auto_rows": null,
            "grid_column": null,
            "grid_gap": null,
            "grid_row": null,
            "grid_template_areas": null,
            "grid_template_columns": null,
            "grid_template_rows": null,
            "height": null,
            "justify_content": null,
            "justify_items": null,
            "left": null,
            "margin": null,
            "max_height": null,
            "max_width": null,
            "min_height": null,
            "min_width": null,
            "object_fit": null,
            "object_position": null,
            "order": null,
            "overflow": null,
            "overflow_x": null,
            "overflow_y": null,
            "padding": null,
            "right": null,
            "top": null,
            "visibility": null,
            "width": null
          }
        },
        "78fffcda0d2d41e58e831cd253649226": {
          "model_module": "@jupyter-widgets/output",
          "model_name": "OutputModel",
          "model_module_version": "1.0.0",
          "state": {
            "_dom_classes": [],
            "_model_module": "@jupyter-widgets/output",
            "_model_module_version": "1.0.0",
            "_model_name": "OutputModel",
            "_view_count": null,
            "_view_module": "@jupyter-widgets/output",
            "_view_module_version": "1.0.0",
            "_view_name": "OutputView",
            "layout": "IPY_MODEL_de91e50712564e8fbc5468796a0d3d0c",
            "msg_id": "",
            "outputs": [
              {
                "output_type": "display_data",
                "data": {
                  "text/plain": "<IPython.core.display.HTML object>",
                  "text/html": "<table border=\"1\" class=\"dataframe\">\n  <thead>\n    <tr style=\"text-align: center;\">\n      <th></th>\n      <th>id</th>\n      <th>username</th>\n      <th>link</th>\n      <th>confirmed</th>\n    </tr>\n  </thead>\n  <tbody>\n    <tr>\n      <th>0</th>\n      <td>mux:wXuNYcGjWTc902gAYq7jS901vR2JgnixSPxKG00QIJ4e3o</td>\n      <td>Alba7ri</td>\n      <td><video width=400 controls><source src=\"https://stream.mux.com/Ebcdd1CB3W8OkuFh6QcmRuFCM3eXWT4f9bs02HXaSvwY/high.mp4\" type=\"video/mp4\"></video></td>\n      <td>False</td>\n    </tr>\n    <tr>\n      <th>1</th>\n      <td>mux:aBekUL6GIzS01QMwxpWxfVfqzEo8YH6WquO02QRYkKalQ</td>\n      <td>smh0910</td>\n      <td><video width=400 controls><source src=\"https://stream.mux.com/xNgMYbxbTLwKP8AlzEzzxibXW9refiyIaxwcW003Arss/high.mp4\" type=\"video/mp4\"></video></td>\n      <td>False</td>\n    </tr>\n    <tr>\n      <th>2</th>\n      <td>mux:vJmkCc4Ejf5cQnmFwbbuo01JGq1ECn01C02uySrbvh4TE00</td>\n      <td>BrooklynNewsLIVE718</td>\n      <td><video width=400 controls><source src=\"https://stream.mux.com/HqD6l0202lEHd2RLFNuE4VoFKGl5VhG6VA749r900dyaPA/high.mp4\" type=\"video/mp4\"></video></td>\n      <td>False</td>\n    </tr>\n    <tr>\n      <th>3</th>\n      <td>mux:00pqVThrHiylnRtJUqDt2XG01z01uN1KvKOvpbzJRWe938</td>\n      <td>ZD4</td>\n      <td><video width=400 controls><source src=\"https://stream.mux.com/VbK02Z61vuxrMO4X7H02D001w3o6lh8v6I7CSNa9ypuDNc/high.mp4\" type=\"video/mp4\"></video></td>\n      <td>False</td>\n    </tr>\n    <tr>\n      <th>4</th>\n      <td>mux:wBFGphfuLIO4PyM1J9stXG02bN2EVtPS013LFVUxsGOJc</td>\n      <td>andrewkilz</td>\n      <td><video width=400 controls><source src=\"https://stream.mux.com/f53oiJUG6DHZKGFxg3xDcvbMzJOX9O3hXON9j01kUdqE/high.mp4\" type=\"video/mp4\"></video></td>\n      <td>False</td>\n    </tr>\n    <tr>\n      <th>5</th>\n      <td>mux:u2LiGrbZrUMlRZ3vtEsdW8lYD5zezhlWPNS02P02qT01VQ</td>\n      <td>QueensUser185149013</td>\n      <td><video width=400 controls><source src=\"https://stream.mux.com/2U00VdDFoJFZnLml2CdCgdbIO01UIHPJi79O2LPREexzE/high.mp4\" type=\"video/mp4\"></video></td>\n      <td>False</td>\n    </tr>\n  </tbody>\n</table>"
                },
                "metadata": {}
              },
              {
                "output_type": "display_data",
                "data": {
                  "text/plain": "<IPython.core.display.HTML object>",
                  "text/html": "<table border=\"1\" class=\"dataframe\">\n  <thead>\n    <tr style=\"text-align: center;\">\n      <th></th>\n      <th>id</th>\n      <th>username</th>\n      <th>link</th>\n      <th>confirmed</th>\n    </tr>\n  </thead>\n  <tbody>\n    <tr>\n      <th>0</th>\n      <td>mux:wXuNYcGjWTc902gAYq7jS901vR2JgnixSPxKG00QIJ4e3o</td>\n      <td>Alba7ri</td>\n      <td><video width=400 controls><source src=\"https://stream.mux.com/Ebcdd1CB3W8OkuFh6QcmRuFCM3eXWT4f9bs02HXaSvwY/high.mp4\" type=\"video/mp4\"></video></td>\n      <td>False</td>\n    </tr>\n    <tr>\n      <th>1</th>\n      <td>mux:aBekUL6GIzS01QMwxpWxfVfqzEo8YH6WquO02QRYkKalQ</td>\n      <td>smh0910</td>\n      <td><video width=400 controls><source src=\"https://stream.mux.com/xNgMYbxbTLwKP8AlzEzzxibXW9refiyIaxwcW003Arss/high.mp4\" type=\"video/mp4\"></video></td>\n      <td>False</td>\n    </tr>\n    <tr>\n      <th>2</th>\n      <td>mux:vJmkCc4Ejf5cQnmFwbbuo01JGq1ECn01C02uySrbvh4TE00</td>\n      <td>BrooklynNewsLIVE718</td>\n      <td><video width=400 controls><source src=\"https://stream.mux.com/HqD6l0202lEHd2RLFNuE4VoFKGl5VhG6VA749r900dyaPA/high.mp4\" type=\"video/mp4\"></video></td>\n      <td>False</td>\n    </tr>\n    <tr>\n      <th>3</th>\n      <td>mux:00pqVThrHiylnRtJUqDt2XG01z01uN1KvKOvpbzJRWe938</td>\n      <td>ZD4</td>\n      <td><video width=400 controls><source src=\"https://stream.mux.com/VbK02Z61vuxrMO4X7H02D001w3o6lh8v6I7CSNa9ypuDNc/high.mp4\" type=\"video/mp4\"></video></td>\n      <td>False</td>\n    </tr>\n    <tr>\n      <th>4</th>\n      <td>mux:wBFGphfuLIO4PyM1J9stXG02bN2EVtPS013LFVUxsGOJc</td>\n      <td>andrewkilz</td>\n      <td><video width=400 controls><source src=\"https://stream.mux.com/f53oiJUG6DHZKGFxg3xDcvbMzJOX9O3hXON9j01kUdqE/high.mp4\" type=\"video/mp4\"></video></td>\n      <td>False</td>\n    </tr>\n    <tr>\n      <th>5</th>\n      <td>mux:u2LiGrbZrUMlRZ3vtEsdW8lYD5zezhlWPNS02P02qT01VQ</td>\n      <td>QueensUser185149013</td>\n      <td><video width=400 controls><source src=\"https://stream.mux.com/2U00VdDFoJFZnLml2CdCgdbIO01UIHPJi79O2LPREexzE/high.mp4\" type=\"video/mp4\"></video></td>\n      <td>False</td>\n    </tr>\n  </tbody>\n</table>"
                },
                "metadata": {}
              },
              {
                "output_type": "display_data",
                "data": {
                  "text/plain": "<IPython.core.display.HTML object>",
                  "text/html": "<table border=\"1\" class=\"dataframe\">\n  <thead>\n    <tr style=\"text-align: center;\">\n      <th></th>\n    </tr>\n  </thead>\n  <tbody>\n  </tbody>\n</table>"
                },
                "metadata": {}
              }
            ]
          }
        },
        "de91e50712564e8fbc5468796a0d3d0c": {
          "model_module": "@jupyter-widgets/base",
          "model_name": "LayoutModel",
          "model_module_version": "1.2.0",
          "state": {
            "_model_module": "@jupyter-widgets/base",
            "_model_module_version": "1.2.0",
            "_model_name": "LayoutModel",
            "_view_count": null,
            "_view_module": "@jupyter-widgets/base",
            "_view_module_version": "1.2.0",
            "_view_name": "LayoutView",
            "align_content": null,
            "align_items": null,
            "align_self": null,
            "border": null,
            "bottom": null,
            "display": null,
            "flex": null,
            "flex_flow": null,
            "grid_area": null,
            "grid_auto_columns": null,
            "grid_auto_flow": null,
            "grid_auto_rows": null,
            "grid_column": null,
            "grid_gap": null,
            "grid_row": null,
            "grid_template_areas": null,
            "grid_template_columns": null,
            "grid_template_rows": null,
            "height": null,
            "justify_content": null,
            "justify_items": null,
            "left": null,
            "margin": null,
            "max_height": null,
            "max_width": null,
            "min_height": null,
            "min_width": null,
            "object_fit": null,
            "object_position": null,
            "order": null,
            "overflow": null,
            "overflow_x": null,
            "overflow_y": null,
            "padding": null,
            "right": null,
            "top": null,
            "visibility": null,
            "width": null
          }
        },
        "9ec48b0c32f74306bfcaf0d039a9086b": {
          "model_module": "@jupyter-widgets/output",
          "model_name": "OutputModel",
          "model_module_version": "1.0.0",
          "state": {
            "_dom_classes": [],
            "_model_module": "@jupyter-widgets/output",
            "_model_module_version": "1.0.0",
            "_model_name": "OutputModel",
            "_view_count": null,
            "_view_module": "@jupyter-widgets/output",
            "_view_module_version": "1.0.0",
            "_view_name": "OutputView",
            "layout": "IPY_MODEL_bd9cc18073664cdcafb7b3b90c3917fe",
            "msg_id": "",
            "outputs": [
              {
                "output_type": "display_data",
                "data": {
                  "text/plain": "<IPython.core.display.HTML object>",
                  "text/html": "\n  <head>\n    <style> table, th, td {border:1px solid black !important;} </style>\n  </head>\n  <body>\n    <table border=\"1\" class=\"dataframe\">\n  <thead>\n    <tr style=\"text-align: center;\">\n      <th></th>\n      <th>title</th>\n      <th>address</th>\n      <th>neighborhood</th>\n      <th>location</th>\n      <th>cityCode</th>\n      <th>categories</th>\n      <th>key</th>\n      <th>police</th>\n      <th>shareImageLive</th>\n      <th>stats</th>\n      <th>hasVod</th>\n      <th>severity</th>\n      <th>cs</th>\n      <th>url</th>\n      <th>created_at</th>\n      <th>updated_at</th>\n      <th>usersNotified</th>\n    </tr>\n  </thead>\n  <tbody>\n    <tr>\n      <th>0</th>\n      <td>One Critically Injured in South Dallas Double Shooting</td>\n      <td>Lagow St & York St, Dallas, Texas, 75210</td>\n      <td>South Dallas/Fair Park, Dallas</td>\n      <td>Lagow St & York St</td>\n      <td>us-tx-dallas</td>\n      <td>Gun Related</td>\n      <td>-N1Rx9bkW_KA-ZpHiN3m</td>\n      <td>DPD SE 312</td>\n      <td>None</td>\n      <td>angers:0, chats:0, hearts:0, streamViews:0, streamsConfirmed:0, streamsCount:0, thanks:0, usersNotifiedUnique:505, views:198, whoas:0</td>\n      <td>False</td>\n      <td>red</td>\n      <td>1651900711000</td>\n      <td><a target=\"_blank\" href=\"https://citizen.com/-N1Rx9bkW_KA-ZpHiN3m\">https://citizen.com/-N1Rx9bkW_KA-ZpHiN3m</a></td>\n      <td>05/07/2022, 05:18:31</td>\n      <td>05/07/2022, 05:18:31</td>\n      <td>505</td>\n    </tr>\n  </tbody>\n</table>\n  </body>\n  <script> \n    function get_info(selected_key) { google.colab.kernel.invokeFunction('notebook.show_incident_data', [], {selected_key}); }\n    var rows = Array.from(document.getElementsByTagName('tr'));\n    // remove header row\n    rows.shift();\n    rows.forEach((row, i) => {\n      row.addEventListener('click', () => {\n        get_info(row.getElementsByTagName('td')[6].innerHTML);\n      });\n    }); \n  </script>\n"
                },
                "metadata": {}
              }
            ]
          }
        },
        "bd9cc18073664cdcafb7b3b90c3917fe": {
          "model_module": "@jupyter-widgets/base",
          "model_name": "LayoutModel",
          "model_module_version": "1.2.0",
          "state": {
            "_model_module": "@jupyter-widgets/base",
            "_model_module_version": "1.2.0",
            "_model_name": "LayoutModel",
            "_view_count": null,
            "_view_module": "@jupyter-widgets/base",
            "_view_module_version": "1.2.0",
            "_view_name": "LayoutView",
            "align_content": null,
            "align_items": null,
            "align_self": null,
            "border": null,
            "bottom": null,
            "display": null,
            "flex": null,
            "flex_flow": null,
            "grid_area": null,
            "grid_auto_columns": null,
            "grid_auto_flow": null,
            "grid_auto_rows": null,
            "grid_column": null,
            "grid_gap": null,
            "grid_row": null,
            "grid_template_areas": null,
            "grid_template_columns": null,
            "grid_template_rows": null,
            "height": null,
            "justify_content": null,
            "justify_items": null,
            "left": null,
            "margin": null,
            "max_height": null,
            "max_width": null,
            "min_height": null,
            "min_width": null,
            "object_fit": null,
            "object_position": null,
            "order": null,
            "overflow": null,
            "overflow_x": null,
            "overflow_y": null,
            "padding": null,
            "right": null,
            "top": null,
            "visibility": null,
            "width": null
          }
        }
      }
    }
  },
  "cells": [
    {
      "cell_type": "markdown",
      "metadata": {
        "id": "view-in-github",
        "colab_type": "text"
      },
      "source": [
        "<a href=\"https://colab.research.google.com/github/HongSenDu/citizen-scrape/blob/main/citizen_scrape.ipynb\" target=\"_parent\"><img src=\"https://colab.research.google.com/assets/colab-badge.svg\" alt=\"Open In Colab\"/></a>"
      ]
    },
    {
      "cell_type": "code",
      "execution_count": 1,
      "metadata": {
        "id": "hdFI-AyQTNeL"
      },
      "outputs": [],
      "source": [
        "import csv\n",
        "import requests\n",
        "from datetime import datetime\n",
        "from pprint import pprint\n",
        "from collections import defaultdict\n",
        "import pandas as pd\n",
        "import numpy as np"
      ]
    },
    {
      "cell_type": "code",
      "source": [
        "citizen_site = \"https://citizen.com/\"\n",
        "incident_endpoint = \"https://citizen.com/api/incident/\"\n",
        "search_route = \"search\"\n",
        "location_query_params = \"?insideBoundingBox[0]={}&insideBoundingBox[2]={}&insideBoundingBox[1]={}&insideBoundingBox[3]={}&limit={}\"\n",
        "incident_selected_fields = ['title', 'address', 'neighborhood', 'location', 'cityCode', 'categories', 'updates', 'key', 'police', 'shareImageLive', 'stats', 'hasVod', 'severity',  'cs']\n",
        "interested_categories = ['Animal Related', 'Assault / Fight', 'Break In', 'Fire', 'Fire / EMS Activity', 'Gun Related', 'Harassment', 'Protest', 'Pursuit / Search', 'Robbery / Theft ', 'Weapon']\n",
        "groupable_fields = ['cityCode', 'neighborhood', 'police', 'categories', 'hasVod']"
      ],
      "metadata": {
        "id": "eCj90QvHTkE8"
      },
      "execution_count": 2,
      "outputs": []
    },
    {
      "cell_type": "markdown",
      "source": [
        "# Scrape Functions\n"
      ],
      "metadata": {
        "id": "Z2DWs5B07-3D"
      }
    },
    {
      "cell_type": "code",
      "source": [
        "# takes tuple of bounding lat long coordinates\n",
        "def get_data_by_location(latitude, longitude, limit = 10):\n",
        "  endpoint = incident_endpoint + search_route + location_query_params.format(latitude[0], latitude[1], longitude[0], longitude[1], limit)\n",
        "  request = requests.get(endpoint)\n",
        "  if request.status_code == 200:\n",
        "    return request.json().get(\"hits\", [])\n",
        "  return f\"Error: {request.status_code}\"\n",
        "\n",
        "# only keep fields that are relevant\n",
        "def filter_by_keys(data, selected_fields):\n",
        "  return { key: data.get(key, None) for key in selected_fields }\n",
        "\n",
        "def endpoint_data(endpoint):\n",
        "  request = requests.get(endpoint, headers={'User-Agent': 'Mozilla/5.0 (Macintosh; Intel Mac OS X 10_11_5) AppleWebKit/537.36 (KHTML, like Gecko) Chrome/50.0.2661.102 Safari/537.36'})\n",
        "  if request.status_code == 200:\n",
        "    return request.json()\n",
        "  print(f\"Error: {request.status_code}\")\n",
        "  return None\n",
        "\n",
        "# most accurate when using city_codes\n",
        "def get_data_by_keyword(term, limit = 10):\n",
        "  endpoint = incident_endpoint + search_route + f\"?q={term}&limit={limit}\"\n",
        "  data = endpoint_data(endpoint)\n",
        "  return data.get(\"hits\", data) if data else []\n",
        "\n",
        "# get single incident information with option to sort by relevant fields\n",
        "def get_incident_data(id, selected_fields = False):\n",
        "  endpoint = incident_endpoint + f\"{id}/stats\"\n",
        "  data = endpoint_data(endpoint)\n",
        "  if data:\n",
        "    if selected_fields:\n",
        "      data = filter_by_keys(data, selected_fields)\n",
        "    if data['categories']:\n",
        "      data['categories'] =  ','.join(e for e in data['categories'])\n",
        "    data[\"url\"] = citizen_site + f\"{id}\"\n",
        "  return data or []\n",
        "\n",
        "# function to get all data from citizen\n",
        "def get_all_data():\n",
        "  endpoint = incident_endpoint + search_route + \"?limit=10000000000\"\n",
        "  data = endpoint_data(endpoint)\n",
        "  return data.get(\"hits\", data) or []\n",
        "\n",
        "# group data by category of incident\n",
        "def group_by_category(data):\n",
        "  categories = defaultdict(dict)\n",
        "  for incident in data:\n",
        "    category = ','.join(e for e in incident['categories'])\n",
        "    if category in interested_categories:\n",
        "      cat_loc = categories[category][incident['objectID']] = {}\n",
        "      cat_loc['title'] = incident['title']\n",
        "      cat_loc[\"updates\"] = [updates['text'] for updates in incident['updates']]\n",
        "  return categories\n",
        "\n",
        "# saves to local csv file from scraped data\n",
        "def write_to_csv(file, data):\n",
        "  keys = data[0].keys()\n",
        "  with open(file, 'w', newline='') as output_file:\n",
        "      dict_writer = csv.DictWriter(output_file, keys)\n",
        "      dict_writer.writeheader()\n",
        "      dict_writer.writerows(data) \n",
        "\n",
        "# sort by relevant incident fields\n",
        "def get_incident_fields(incidents):\n",
        "  incidents_arr = []\n",
        "  for incident in incidents:\n",
        "    if incident['severity'] == 'red':\n",
        "      incident_data = get_incident_data(incident['objectID'], incident_selected_fields)\n",
        "      if isinstance(incident_data, dict):\n",
        "        incident_data.update({\n",
        "            \"created_at\": datetime.fromtimestamp(incident_data.get('created_at', incident_data['cs']) / 1000).strftime(\"%m/%d/%Y, %H:%M:%S\"),\n",
        "            \"updated_at\": datetime.fromtimestamp(incident_data.get('updated_at', incident_data['cs']) / 1000).strftime(\"%m/%d/%Y, %H:%M:%S\"),\n",
        "            \"categories\": ''.join(incident_data['categories']) if incident_data['categories'] else None,\n",
        "            \"usersNotified\": incident_data['stats'].get('usersNotifiedUnique', 0),\n",
        "            \"stats\": ', '.join([f'{key}:{value}' for key, value in incident_data['stats'].items()])\n",
        "        })\n",
        "      incidents_arr.append(incident_data)\n",
        "  return incidents_arr\n",
        "\n",
        "# get updates array of dictionaries for incidents\n",
        "def get_only_updates(incident):\n",
        "  updates = incident['updates']\n",
        "  updates_arr = [{\"id\": key, \n",
        "                  \"created_at\": datetime.fromtimestamp(val[\"ts\"] / 1000).strftime(\"%m/%d/%Y, %H:%M:%S\"),\n",
        "                  \"text\": val[\"text\"],\n",
        "                  \"location\": val[\"displayLocation\"],\n",
        "                 } for (key, val) in list(updates.items()) if isinstance(val, dict)]\n",
        "  return updates_arr\n",
        "\n",
        "# get updates array of dictionaries for incidents\n",
        "def get_only_videos(id):\n",
        "  endpoint = incident_endpoint + f\"{id}/videos\"\n",
        "  data = endpoint_data(endpoint)\n",
        "  updates_arr = [{\"id\": video['id'], \n",
        "                  \"username\": video['username'],\n",
        "                  \"link\": video['hlsVodMp4Url'],\n",
        "                  \"confirmed\": video['confirmed'],\n",
        "                 } for video in data]\n",
        "  return updates_arr"
      ],
      "metadata": {
        "id": "5o8LTNXxTU0V"
      },
      "execution_count": 3,
      "outputs": []
    },
    {
      "cell_type": "markdown",
      "source": [
        "# Scraping by location\n"
      ],
      "metadata": {
        "id": "O4hCBLzb8EEp"
      }
    },
    {
      "cell_type": "code",
      "source": [
        "# get nyc incidents by keyword. Update the location here to explore another location\n",
        "chosen_incidents = get_data_by_keyword(\"nyc\", limit = 10000000)\n",
        "\n",
        "# sort by relevant fields\n",
        "incidents_arr = get_incident_fields(chosen_incidents)\n",
        "\n",
        "# sort by number of people broadcasted to\n",
        "incidents_arr = sorted(incidents_arr, key=lambda d: d['usersNotified'], reverse=True)"
      ],
      "metadata": {
        "id": "yIHr3pUB4AGc"
      },
      "execution_count": 4,
      "outputs": []
    },
    {
      "cell_type": "code",
      "source": [
        "write_to_csv('data.csv', incidents_arr)"
      ],
      "metadata": {
        "id": "CfvIxacoUu6R"
      },
      "execution_count": 5,
      "outputs": []
    },
    {
      "cell_type": "code",
      "source": [
        "# get dataframe from scraped data\n",
        "df_data = pd.DataFrame.from_dict(incidents_arr)"
      ],
      "metadata": {
        "id": "0OfPgMel9Ev9"
      },
      "execution_count": 6,
      "outputs": []
    },
    {
      "cell_type": "markdown",
      "source": [
        "# Display"
      ],
      "metadata": {
        "id": "aIgs1MTu90ss"
      }
    },
    {
      "cell_type": "code",
      "source": [
        "from ipywidgets import widgets, Layout, Box, VBox\n",
        "from IPython.display import display, Javascript, HTML\n",
        "from google.colab import data_table, output\n",
        "\n",
        "# enables powerful colab dataframe sort buttons\n",
        "data_table.enable_dataframe_formatter()"
      ],
      "metadata": {
        "id": "0EdDgr38xv9v"
      },
      "execution_count": 7,
      "outputs": []
    },
    {
      "cell_type": "code",
      "source": [
        "table_output = widgets.Output()\n",
        "info_output = widgets.Output()\n",
        "updates_output = widgets.Output()\n",
        "videos_output = widgets.Output()\n",
        "similar_output = widgets.Output()"
      ],
      "metadata": {
        "id": "xEKINdk-tK0-"
      },
      "execution_count": 8,
      "outputs": []
    },
    {
      "cell_type": "markdown",
      "source": [
        "# Formatters"
      ],
      "metadata": {
        "id": "bUPP2lExf1EY"
      }
    },
    {
      "cell_type": "code",
      "source": [
        "dataframe_html_string = '''\n",
        "  <head>\n",
        "    <style> table, th, td {{border:1px solid black !important;}} </style>\n",
        "  </head>\n",
        "  <body>\n",
        "    {table}\n",
        "  </body>\n",
        "  <script> \n",
        "    function get_info(selected_key) {{ google.colab.kernel.invokeFunction('notebook.show_incident_data', [], {{selected_key}}); }}\n",
        "    var rows = Array.from(document.getElementsByTagName('tr'));\n",
        "    // remove header row\n",
        "    rows.shift();\n",
        "    rows.forEach((row, i) => {{\n",
        "      row.addEventListener('click', () => {{\n",
        "        get_info(row.getElementsByTagName('td')[6].innerHTML);\n",
        "      }});\n",
        "    }}); \n",
        "  </script>\n",
        "'''\n",
        "\n",
        "ALL = 'ALL'"
      ],
      "metadata": {
        "id": "eTqugjZToC6n"
      },
      "execution_count": 9,
      "outputs": []
    },
    {
      "cell_type": "code",
      "source": [
        "# makes links hyperlinks\n",
        "def make_clickable(val):\n",
        "    return f'<a target=\"_blank\" href=\"{val}\">{val}</a>'\n",
        "\n",
        "# converts image URLS to img path formats\n",
        "def path_to_image_html(path):\n",
        "    return '<img src=\"'+ path + '\" style=max-height:124px;\"/>'\n",
        "\n",
        "def path_to_video_html(path):\n",
        "  return f'<video width=400 controls><source src=\"{path}\" type=\"video/mp4\"></video>'\n",
        "  \n",
        "# grab similar incidents to current incident\n",
        "def get_similar_incidents(current_incident):\n",
        "  city = current_incident['cityCode']\n",
        "  title = current_incident['title']\n",
        "  \n",
        "  return get_incident_fields(get_data_by_keyword(f'{title}', limit = 5) )\n",
        "\n",
        "# writes to output display after clicking on an incident to explore\n",
        "def show_incident_data(selected_key):\n",
        "  info_output.clear_output();\n",
        "  updates_output.clear_output();\n",
        "  videos_output.clear_output();\n",
        "  similar_output.clear_output();\n",
        "\n",
        "  incident = get_incident_fields([{'objectID': selected_key, 'severity': 'red'}])[0]\n",
        "\n",
        "  df = pd.DataFrame(list(incident.items()), columns = ['Fields','Values'])\n",
        "  with info_output:\n",
        "    # display list to citizen incident endpoint\n",
        "    display(HTML(f\"Citizen incident link: <a href={citizen_site + selected_key}>{incident['title']}</a>\"))\n",
        "    display(df)\n",
        "\n",
        "  updates_df = pd.DataFrame(get_only_updates(incident))\n",
        "  with updates_output:\n",
        "    display(updates_df)\n",
        "\n",
        "  similar_incidents = pd.DataFrame(get_similar_incidents(incident)).drop('updates', axis=1)\n",
        "  with similar_output:\n",
        "      # displays in clickable table form\n",
        "      display(HTML(dataframe_html_string.format(table=similar_incidents.to_html(escape=False,\n",
        "                                                justify='center',\n",
        "                                                formatters=dict(shareImageLive=path_to_image_html, url=make_clickable), border=1))))\n",
        "      \n",
        "  videos = pd.DataFrame(get_only_videos(selected_key))\n",
        "  with videos_output:\n",
        "      # displays in clickable table form\n",
        "      display(HTML(videos.to_html(escape=False, justify='center', \n",
        "                                  formatters=dict(link=path_to_video_html), border=1)))\n",
        "\n",
        "output.register_callback('notebook.show_incident_data', show_incident_data)\n"
      ],
      "metadata": {
        "id": "Nn-aZUHZfz2z"
      },
      "execution_count": 10,
      "outputs": []
    },
    {
      "cell_type": "markdown",
      "source": [
        "# Data Handling and Display"
      ],
      "metadata": {
        "id": "ABp_cEH_kTf0"
      }
    },
    {
      "cell_type": "code",
      "source": [
        "df_data = df_data.drop('updates', axis=1)\n",
        "widget_df = df_data"
      ],
      "metadata": {
        "id": "07I8fJ05oH9l"
      },
      "execution_count": 11,
      "outputs": []
    },
    {
      "cell_type": "code",
      "source": [
        "def unique_sorted_values_plus_ALL(array):\n",
        "    unique = array.unique().tolist()\n",
        "    unique.sort()\n",
        "    unique.insert(0, ALL)\n",
        "    return unique\n",
        "\n",
        "# handler for category widget\n",
        "def category_event_handler(change):\n",
        "  common_filterer(change.new, dropdown_neighborhood.value)\n",
        "\n",
        "# handler for neighborhood widget\n",
        "def neighborhood_event_handler(change):\n",
        "  common_filterer(dropdown_categories.value, change.new)\n",
        "\n",
        "# handler for type of display widget. Supports colab dataframe and HTML rendering\n",
        "def display_event_handler(change):\n",
        "  common_filterer(dropdown_categories.value, dropdown_neighborhood.value)\n",
        "\n",
        "# filters based on category and neighborhood. Displays based on option selected\n",
        "def common_filterer(category, neighborhood):\n",
        "  table_output.clear_output()\n",
        "  if (category == ALL) and (neighborhood == ALL):\n",
        "    widget_df = df_data\n",
        "  elif category == ALL:\n",
        "    widget_df = df_data[df_data.neighborhood == neighborhood]\n",
        "  elif neighborhood == ALL:\n",
        "    widget_df = df_data[df_data.categories == category]\n",
        "  else:\n",
        "    widget_df = df_data[(df_data.categories == category) & (df_data.neighborhood == neighborhood)]\n",
        "  with table_output:\n",
        "    if dropdown_display.value == \"Groupable Data Table\":\n",
        "      display(widget_df)\n",
        "    else:\n",
        "      display(HTML(dataframe_html_string.format(table=widget_df.to_html(escape=False,\n",
        "                                     justify='center',\n",
        "                                     formatters=dict(shareImageLive=path_to_image_html, url=make_clickable), border=1))))\n"
      ],
      "metadata": {
        "id": "V8coCsak-dKy"
      },
      "execution_count": 12,
      "outputs": []
    },
    {
      "cell_type": "code",
      "source": [
        "dropdown_categories = widgets.Dropdown(\n",
        "    options=unique_sorted_values_plus_ALL(df_data.categories),\n",
        "    description='Category',\n",
        "    disabled=False,\n",
        ")\n",
        "dropdown_categories.observe(category_event_handler, names='value')\n",
        "\n",
        "dropdown_neighborhood = widgets.Dropdown(\n",
        "    options=unique_sorted_values_plus_ALL(df_data.neighborhood),\n",
        "    description='Neighborhood',\n",
        "    disabled=False,\n",
        ")\n",
        "dropdown_neighborhood.observe(neighborhood_event_handler, names='value')\n",
        "\n",
        "dropdown_display = widgets.Dropdown(\n",
        "    options=[\"Groupable Data Table\", \"HTML Rendering\"],\n",
        "    description='Display Option',\n",
        "    disabled=False,\n",
        ")\n",
        "dropdown_display.observe(display_event_handler, names='value')"
      ],
      "metadata": {
        "id": "aA_T3PhJ8-Gs"
      },
      "execution_count": 13,
      "outputs": []
    },
    {
      "cell_type": "markdown",
      "source": [
        "# Interactables"
      ],
      "metadata": {
        "id": "wV6w_T0UlIhQ"
      }
    },
    {
      "cell_type": "code",
      "source": [
        "box_layout = Layout(display='flex',\n",
        "                    flex_flow='row',\n",
        "                    justify_content='center',\n",
        "                    align_items='stretch',\n",
        "                    overflow='visible',\n",
        "                    width='auto')\n",
        "box_auto = Box(children=[dropdown_categories, dropdown_neighborhood, dropdown_display], layout=box_layout)\n",
        "display(VBox([box_auto]))\n",
        "display(table_output)\n",
        "\n",
        "common_filterer(dropdown_categories.value, dropdown_neighborhood.value)"
      ],
      "metadata": {
        "colab": {
          "base_uri": "https://localhost:8080/",
          "height": 5608,
          "referenced_widgets": [
            "606e1e1eca6e425ba43ec0c9d8bf1624",
            "e090c5241d5147338cb2972f602a0349",
            "a86f590ec5df421b9f98d18bb316aed5",
            "1c86739a8c91417eb3e75fe8b7c74380",
            "86a8a95476fa4c3eac1a9715fff25774",
            "44842c17df9d4ef29577d8d4ad278d26",
            "69f0d93993eb49f59294ca7c69e10b26",
            "17de481af7914796afec8854166764c6",
            "26e94109ffac4b32ba0ccb21a2881c42",
            "28688a7b1a5b44dd86473e20213c6bb2",
            "179cbc18b1cf4d949c7fe4a68cc7ffbc",
            "e4adc8f23655434abb845ebdaec8ea82",
            "ec2047dc89fc42a489a3944a37910b1f",
            "a902e7114bc54717a076a77851a849ca",
            "9c3d8cc3dc9c4c1b8780481855a8417e"
          ]
        },
        "id": "V3_9LrtvdBsu",
        "outputId": "6132422c-159b-402b-bd90-283253124386"
      },
      "execution_count": 19,
      "outputs": [
        {
          "output_type": "display_data",
          "data": {
            "text/plain": [
              "VBox(children=(Box(children=(Dropdown(description='Category', options=('ALL', 'Fire', 'Gun Related', 'Missing …"
            ],
            "application/vnd.jupyter.widget-view+json": {
              "version_major": 2,
              "version_minor": 0,
              "model_id": "606e1e1eca6e425ba43ec0c9d8bf1624"
            }
          },
          "metadata": {}
        },
        {
          "output_type": "display_data",
          "data": {
            "text/plain": [
              "Output()"
            ],
            "application/vnd.jupyter.widget-view+json": {
              "version_major": 2,
              "version_minor": 0,
              "model_id": "a902e7114bc54717a076a77851a849ca"
            }
          },
          "metadata": {}
        }
      ]
    },
    {
      "cell_type": "markdown",
      "source": [
        "#Output"
      ],
      "metadata": {
        "id": "rCBwdU7Y_KQd"
      }
    },
    {
      "cell_type": "code",
      "source": [
        "display(info_output)"
      ],
      "metadata": {
        "colab": {
          "base_uri": "https://localhost:8080/",
          "height": 594,
          "referenced_widgets": [
            "b2755a20e47641679358a86c6b3bcf69",
            "de4b5a79dd214b12a4ad1dc04a7d3a25"
          ]
        },
        "id": "HcpdF7rVPB_P",
        "outputId": "d993ade9-7424-47d7-9782-6509804a9732"
      },
      "execution_count": 15,
      "outputs": [
        {
          "output_type": "display_data",
          "data": {
            "text/plain": [
              "Output()"
            ],
            "application/vnd.jupyter.widget-view+json": {
              "version_major": 2,
              "version_minor": 0,
              "model_id": "b2755a20e47641679358a86c6b3bcf69"
            }
          },
          "metadata": {}
        }
      ]
    },
    {
      "cell_type": "code",
      "source": [
        "display(updates_output)"
      ],
      "metadata": {
        "colab": {
          "base_uri": "https://localhost:8080/",
          "height": 240,
          "referenced_widgets": [
            "0062ba957f01489fab6df6f0f0e84554",
            "9c1a22e686f0450fab64e155b6944d49"
          ]
        },
        "id": "YAXn4yqueBoY",
        "outputId": "37f53980-9b8e-49ef-dfda-a5cbcf517738"
      },
      "execution_count": 16,
      "outputs": [
        {
          "output_type": "display_data",
          "data": {
            "text/plain": [
              "Output()"
            ],
            "application/vnd.jupyter.widget-view+json": {
              "version_major": 2,
              "version_minor": 0,
              "model_id": "0062ba957f01489fab6df6f0f0e84554"
            }
          },
          "metadata": {}
        }
      ]
    },
    {
      "cell_type": "code",
      "source": [
        "display(videos_output)"
      ],
      "metadata": {
        "colab": {
          "base_uri": "https://localhost:8080/",
          "height": 1000,
          "referenced_widgets": [
            "78fffcda0d2d41e58e831cd253649226",
            "de91e50712564e8fbc5468796a0d3d0c"
          ]
        },
        "id": "C3GEPwb4Hz6t",
        "outputId": "542e63ad-d09d-42bb-bf82-ef156efc6ab8"
      },
      "execution_count": 20,
      "outputs": [
        {
          "output_type": "display_data",
          "data": {
            "text/plain": [
              "Output()"
            ],
            "application/vnd.jupyter.widget-view+json": {
              "version_major": 2,
              "version_minor": 0,
              "model_id": "78fffcda0d2d41e58e831cd253649226"
            }
          },
          "metadata": {}
        }
      ]
    },
    {
      "cell_type": "code",
      "source": [
        "display(similar_output)"
      ],
      "metadata": {
        "colab": {
          "base_uri": "https://localhost:8080/",
          "height": 207,
          "referenced_widgets": [
            "9ec48b0c32f74306bfcaf0d039a9086b",
            "bd9cc18073664cdcafb7b3b90c3917fe"
          ]
        },
        "id": "AQny50W9s8np",
        "outputId": "0e25df15-01c4-418e-9d05-efc558fb6181"
      },
      "execution_count": 18,
      "outputs": [
        {
          "output_type": "display_data",
          "data": {
            "text/plain": [
              "Output()"
            ],
            "application/vnd.jupyter.widget-view+json": {
              "version_major": 2,
              "version_minor": 0,
              "model_id": "9ec48b0c32f74306bfcaf0d039a9086b"
            }
          },
          "metadata": {}
        }
      ]
    }
  ]
}