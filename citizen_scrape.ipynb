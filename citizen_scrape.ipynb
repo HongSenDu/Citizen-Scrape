{
  "nbformat": 4,
  "nbformat_minor": 0,
  "metadata": {
    "colab": {
      "name": "citizen_scrape.ipynb",
      "provenance": [],
      "collapsed_sections": [],
      "authorship_tag": "ABX9TyO+p6fl1p8cs11qRBFzMixx",
      "include_colab_link": true
    },
    "kernelspec": {
      "name": "python3",
      "display_name": "Python 3"
    },
    "language_info": {
      "name": "python"
    },
    "widgets": {
      "application/vnd.jupyter.widget-state+json": {
        "ef41897d75cd4d9680fdf89d0b5f9ac7": {
          "model_module": "@jupyter-widgets/controls",
          "model_name": "VBoxModel",
          "model_module_version": "1.5.0",
          "state": {
            "_dom_classes": [],
            "_model_module": "@jupyter-widgets/controls",
            "_model_module_version": "1.5.0",
            "_model_name": "VBoxModel",
            "_view_count": null,
            "_view_module": "@jupyter-widgets/controls",
            "_view_module_version": "1.5.0",
            "_view_name": "VBoxView",
            "box_style": "",
            "children": [
              "IPY_MODEL_1952804da44a4793a4703ab689cd0839"
            ],
            "layout": "IPY_MODEL_1f16c6dd53254c0492c4408a1c6449f6"
          }
        },
        "1952804da44a4793a4703ab689cd0839": {
          "model_module": "@jupyter-widgets/controls",
          "model_name": "BoxModel",
          "model_module_version": "1.5.0",
          "state": {
            "_dom_classes": [],
            "_model_module": "@jupyter-widgets/controls",
            "_model_module_version": "1.5.0",
            "_model_name": "BoxModel",
            "_view_count": null,
            "_view_module": "@jupyter-widgets/controls",
            "_view_module_version": "1.5.0",
            "_view_name": "BoxView",
            "box_style": "",
            "children": [
              "IPY_MODEL_40b1aa81d7c642e09103612ceaaac020",
              "IPY_MODEL_612064f92f0a4139a1c4ccd54657f282",
              "IPY_MODEL_4ceebe7a3aec4571b9f3ad865ec8cfd4"
            ],
            "layout": "IPY_MODEL_a641280e8e2440f1baef4d3ead57728f"
          }
        },
        "1f16c6dd53254c0492c4408a1c6449f6": {
          "model_module": "@jupyter-widgets/base",
          "model_name": "LayoutModel",
          "model_module_version": "1.2.0",
          "state": {
            "_model_module": "@jupyter-widgets/base",
            "_model_module_version": "1.2.0",
            "_model_name": "LayoutModel",
            "_view_count": null,
            "_view_module": "@jupyter-widgets/base",
            "_view_module_version": "1.2.0",
            "_view_name": "LayoutView",
            "align_content": null,
            "align_items": null,
            "align_self": null,
            "border": null,
            "bottom": null,
            "display": null,
            "flex": null,
            "flex_flow": null,
            "grid_area": null,
            "grid_auto_columns": null,
            "grid_auto_flow": null,
            "grid_auto_rows": null,
            "grid_column": null,
            "grid_gap": null,
            "grid_row": null,
            "grid_template_areas": null,
            "grid_template_columns": null,
            "grid_template_rows": null,
            "height": null,
            "justify_content": null,
            "justify_items": null,
            "left": null,
            "margin": null,
            "max_height": null,
            "max_width": null,
            "min_height": null,
            "min_width": null,
            "object_fit": null,
            "object_position": null,
            "order": null,
            "overflow": null,
            "overflow_x": null,
            "overflow_y": null,
            "padding": null,
            "right": null,
            "top": null,
            "visibility": null,
            "width": null
          }
        },
        "40b1aa81d7c642e09103612ceaaac020": {
          "model_module": "@jupyter-widgets/controls",
          "model_name": "DropdownModel",
          "model_module_version": "1.5.0",
          "state": {
            "_dom_classes": [],
            "_model_module": "@jupyter-widgets/controls",
            "_model_module_version": "1.5.0",
            "_model_name": "DropdownModel",
            "_options_labels": [
              "ALL",
              "Barricade",
              "Fire",
              "Gun Related",
              "Missing Person",
              "Robbery / Theft ",
              "Traffic Related",
              "Weapon"
            ],
            "_view_count": null,
            "_view_module": "@jupyter-widgets/controls",
            "_view_module_version": "1.5.0",
            "_view_name": "DropdownView",
            "description": "Category",
            "description_tooltip": null,
            "disabled": false,
            "index": 3,
            "layout": "IPY_MODEL_af9158ae1a62410bb45a765c7c99462b",
            "style": "IPY_MODEL_2330af25bbe54840b394f721b95249c6"
          }
        },
        "612064f92f0a4139a1c4ccd54657f282": {
          "model_module": "@jupyter-widgets/controls",
          "model_name": "DropdownModel",
          "model_module_version": "1.5.0",
          "state": {
            "_dom_classes": [],
            "_model_module": "@jupyter-widgets/controls",
            "_model_module_version": "1.5.0",
            "_model_name": "DropdownModel",
            "_options_labels": [
              "ALL",
              "Bay Terrace, Queens",
              "Bedford Stuyvesant, Brooklyn",
              "Chelsea, Manhattan",
              "Corona, Queens",
              "Crown Heights, Brooklyn",
              "East Flatbush, Brooklyn",
              "East Harlem, Manhattan",
              "East New York, Brooklyn",
              "East Tremont, Bronx",
              "East Village, Manhattan",
              "Eastchester, Bronx",
              "Far Rockaway, Queens",
              "Flatlands, Brooklyn",
              "Forest Hills, Queens",
              "Garment District, Manhattan",
              "Gramercy, Manhattan",
              "Greenwood, Brooklyn",
              "Harlem, Manhattan",
              "Howard Beach, Queens",
              "JFK Airport, Queens",
              "Jamaica, Queens",
              "Kingsbridge, Bronx",
              "Longwood, Bronx",
              "Lower East Side, Manhattan",
              "Maspeth, Queens",
              "Melrose, Bronx",
              "Midtown, Manhattan",
              "New Utrecht, Brooklyn",
              "Norwood, Bronx",
              "Ocean Hill, Brooklyn",
              "Prospect Lefferts Gardens, Brooklyn",
              "Soundview, Bronx",
              "South Bronx, Bronx",
              "St. Albans, Queens",
              "Sunset Park, Brooklyn",
              "Throggs Neck, Bronx",
              "University Heights, Bronx",
              "Upper East Side, Manhattan",
              "Washington Heights, Manhattan",
              "Williamsbridge, Bronx",
              "Woodhaven, Queens"
            ],
            "_view_count": null,
            "_view_module": "@jupyter-widgets/controls",
            "_view_module_version": "1.5.0",
            "_view_name": "DropdownView",
            "description": "Neighborhood",
            "description_tooltip": null,
            "disabled": false,
            "index": 0,
            "layout": "IPY_MODEL_40c3b99bc5f34cf78bc90322c4babb51",
            "style": "IPY_MODEL_c6d87c85eced46949449979b5e07eef4"
          }
        },
        "4ceebe7a3aec4571b9f3ad865ec8cfd4": {
          "model_module": "@jupyter-widgets/controls",
          "model_name": "DropdownModel",
          "model_module_version": "1.5.0",
          "state": {
            "_dom_classes": [],
            "_model_module": "@jupyter-widgets/controls",
            "_model_module_version": "1.5.0",
            "_model_name": "DropdownModel",
            "_options_labels": [
              "Groupable Data Table",
              "HTML Rendering"
            ],
            "_view_count": null,
            "_view_module": "@jupyter-widgets/controls",
            "_view_module_version": "1.5.0",
            "_view_name": "DropdownView",
            "description": "Display Option",
            "description_tooltip": null,
            "disabled": false,
            "index": 1,
            "layout": "IPY_MODEL_697ea52a7e634b0b9cf0b8621ce6479f",
            "style": "IPY_MODEL_1c459f7ac7e04696b2f933be2eabb801"
          }
        },
        "a641280e8e2440f1baef4d3ead57728f": {
          "model_module": "@jupyter-widgets/base",
          "model_name": "LayoutModel",
          "model_module_version": "1.2.0",
          "state": {
            "_model_module": "@jupyter-widgets/base",
            "_model_module_version": "1.2.0",
            "_model_name": "LayoutModel",
            "_view_count": null,
            "_view_module": "@jupyter-widgets/base",
            "_view_module_version": "1.2.0",
            "_view_name": "LayoutView",
            "align_content": null,
            "align_items": "stretch",
            "align_self": null,
            "border": null,
            "bottom": null,
            "display": "flex",
            "flex": null,
            "flex_flow": "row",
            "grid_area": null,
            "grid_auto_columns": null,
            "grid_auto_flow": null,
            "grid_auto_rows": null,
            "grid_column": null,
            "grid_gap": null,
            "grid_row": null,
            "grid_template_areas": null,
            "grid_template_columns": null,
            "grid_template_rows": null,
            "height": null,
            "justify_content": "center",
            "justify_items": null,
            "left": null,
            "margin": null,
            "max_height": null,
            "max_width": null,
            "min_height": null,
            "min_width": null,
            "object_fit": null,
            "object_position": null,
            "order": null,
            "overflow": "visible",
            "overflow_x": null,
            "overflow_y": null,
            "padding": null,
            "right": null,
            "top": null,
            "visibility": null,
            "width": "auto"
          }
        },
        "af9158ae1a62410bb45a765c7c99462b": {
          "model_module": "@jupyter-widgets/base",
          "model_name": "LayoutModel",
          "model_module_version": "1.2.0",
          "state": {
            "_model_module": "@jupyter-widgets/base",
            "_model_module_version": "1.2.0",
            "_model_name": "LayoutModel",
            "_view_count": null,
            "_view_module": "@jupyter-widgets/base",
            "_view_module_version": "1.2.0",
            "_view_name": "LayoutView",
            "align_content": null,
            "align_items": null,
            "align_self": null,
            "border": null,
            "bottom": null,
            "display": null,
            "flex": null,
            "flex_flow": null,
            "grid_area": null,
            "grid_auto_columns": null,
            "grid_auto_flow": null,
            "grid_auto_rows": null,
            "grid_column": null,
            "grid_gap": null,
            "grid_row": null,
            "grid_template_areas": null,
            "grid_template_columns": null,
            "grid_template_rows": null,
            "height": null,
            "justify_content": null,
            "justify_items": null,
            "left": null,
            "margin": null,
            "max_height": null,
            "max_width": null,
            "min_height": null,
            "min_width": null,
            "object_fit": null,
            "object_position": null,
            "order": null,
            "overflow": null,
            "overflow_x": null,
            "overflow_y": null,
            "padding": null,
            "right": null,
            "top": null,
            "visibility": null,
            "width": null
          }
        },
        "2330af25bbe54840b394f721b95249c6": {
          "model_module": "@jupyter-widgets/controls",
          "model_name": "DescriptionStyleModel",
          "model_module_version": "1.5.0",
          "state": {
            "_model_module": "@jupyter-widgets/controls",
            "_model_module_version": "1.5.0",
            "_model_name": "DescriptionStyleModel",
            "_view_count": null,
            "_view_module": "@jupyter-widgets/base",
            "_view_module_version": "1.2.0",
            "_view_name": "StyleView",
            "description_width": ""
          }
        },
        "40c3b99bc5f34cf78bc90322c4babb51": {
          "model_module": "@jupyter-widgets/base",
          "model_name": "LayoutModel",
          "model_module_version": "1.2.0",
          "state": {
            "_model_module": "@jupyter-widgets/base",
            "_model_module_version": "1.2.0",
            "_model_name": "LayoutModel",
            "_view_count": null,
            "_view_module": "@jupyter-widgets/base",
            "_view_module_version": "1.2.0",
            "_view_name": "LayoutView",
            "align_content": null,
            "align_items": null,
            "align_self": null,
            "border": null,
            "bottom": null,
            "display": null,
            "flex": null,
            "flex_flow": null,
            "grid_area": null,
            "grid_auto_columns": null,
            "grid_auto_flow": null,
            "grid_auto_rows": null,
            "grid_column": null,
            "grid_gap": null,
            "grid_row": null,
            "grid_template_areas": null,
            "grid_template_columns": null,
            "grid_template_rows": null,
            "height": null,
            "justify_content": null,
            "justify_items": null,
            "left": null,
            "margin": null,
            "max_height": null,
            "max_width": null,
            "min_height": null,
            "min_width": null,
            "object_fit": null,
            "object_position": null,
            "order": null,
            "overflow": null,
            "overflow_x": null,
            "overflow_y": null,
            "padding": null,
            "right": null,
            "top": null,
            "visibility": null,
            "width": null
          }
        },
        "c6d87c85eced46949449979b5e07eef4": {
          "model_module": "@jupyter-widgets/controls",
          "model_name": "DescriptionStyleModel",
          "model_module_version": "1.5.0",
          "state": {
            "_model_module": "@jupyter-widgets/controls",
            "_model_module_version": "1.5.0",
            "_model_name": "DescriptionStyleModel",
            "_view_count": null,
            "_view_module": "@jupyter-widgets/base",
            "_view_module_version": "1.2.0",
            "_view_name": "StyleView",
            "description_width": ""
          }
        },
        "697ea52a7e634b0b9cf0b8621ce6479f": {
          "model_module": "@jupyter-widgets/base",
          "model_name": "LayoutModel",
          "model_module_version": "1.2.0",
          "state": {
            "_model_module": "@jupyter-widgets/base",
            "_model_module_version": "1.2.0",
            "_model_name": "LayoutModel",
            "_view_count": null,
            "_view_module": "@jupyter-widgets/base",
            "_view_module_version": "1.2.0",
            "_view_name": "LayoutView",
            "align_content": null,
            "align_items": null,
            "align_self": null,
            "border": null,
            "bottom": null,
            "display": null,
            "flex": null,
            "flex_flow": null,
            "grid_area": null,
            "grid_auto_columns": null,
            "grid_auto_flow": null,
            "grid_auto_rows": null,
            "grid_column": null,
            "grid_gap": null,
            "grid_row": null,
            "grid_template_areas": null,
            "grid_template_columns": null,
            "grid_template_rows": null,
            "height": null,
            "justify_content": null,
            "justify_items": null,
            "left": null,
            "margin": null,
            "max_height": null,
            "max_width": null,
            "min_height": null,
            "min_width": null,
            "object_fit": null,
            "object_position": null,
            "order": null,
            "overflow": null,
            "overflow_x": null,
            "overflow_y": null,
            "padding": null,
            "right": null,
            "top": null,
            "visibility": null,
            "width": null
          }
        },
        "1c459f7ac7e04696b2f933be2eabb801": {
          "model_module": "@jupyter-widgets/controls",
          "model_name": "DescriptionStyleModel",
          "model_module_version": "1.5.0",
          "state": {
            "_model_module": "@jupyter-widgets/controls",
            "_model_module_version": "1.5.0",
            "_model_name": "DescriptionStyleModel",
            "_view_count": null,
            "_view_module": "@jupyter-widgets/base",
            "_view_module_version": "1.2.0",
            "_view_name": "StyleView",
            "description_width": ""
          }
        },
        "0dea962ad6ce4820af37d5357b1b72e1": {
          "model_module": "@jupyter-widgets/output",
          "model_name": "OutputModel",
          "model_module_version": "1.0.0",
          "state": {
            "_dom_classes": [],
            "_model_module": "@jupyter-widgets/output",
            "_model_module_version": "1.0.0",
            "_model_name": "OutputModel",
            "_view_count": null,
            "_view_module": "@jupyter-widgets/output",
            "_view_module_version": "1.0.0",
            "_view_name": "OutputView",
            "layout": "IPY_MODEL_ba6bfd3d49b74d13969e13cb1542291e",
            "msg_id": "",
            "outputs": [
              {
                "output_type": "display_data",
                "data": {
                  "text/plain": "<IPython.core.display.HTML object>",
                  "text/html": "\n  <head>\n    <style> table, th, td {border:1px solid black !important;} </style>\n  </head>\n  <body>\n    <table border=\"1\" class=\"dataframe\">\n  <thead>\n    <tr style=\"text-align: center;\">\n      <th></th>\n      <th>title</th>\n      <th>address</th>\n      <th>neighborhood</th>\n      <th>location</th>\n      <th>cityCode</th>\n      <th>categories</th>\n      <th>key</th>\n      <th>police</th>\n      <th>shareImageLive</th>\n      <th>stats</th>\n      <th>hasVod</th>\n      <th>severity</th>\n      <th>cs</th>\n      <th>url</th>\n      <th>created_at</th>\n      <th>updated_at</th>\n      <th>usersNotified</th>\n    </tr>\n  </thead>\n  <tbody>\n    <tr>\n      <th>2</th>\n      <td>Two Men Shot</td>\n      <td>5th Ave & E 110th St, New York, New York, 10029</td>\n      <td>East Harlem, Manhattan</td>\n      <td>5th Ave & E 110th St</td>\n      <td>nyc</td>\n      <td>Gun Related</td>\n      <td>-N1VKHvoZuMYJVeV6Dt3</td>\n      <td>NYPD 23</td>\n      <td><img src=\"https://storage.googleapis.com/citizen-stream-capture/mux:02Mut537wi5wAGmp91lGvXOMuYInsaxFgYlcTAflQF5A_0000.jpg\" style=max-height:124px;\"/></td>\n      <td>angers:1259, chats:263, hearts:282, streamViews:0, streamsConfirmed:2, streamsCount:6, thanks:601, usersNotifiedUnique:47338, views:49314, whoas:300</td>\n      <td>True</td>\n      <td>red</td>\n      <td>1651957378000</td>\n      <td><a target=\"_blank\" href=\"https://citizen.com/-N1VKHvoZuMYJVeV6Dt3\">https://citizen.com/-N1VKHvoZuMYJVeV6Dt3</a></td>\n      <td>05/07/2022, 21:02:58</td>\n      <td>05/07/2022, 21:02:58</td>\n      <td>47338</td>\n    </tr>\n    <tr>\n      <th>6</th>\n      <td>Attempted Carjacking at Gunpoint</td>\n      <td>95 Stanton St, New York, New York, 10002</td>\n      <td>Lower East Side, Manhattan</td>\n      <td>95 Stanton St</td>\n      <td>nyc</td>\n      <td>Gun Related</td>\n      <td>-N1SgBatcyLR2IKWPMQ0</td>\n      <td>NYPD 7</td>\n      <td>None</td>\n      <td>angers:104, chats:19, hearts:48, streamViews:0, streamsConfirmed:0, streamsCount:0, thanks:95, usersNotifiedUnique:19446, views:2316, whoas:60</td>\n      <td>False</td>\n      <td>red</td>\n      <td>1651913003000</td>\n      <td><a target=\"_blank\" href=\"https://citizen.com/-N1SgBatcyLR2IKWPMQ0\">https://citizen.com/-N1SgBatcyLR2IKWPMQ0</a></td>\n      <td>05/07/2022, 08:43:23</td>\n      <td>05/07/2022, 08:43:23</td>\n      <td>19446</td>\n    </tr>\n    <tr>\n      <th>12</th>\n      <td>Man Robbed Person in Deli at Gunpoint</td>\n      <td>16 W Fordham Rd, Bronx, New York, 10468</td>\n      <td>University Heights, Bronx</td>\n      <td>16 W Fordham Rd</td>\n      <td>nyc</td>\n      <td>Gun Related</td>\n      <td>-N1X1iQL3BSYqh6S40Wy</td>\n      <td>NYPD 52</td>\n      <td>None</td>\n      <td>angers:226, chats:1, hearts:2, streamViews:0, streamsConfirmed:0, streamsCount:0, thanks:28, usersNotifiedUnique:12035, views:927, whoas:14</td>\n      <td>False</td>\n      <td>red</td>\n      <td>1651986063000</td>\n      <td><a target=\"_blank\" href=\"https://citizen.com/-N1X1iQL3BSYqh6S40Wy\">https://citizen.com/-N1X1iQL3BSYqh6S40Wy</a></td>\n      <td>05/08/2022, 05:01:03</td>\n      <td>05/08/2022, 05:01:03</td>\n      <td>12035</td>\n    </tr>\n    <tr>\n      <th>13</th>\n      <td>Man Shot</td>\n      <td>E 104th St & 3rd Ave, New York, New York, 10029</td>\n      <td>East Harlem, Manhattan</td>\n      <td>E 104th St & 3rd Ave</td>\n      <td>nyc</td>\n      <td>Gun Related</td>\n      <td>-N1Wbe5I0tRnnQe9qIzr</td>\n      <td>NYPD 23</td>\n      <td><img src=\"https://storage.googleapis.com/citizen-stream-capture/mux:AWXUALdl2KLNznYZgF02P75rzglqdJb71veda1X9ppzM_0005.jpg\" style=max-height:124px;\"/></td>\n      <td>angers:1288, chats:59, hearts:12, streamViews:0, streamsConfirmed:0, streamsCount:1, thanks:604, usersNotifiedUnique:11744, views:13314, whoas:302</td>\n      <td>True</td>\n      <td>red</td>\n      <td>1651978970000</td>\n      <td><a target=\"_blank\" href=\"https://citizen.com/-N1Wbe5I0tRnnQe9qIzr\">https://citizen.com/-N1Wbe5I0tRnnQe9qIzr</a></td>\n      <td>05/08/2022, 03:02:50</td>\n      <td>05/08/2022, 03:02:50</td>\n      <td>11744</td>\n    </tr>\n    <tr>\n      <th>14</th>\n      <td>Man Robbed at Gunpoint</td>\n      <td>202 E 7th St, New York, New York, 10009</td>\n      <td>East Village, Manhattan</td>\n      <td>202 E 7th St</td>\n      <td>nyc</td>\n      <td>Gun Related</td>\n      <td>-N1WvwAJIR_yefEQv_yu</td>\n      <td>NYPD 9</td>\n      <td>None</td>\n      <td>angers:7, chats:13, hearts:1, streamViews:0, streamsConfirmed:0, streamsCount:0, thanks:1, usersNotifiedUnique:11514, views:1848, whoas:6</td>\n      <td>False</td>\n      <td>red</td>\n      <td>1651984272000</td>\n      <td><a target=\"_blank\" href=\"https://citizen.com/-N1WvwAJIR_yefEQv_yu\">https://citizen.com/-N1WvwAJIR_yefEQv_yu</a></td>\n      <td>05/08/2022, 04:31:12</td>\n      <td>05/08/2022, 04:31:12</td>\n      <td>11514</td>\n    </tr>\n    <tr>\n      <th>19</th>\n      <td>Two Men Robbed Person of iPhone, AirPods at Gunpoint</td>\n      <td>E 180th St & Hughes Ave, Bronx, New York, 10457</td>\n      <td>East Tremont, Bronx</td>\n      <td>E 180th St & Hughes Ave</td>\n      <td>nyc</td>\n      <td>Gun Related</td>\n      <td>-N1Wj2neGIU8sRTbvq6d</td>\n      <td>NYPD 48</td>\n      <td>None</td>\n      <td>angers:101, chats:13, hearts:3, streamViews:0, streamsConfirmed:0, streamsCount:0, thanks:30, usersNotifiedUnique:8884, views:1801, whoas:30</td>\n      <td>False</td>\n      <td>red</td>\n      <td>1651980907000</td>\n      <td><a target=\"_blank\" href=\"https://citizen.com/-N1Wj2neGIU8sRTbvq6d\">https://citizen.com/-N1Wj2neGIU8sRTbvq6d</a></td>\n      <td>05/08/2022, 03:35:07</td>\n      <td>05/08/2022, 03:35:07</td>\n      <td>8884</td>\n    </tr>\n    <tr>\n      <th>24</th>\n      <td>Person Robbed at Gunpoint at Train Station</td>\n      <td>1071-1117 Whitlock Ave, Bronx, NY, 10459, USA</td>\n      <td>Longwood, Bronx</td>\n      <td>Whitlock Av Station (6)</td>\n      <td>nyc</td>\n      <td>Gun Related</td>\n      <td>-N1UBeC9nO1UN7wW4X0O</td>\n      <td>NYPD 41</td>\n      <td>None</td>\n      <td>angers:33, chats:18, hearts:81, streamViews:0, streamsConfirmed:0, streamsCount:0, thanks:38, usersNotifiedUnique:7589, views:1400, whoas:3</td>\n      <td>False</td>\n      <td>red</td>\n      <td>1651938346000</td>\n      <td><a target=\"_blank\" href=\"https://citizen.com/-N1UBeC9nO1UN7wW4X0O\">https://citizen.com/-N1UBeC9nO1UN7wW4X0O</a></td>\n      <td>05/07/2022, 15:45:46</td>\n      <td>05/07/2022, 15:45:46</td>\n      <td>7589</td>\n    </tr>\n    <tr>\n      <th>25</th>\n      <td>Man Robbed of Money at Gunpoint</td>\n      <td>471 Audubon Ave, New York, New York, 10040</td>\n      <td>Washington Heights, Manhattan</td>\n      <td>471 Audubon Ave</td>\n      <td>nyc</td>\n      <td>Gun Related</td>\n      <td>-N1Tn96EZcpo1t_8rxUD</td>\n      <td>NYPD 34</td>\n      <td>None</td>\n      <td>angers:4, chats:2, hearts:1, streamViews:0, streamsConfirmed:0, streamsCount:0, thanks:4, usersNotifiedUnique:7388, views:1608, whoas:18</td>\n      <td>False</td>\n      <td>red</td>\n      <td>1651931652000</td>\n      <td><a target=\"_blank\" href=\"https://citizen.com/-N1Tn96EZcpo1t_8rxUD\">https://citizen.com/-N1Tn96EZcpo1t_8rxUD</a></td>\n      <td>05/07/2022, 13:54:12</td>\n      <td>05/07/2022, 13:54:12</td>\n      <td>7388</td>\n    </tr>\n    <tr>\n      <th>29</th>\n      <td>Man Assaulted Person, Robbed Store at Gunpoint</td>\n      <td>1091 Bedford Ave, Brooklyn, New York, 11216</td>\n      <td>Bedford Stuyvesant, Brooklyn</td>\n      <td>1091 Bedford Ave</td>\n      <td>nyc</td>\n      <td>Gun Related</td>\n      <td>-N1XQtujakJyROLd8PbA</td>\n      <td>NYPD 79</td>\n      <td>None</td>\n      <td>angers:1, chats:3, hearts:0, streamViews:0, streamsConfirmed:0, streamsCount:0, thanks:0, usersNotifiedUnique:6936, views:282, whoas:0</td>\n      <td>False</td>\n      <td>red</td>\n      <td>1651992666000</td>\n      <td><a target=\"_blank\" href=\"https://citizen.com/-N1XQtujakJyROLd8PbA\">https://citizen.com/-N1XQtujakJyROLd8PbA</a></td>\n      <td>05/08/2022, 06:51:06</td>\n      <td>05/08/2022, 06:51:06</td>\n      <td>6936</td>\n    </tr>\n    <tr>\n      <th>30</th>\n      <td>Woman Robbed at Gunpoint</td>\n      <td>1198 Elder Ave, Bronx, NY, 10472, USA</td>\n      <td>Soundview, Bronx</td>\n      <td>Elder Av Station (6)</td>\n      <td>nyc</td>\n      <td>Gun Related</td>\n      <td>-N1UOBVIVkn5lvh-fGOr</td>\n      <td>NYPD 43</td>\n      <td>None</td>\n      <td>angers:120, chats:15, hearts:146, streamViews:0, streamsConfirmed:0, streamsCount:0, thanks:77, usersNotifiedUnique:6607, views:1363, whoas:15</td>\n      <td>False</td>\n      <td>red</td>\n      <td>1651941632000</td>\n      <td><a target=\"_blank\" href=\"https://citizen.com/-N1UOBVIVkn5lvh-fGOr\">https://citizen.com/-N1UOBVIVkn5lvh-fGOr</a></td>\n      <td>05/07/2022, 16:40:32</td>\n      <td>05/07/2022, 16:40:32</td>\n      <td>6607</td>\n    </tr>\n    <tr>\n      <th>31</th>\n      <td>Shots Fired</td>\n      <td>44 E 55th St, Brooklyn, New York, 11203</td>\n      <td>East Flatbush, Brooklyn</td>\n      <td>44 E 55th St</td>\n      <td>nyc</td>\n      <td>Gun Related</td>\n      <td>-N1U4G2lFA5_JCKjcRm2</td>\n      <td>NYPD 67</td>\n      <td><img src=\"https://storage.googleapis.com/citizen-stream-capture/mux:8UBS02S9HYqpVgRNMrro1K5Lmc01smfILoBEtSp8IhgO4_0002.jpg\" style=max-height:124px;\"/></td>\n      <td>angers:70, chats:2, hearts:68, streamViews:0, streamsConfirmed:0, streamsCount:2, thanks:60, usersNotifiedUnique:6311, views:7329, whoas:66</td>\n      <td>True</td>\n      <td>red</td>\n      <td>1651936400000</td>\n      <td><a target=\"_blank\" href=\"https://citizen.com/-N1U4G2lFA5_JCKjcRm2\">https://citizen.com/-N1U4G2lFA5_JCKjcRm2</a></td>\n      <td>05/07/2022, 15:13:20</td>\n      <td>05/07/2022, 15:13:20</td>\n      <td>6311</td>\n    </tr>\n    <tr>\n      <th>32</th>\n      <td>Shots Fired</td>\n      <td>2891 Sedgwick Ave, Bronx, New York, 10468</td>\n      <td>Kingsbridge, Bronx</td>\n      <td>2891 Sedgwick Ave</td>\n      <td>nyc</td>\n      <td>Gun Related</td>\n      <td>-N1Stnmh5XB49vlKrL0S</td>\n      <td>NYPD 50</td>\n      <td>None</td>\n      <td>angers:49, chats:3, hearts:47, streamViews:0, streamsConfirmed:0, streamsCount:0, thanks:1, usersNotifiedUnique:6227, views:1264, whoas:2</td>\n      <td>False</td>\n      <td>red</td>\n      <td>1651916617000</td>\n      <td><a target=\"_blank\" href=\"https://citizen.com/-N1Stnmh5XB49vlKrL0S\">https://citizen.com/-N1Stnmh5XB49vlKrL0S</a></td>\n      <td>05/07/2022, 09:43:37</td>\n      <td>05/07/2022, 09:43:37</td>\n      <td>6227</td>\n    </tr>\n    <tr>\n      <th>34</th>\n      <td>Black Car Taken at Gunpoint</td>\n      <td>Nostrand Ave & Lefferts Ave, Brooklyn, New York, 11225</td>\n      <td>Prospect Lefferts Gardens, Brooklyn</td>\n      <td>Nostrand Ave & Lefferts Ave</td>\n      <td>nyc</td>\n      <td>Gun Related</td>\n      <td>-N1WU_3MZlEKlmbJlRas</td>\n      <td>NYPD 71</td>\n      <td>None</td>\n      <td>angers:79, chats:7, hearts:1, streamViews:0, streamsConfirmed:0, streamsCount:0, thanks:29, usersNotifiedUnique:6158, views:2061, whoas:32</td>\n      <td>False</td>\n      <td>red</td>\n      <td>1651976852000</td>\n      <td><a target=\"_blank\" href=\"https://citizen.com/-N1WU_3MZlEKlmbJlRas\">https://citizen.com/-N1WU_3MZlEKlmbJlRas</a></td>\n      <td>05/08/2022, 02:27:32</td>\n      <td>05/08/2022, 02:27:32</td>\n      <td>6158</td>\n    </tr>\n    <tr>\n      <th>37</th>\n      <td>Shots Fired</td>\n      <td>2515 Boston Rd, Bronx, New York, 10467</td>\n      <td>Williamsbridge, Bronx</td>\n      <td>2515 Boston Rd</td>\n      <td>nyc</td>\n      <td>Gun Related</td>\n      <td>-N1SIY6Ddz-aCmj2ch-D</td>\n      <td>NYPD 49</td>\n      <td>None</td>\n      <td>angers:0, chats:6, hearts:0, streamViews:0, streamsConfirmed:0, streamsCount:0, thanks:0, usersNotifiedUnique:4887, views:768, whoas:0</td>\n      <td>False</td>\n      <td>red</td>\n      <td>1651906605000</td>\n      <td><a target=\"_blank\" href=\"https://citizen.com/-N1SIY6Ddz-aCmj2ch-D\">https://citizen.com/-N1SIY6Ddz-aCmj2ch-D</a></td>\n      <td>05/07/2022, 06:56:45</td>\n      <td>05/07/2022, 06:56:45</td>\n      <td>4887</td>\n    </tr>\n    <tr>\n      <th>39</th>\n      <td>Search for Man Involved in Robbery at Gunpoint in T-Mobile</td>\n      <td>95-02 Jamaica Ave, Woodhaven, New York, 11421</td>\n      <td>Woodhaven, Queens</td>\n      <td>95-02 Jamaica Ave</td>\n      <td>nyc</td>\n      <td>Gun Related</td>\n      <td>-N1Up1SnqjjDxpS3RA4u</td>\n      <td>NYPD 102</td>\n      <td><img src=\"https://storage.googleapis.com/citizen-stream-capture/mux:01qD7Il01PKHM400OCja7oI6dM4fNaZEVtJtcL0001FEQCE8_0000.jpg\" style=max-height:124px;\"/></td>\n      <td>angers:83, chats:26, hearts:163, streamViews:0, streamsConfirmed:1, streamsCount:1, thanks:6, usersNotifiedUnique:3755, views:9679, whoas:14</td>\n      <td>True</td>\n      <td>red</td>\n      <td>1651948922000</td>\n      <td><a target=\"_blank\" href=\"https://citizen.com/-N1Up1SnqjjDxpS3RA4u\">https://citizen.com/-N1Up1SnqjjDxpS3RA4u</a></td>\n      <td>05/07/2022, 18:42:02</td>\n      <td>05/07/2022, 18:42:02</td>\n      <td>3755</td>\n    </tr>\n    <tr>\n      <th>42</th>\n      <td>Man Shot in Leg</td>\n      <td>2123 Tillotson Ave, Bronx, New York, 10475</td>\n      <td>Eastchester, Bronx</td>\n      <td>2123 Tillotson Ave</td>\n      <td>nyc</td>\n      <td>Gun Related</td>\n      <td>-N1WzC4dUQo9fs0r4U7S</td>\n      <td>NYPD 47</td>\n      <td>None</td>\n      <td>angers:34, chats:6, hearts:1, streamViews:0, streamsConfirmed:0, streamsCount:0, thanks:3, usersNotifiedUnique:3228, views:722, whoas:35</td>\n      <td>False</td>\n      <td>red</td>\n      <td>1651985140000</td>\n      <td><a target=\"_blank\" href=\"https://citizen.com/-N1WzC4dUQo9fs0r4U7S\">https://citizen.com/-N1WzC4dUQo9fs0r4U7S</a></td>\n      <td>05/08/2022, 04:45:40</td>\n      <td>05/08/2022, 04:45:40</td>\n      <td>3228</td>\n    </tr>\n    <tr>\n      <th>44</th>\n      <td>Shots Fired</td>\n      <td>291 Hollywood Ave, Bronx, New York, 10465</td>\n      <td>Throggs Neck, Bronx</td>\n      <td>291 Hollywood Ave</td>\n      <td>nyc</td>\n      <td>Gun Related</td>\n      <td>-N1SuOfedUt6Ko9NqRzn</td>\n      <td>NYPD 45</td>\n      <td><img src=\"https://storage.googleapis.com/citizen-stream-capture/mux:W02003RkAXM4wDYFwjHJljXO3008802bscfHMjfj2otXzpA_0009.jpg\" style=max-height:124px;\"/></td>\n      <td>angers:98, chats:19, hearts:8, streamViews:0, streamsConfirmed:0, streamsCount:1, thanks:29, usersNotifiedUnique:3154, views:12744, whoas:7</td>\n      <td>True</td>\n      <td>red</td>\n      <td>1651916772000</td>\n      <td><a target=\"_blank\" href=\"https://citizen.com/-N1SuOfedUt6Ko9NqRzn\">https://citizen.com/-N1SuOfedUt6Ko9NqRzn</a></td>\n      <td>05/07/2022, 09:46:12</td>\n      <td>05/07/2022, 09:46:12</td>\n      <td>3154</td>\n    </tr>\n    <tr>\n      <th>47</th>\n      <td>Person Shot</td>\n      <td>115th Ave & Farmers Blvd, Saint Albans, New York, 11412</td>\n      <td>St. Albans, Queens</td>\n      <td>115th Ave & Farmers Blvd</td>\n      <td>nyc</td>\n      <td>Gun Related</td>\n      <td>-N1RsxWDovIQlCGyMXvn</td>\n      <td>NYPD 113</td>\n      <td>None</td>\n      <td>angers:15, chats:13, hearts:2, streamViews:0, streamsConfirmed:0, streamsCount:1, thanks:2, usersNotifiedUnique:2934, views:1334, whoas:6</td>\n      <td>False</td>\n      <td>red</td>\n      <td>1651899617000</td>\n      <td><a target=\"_blank\" href=\"https://citizen.com/-N1RsxWDovIQlCGyMXvn\">https://citizen.com/-N1RsxWDovIQlCGyMXvn</a></td>\n      <td>05/07/2022, 05:00:17</td>\n      <td>05/07/2022, 05:00:17</td>\n      <td>2934</td>\n    </tr>\n  </tbody>\n</table>\n  </body>\n  <script> \n    function get_info(selected_key) { google.colab.kernel.invokeFunction('notebook.show_incident_data', [], {selected_key}); }\n    var rows = Array.from(document.getElementsByTagName('tr'));\n    // remove header row\n    rows.shift();\n    rows.forEach((row, i) => {\n      row.addEventListener('click', () => {\n        get_info(row.getElementsByTagName('td')[6].innerHTML);\n      });\n    }); \n  </script>\n"
                },
                "metadata": {}
              }
            ]
          }
        },
        "ba6bfd3d49b74d13969e13cb1542291e": {
          "model_module": "@jupyter-widgets/base",
          "model_name": "LayoutModel",
          "model_module_version": "1.2.0",
          "state": {
            "_model_module": "@jupyter-widgets/base",
            "_model_module_version": "1.2.0",
            "_model_name": "LayoutModel",
            "_view_count": null,
            "_view_module": "@jupyter-widgets/base",
            "_view_module_version": "1.2.0",
            "_view_name": "LayoutView",
            "align_content": null,
            "align_items": null,
            "align_self": null,
            "border": null,
            "bottom": null,
            "display": null,
            "flex": null,
            "flex_flow": null,
            "grid_area": null,
            "grid_auto_columns": null,
            "grid_auto_flow": null,
            "grid_auto_rows": null,
            "grid_column": null,
            "grid_gap": null,
            "grid_row": null,
            "grid_template_areas": null,
            "grid_template_columns": null,
            "grid_template_rows": null,
            "height": null,
            "justify_content": null,
            "justify_items": null,
            "left": null,
            "margin": null,
            "max_height": null,
            "max_width": null,
            "min_height": null,
            "min_width": null,
            "object_fit": null,
            "object_position": null,
            "order": null,
            "overflow": null,
            "overflow_x": null,
            "overflow_y": null,
            "padding": null,
            "right": null,
            "top": null,
            "visibility": null,
            "width": null
          }
        },
        "3afac739d86545c1bc9a7279c9cb04e8": {
          "model_module": "@jupyter-widgets/output",
          "model_name": "OutputModel",
          "model_module_version": "1.0.0",
          "state": {
            "_dom_classes": [],
            "_model_module": "@jupyter-widgets/output",
            "_model_module_version": "1.0.0",
            "_model_name": "OutputModel",
            "_view_count": null,
            "_view_module": "@jupyter-widgets/output",
            "_view_module_version": "1.0.0",
            "_view_name": "OutputView",
            "layout": "IPY_MODEL_a57034834e034faf82b594b162683a69",
            "msg_id": "",
            "outputs": [
              {
                "output_type": "display_data",
                "data": {
                  "text/plain": "<IPython.core.display.HTML object>",
                  "text/html": "Citizen incident link: <a href=https://citizen.com/-N1WzC4dUQo9fs0r4U7S>Man Shot in Leg</a>"
                },
                "metadata": {}
              },
              {
                "output_type": "display_data",
                "data": {
                  "text/plain": "            Fields                                             Values\n0            title                                    Man Shot in Leg\n1          address         2123 Tillotson Ave, Bronx, New York, 10475\n2     neighborhood                                 Eastchester, Bronx\n3         location                                 2123 Tillotson Ave\n4         cityCode                                                nyc\n5       categories                                        Gun Related\n6          updates  {'-N1WzBZVCrxGYo3liYfE': {'text': 'Incident re...\n7              key                               -N1WzC4dUQo9fs0r4U7S\n8           police                                            NYPD 47\n9   shareImageLive                                               None\n10           stats  angers:34, chats:6, hearts:1, streamViews:0, s...\n11          hasVod                                              False\n12        severity                                                red\n13              cs                                      1651985140000\n14             url           https://citizen.com/-N1WzC4dUQo9fs0r4U7S\n15      created_at                               05/08/2022, 04:45:40\n16      updated_at                               05/08/2022, 04:45:40\n17   usersNotified                                               3228",
                  "text/html": "\n  <div id=\"df-df008254-f488-4c16-9ae9-e91cbbc072ba\">\n    <div class=\"colab-df-container\">\n      <div>\n<style scoped>\n    .dataframe tbody tr th:only-of-type {\n        vertical-align: middle;\n    }\n\n    .dataframe tbody tr th {\n        vertical-align: top;\n    }\n\n    .dataframe thead th {\n        text-align: right;\n    }\n</style>\n<table border=\"1\" class=\"dataframe\">\n  <thead>\n    <tr style=\"text-align: right;\">\n      <th></th>\n      <th>Fields</th>\n      <th>Values</th>\n    </tr>\n  </thead>\n  <tbody>\n    <tr>\n      <th>0</th>\n      <td>title</td>\n      <td>Man Shot in Leg</td>\n    </tr>\n    <tr>\n      <th>1</th>\n      <td>address</td>\n      <td>2123 Tillotson Ave, Bronx, New York, 10475</td>\n    </tr>\n    <tr>\n      <th>2</th>\n      <td>neighborhood</td>\n      <td>Eastchester, Bronx</td>\n    </tr>\n    <tr>\n      <th>3</th>\n      <td>location</td>\n      <td>2123 Tillotson Ave</td>\n    </tr>\n    <tr>\n      <th>4</th>\n      <td>cityCode</td>\n      <td>nyc</td>\n    </tr>\n    <tr>\n      <th>5</th>\n      <td>categories</td>\n      <td>Gun Related</td>\n    </tr>\n    <tr>\n      <th>6</th>\n      <td>updates</td>\n      <td>{'-N1WzBZVCrxGYo3liYfE': {'text': 'Incident re...</td>\n    </tr>\n    <tr>\n      <th>7</th>\n      <td>key</td>\n      <td>-N1WzC4dUQo9fs0r4U7S</td>\n    </tr>\n    <tr>\n      <th>8</th>\n      <td>police</td>\n      <td>NYPD 47</td>\n    </tr>\n    <tr>\n      <th>9</th>\n      <td>shareImageLive</td>\n      <td>None</td>\n    </tr>\n    <tr>\n      <th>10</th>\n      <td>stats</td>\n      <td>angers:34, chats:6, hearts:1, streamViews:0, s...</td>\n    </tr>\n    <tr>\n      <th>11</th>\n      <td>hasVod</td>\n      <td>False</td>\n    </tr>\n    <tr>\n      <th>12</th>\n      <td>severity</td>\n      <td>red</td>\n    </tr>\n    <tr>\n      <th>13</th>\n      <td>cs</td>\n      <td>1651985140000</td>\n    </tr>\n    <tr>\n      <th>14</th>\n      <td>url</td>\n      <td>https://citizen.com/-N1WzC4dUQo9fs0r4U7S</td>\n    </tr>\n    <tr>\n      <th>15</th>\n      <td>created_at</td>\n      <td>05/08/2022, 04:45:40</td>\n    </tr>\n    <tr>\n      <th>16</th>\n      <td>updated_at</td>\n      <td>05/08/2022, 04:45:40</td>\n    </tr>\n    <tr>\n      <th>17</th>\n      <td>usersNotified</td>\n      <td>3228</td>\n    </tr>\n  </tbody>\n</table>\n</div>\n      <button class=\"colab-df-convert\" onclick=\"convertToInteractive('df-df008254-f488-4c16-9ae9-e91cbbc072ba')\"\n              title=\"Convert this dataframe to an interactive table.\"\n              style=\"display:none;\">\n        \n  <svg xmlns=\"http://www.w3.org/2000/svg\" height=\"24px\"viewBox=\"0 0 24 24\"\n       width=\"24px\">\n    <path d=\"M0 0h24v24H0V0z\" fill=\"none\"/>\n    <path d=\"M18.56 5.44l.94 2.06.94-2.06 2.06-.94-2.06-.94-.94-2.06-.94 2.06-2.06.94zm-11 1L8.5 8.5l.94-2.06 2.06-.94-2.06-.94L8.5 2.5l-.94 2.06-2.06.94zm10 10l.94 2.06.94-2.06 2.06-.94-2.06-.94-.94-2.06-.94 2.06-2.06.94z\"/><path d=\"M17.41 7.96l-1.37-1.37c-.4-.4-.92-.59-1.43-.59-.52 0-1.04.2-1.43.59L10.3 9.45l-7.72 7.72c-.78.78-.78 2.05 0 2.83L4 21.41c.39.39.9.59 1.41.59.51 0 1.02-.2 1.41-.59l7.78-7.78 2.81-2.81c.8-.78.8-2.07 0-2.86zM5.41 20L4 18.59l7.72-7.72 1.47 1.35L5.41 20z\"/>\n  </svg>\n      </button>\n      \n  <style>\n    .colab-df-container {\n      display:flex;\n      flex-wrap:wrap;\n      gap: 12px;\n    }\n\n    .colab-df-convert {\n      background-color: #E8F0FE;\n      border: none;\n      border-radius: 50%;\n      cursor: pointer;\n      display: none;\n      fill: #1967D2;\n      height: 32px;\n      padding: 0 0 0 0;\n      width: 32px;\n    }\n\n    .colab-df-convert:hover {\n      background-color: #E2EBFA;\n      box-shadow: 0px 1px 2px rgba(60, 64, 67, 0.3), 0px 1px 3px 1px rgba(60, 64, 67, 0.15);\n      fill: #174EA6;\n    }\n\n    [theme=dark] .colab-df-convert {\n      background-color: #3B4455;\n      fill: #D2E3FC;\n    }\n\n    [theme=dark] .colab-df-convert:hover {\n      background-color: #434B5C;\n      box-shadow: 0px 1px 3px 1px rgba(0, 0, 0, 0.15);\n      filter: drop-shadow(0px 1px 2px rgba(0, 0, 0, 0.3));\n      fill: #FFFFFF;\n    }\n  </style>\n\n      <script>\n        const buttonEl =\n          document.querySelector('#df-df008254-f488-4c16-9ae9-e91cbbc072ba button.colab-df-convert');\n        buttonEl.style.display =\n          google.colab.kernel.accessAllowed ? 'block' : 'none';\n\n        async function convertToInteractive(key) {\n          const element = document.querySelector('#df-df008254-f488-4c16-9ae9-e91cbbc072ba');\n          const dataTable =\n            await google.colab.kernel.invokeFunction('convertToInteractive',\n                                                     [key], {});\n          if (!dataTable) return;\n\n          const docLinkHtml = 'Like what you see? Visit the ' +\n            '<a target=\"_blank\" href=https://colab.research.google.com/notebooks/data_table.ipynb>data table notebook</a>'\n            + ' to learn more about interactive tables.';\n          element.innerHTML = '';\n          dataTable['output_type'] = 'display_data';\n          await google.colab.output.renderOutput(dataTable, element);\n          const docLink = document.createElement('div');\n          docLink.innerHTML = docLinkHtml;\n          element.appendChild(docLink);\n        }\n      </script>\n    </div>\n  </div>\n  ",
                  "application/vnd.google.colaboratory.module+javascript": "\n      import \"https://ssl.gstatic.com/colaboratory/data_table/f872b2c2305463fd/data_table.js\";\n\n      window.createDataTable({\n        data: [[{\n            'v': 0,\n            'f': \"0\",\n        },\n\"title\",\n\"Man Shot in Leg\"],\n [{\n            'v': 1,\n            'f': \"1\",\n        },\n\"address\",\n\"2123 Tillotson Ave, Bronx, New York, 10475\"],\n [{\n            'v': 2,\n            'f': \"2\",\n        },\n\"neighborhood\",\n\"Eastchester, Bronx\"],\n [{\n            'v': 3,\n            'f': \"3\",\n        },\n\"location\",\n\"2123 Tillotson Ave\"],\n [{\n            'v': 4,\n            'f': \"4\",\n        },\n\"cityCode\",\n\"nyc\"],\n [{\n            'v': 5,\n            'f': \"5\",\n        },\n\"categories\",\n\"Gun Related\"],\n [{\n            'v': 6,\n            'f': \"6\",\n        },\n\"updates\",\n\"{'-N1WzBZVCrxGYo3liYfE': {'text': 'Incident reported at 2123 Tillotson Ave.', 'ts': 1651985139999, 'type': 'ROOT', 'displayLocation': '2123 Tillotson Ave'}, '-N1WzC4sA4s75GXD9CMH': {'text': 'ShotSpotter technology has detected five rounds of possible gunfire. These devices pick up gunshots or similarly loud noises, such as fireworks or backfiring vehicles.', 'ts': 1651985140000, 'type': 'TEXT', 'displayLocation': '2123 Tillotson Ave'}, '-N1X08XwZL6aF5rDF_F3': {'text': 'According to an additional 911, unconfirmed call report a person was shot in the leg at 3406 Wright Ave.', 'ts': 1651985649000, 'type': 'TEXT', 'displayLocation': ''}, '-N1X0EZmqJTLI5OsVaVY': {'text': 'Police are en route.', 'ts': 1651985674000, 'type': 'TEXT', 'displayLocation': ''}, '-N1X0eZCETKDqNtbd8-h': {'text': 'Police on the scene confirm a man was shot.', 'ts': 1651985785000, 'type': 'TEXT', 'displayLocation': ''}, '-N1X15NsBXtc1FNyQQFE': {'text': 'Police advise the man has a gunshot wound on the right leg. They advise he sustained injuries that are considered not life-threatening.', 'ts': 1651985899000, 'type': 'TEXT', 'displayLocation': ''}, '-N1X18ynpgYlrbln6o2G': {'text': 'An ambulance is en route.', 'ts': 1651985916000, 'type': 'TEXT', 'displayLocation': ''}}\"],\n [{\n            'v': 7,\n            'f': \"7\",\n        },\n\"key\",\n\"-N1WzC4dUQo9fs0r4U7S\"],\n [{\n            'v': 8,\n            'f': \"8\",\n        },\n\"police\",\n\"NYPD 47\"],\n [{\n            'v': 9,\n            'f': \"9\",\n        },\n\"shareImageLive\",\nnull],\n [{\n            'v': 10,\n            'f': \"10\",\n        },\n\"stats\",\n\"angers:34, chats:6, hearts:1, streamViews:0, streamsConfirmed:0, streamsCount:0, thanks:3, usersNotifiedUnique:3228, views:737, whoas:35\"],\n [{\n            'v': 11,\n            'f': \"11\",\n        },\n\"hasVod\",\nfalse],\n [{\n            'v': 12,\n            'f': \"12\",\n        },\n\"severity\",\n\"red\"],\n [{\n            'v': 13,\n            'f': \"13\",\n        },\n\"cs\",\n1651985140000],\n [{\n            'v': 14,\n            'f': \"14\",\n        },\n\"url\",\n\"https://citizen.com/-N1WzC4dUQo9fs0r4U7S\"],\n [{\n            'v': 15,\n            'f': \"15\",\n        },\n\"created_at\",\n\"05/08/2022, 04:45:40\"],\n [{\n            'v': 16,\n            'f': \"16\",\n        },\n\"updated_at\",\n\"05/08/2022, 04:45:40\"],\n [{\n            'v': 17,\n            'f': \"17\",\n        },\n\"usersNotified\",\n3228]],\n        columns: [[\"number\", \"index\"], [\"string\", \"Fields\"], [\"string\", \"Values\"]],\n        columnOptions: [{\"width\": \"1px\", \"className\": \"index_column\"}],\n        rowsPerPage: 25,\n        helpUrl: \"https://colab.research.google.com/notebooks/data_table.ipynb\",\n        suppressOutputScrolling: true,\n        minimumWidth: undefined,\n      });\n    "
                },
                "metadata": {}
              }
            ]
          }
        },
        "a57034834e034faf82b594b162683a69": {
          "model_module": "@jupyter-widgets/base",
          "model_name": "LayoutModel",
          "model_module_version": "1.2.0",
          "state": {
            "_model_module": "@jupyter-widgets/base",
            "_model_module_version": "1.2.0",
            "_model_name": "LayoutModel",
            "_view_count": null,
            "_view_module": "@jupyter-widgets/base",
            "_view_module_version": "1.2.0",
            "_view_name": "LayoutView",
            "align_content": null,
            "align_items": null,
            "align_self": null,
            "border": null,
            "bottom": null,
            "display": null,
            "flex": null,
            "flex_flow": null,
            "grid_area": null,
            "grid_auto_columns": null,
            "grid_auto_flow": null,
            "grid_auto_rows": null,
            "grid_column": null,
            "grid_gap": null,
            "grid_row": null,
            "grid_template_areas": null,
            "grid_template_columns": null,
            "grid_template_rows": null,
            "height": null,
            "justify_content": null,
            "justify_items": null,
            "left": null,
            "margin": null,
            "max_height": null,
            "max_width": null,
            "min_height": null,
            "min_width": null,
            "object_fit": null,
            "object_position": null,
            "order": null,
            "overflow": null,
            "overflow_x": null,
            "overflow_y": null,
            "padding": null,
            "right": null,
            "top": null,
            "visibility": null,
            "width": null
          }
        },
        "3ec0689891c24b74aa5fcb1e94aaac96": {
          "model_module": "@jupyter-widgets/output",
          "model_name": "OutputModel",
          "model_module_version": "1.0.0",
          "state": {
            "_dom_classes": [],
            "_model_module": "@jupyter-widgets/output",
            "_model_module_version": "1.0.0",
            "_model_name": "OutputModel",
            "_view_count": null,
            "_view_module": "@jupyter-widgets/output",
            "_view_module_version": "1.0.0",
            "_view_name": "OutputView",
            "layout": "IPY_MODEL_0b64329e04ef494ea58c0819e34f1073",
            "msg_id": "",
            "outputs": [
              {
                "output_type": "display_data",
                "data": {
                  "text/plain": "                     id            created_at  \\\n0  -N1WzBZVCrxGYo3liYfE  05/08/2022, 04:45:39   \n1  -N1WzC4sA4s75GXD9CMH  05/08/2022, 04:45:40   \n2  -N1X08XwZL6aF5rDF_F3  05/08/2022, 04:54:09   \n3  -N1X0EZmqJTLI5OsVaVY  05/08/2022, 04:54:34   \n4  -N1X0eZCETKDqNtbd8-h  05/08/2022, 04:56:25   \n5  -N1X15NsBXtc1FNyQQFE  05/08/2022, 04:58:19   \n6  -N1X18ynpgYlrbln6o2G  05/08/2022, 04:58:36   \n\n                                                text            location  \n0           Incident reported at 2123 Tillotson Ave.  2123 Tillotson Ave  \n1  ShotSpotter technology has detected five round...  2123 Tillotson Ave  \n2  According to an additional 911, unconfirmed ca...                      \n3                               Police are en route.                      \n4        Police on the scene confirm a man was shot.                      \n5  Police advise the man has a gunshot wound on t...                      \n6                          An ambulance is en route.                      ",
                  "text/html": "\n  <div id=\"df-8a1dd814-b052-4abc-9b88-bb8c09f94155\">\n    <div class=\"colab-df-container\">\n      <div>\n<style scoped>\n    .dataframe tbody tr th:only-of-type {\n        vertical-align: middle;\n    }\n\n    .dataframe tbody tr th {\n        vertical-align: top;\n    }\n\n    .dataframe thead th {\n        text-align: right;\n    }\n</style>\n<table border=\"1\" class=\"dataframe\">\n  <thead>\n    <tr style=\"text-align: right;\">\n      <th></th>\n      <th>id</th>\n      <th>created_at</th>\n      <th>text</th>\n      <th>location</th>\n    </tr>\n  </thead>\n  <tbody>\n    <tr>\n      <th>0</th>\n      <td>-N1WzBZVCrxGYo3liYfE</td>\n      <td>05/08/2022, 04:45:39</td>\n      <td>Incident reported at 2123 Tillotson Ave.</td>\n      <td>2123 Tillotson Ave</td>\n    </tr>\n    <tr>\n      <th>1</th>\n      <td>-N1WzC4sA4s75GXD9CMH</td>\n      <td>05/08/2022, 04:45:40</td>\n      <td>ShotSpotter technology has detected five round...</td>\n      <td>2123 Tillotson Ave</td>\n    </tr>\n    <tr>\n      <th>2</th>\n      <td>-N1X08XwZL6aF5rDF_F3</td>\n      <td>05/08/2022, 04:54:09</td>\n      <td>According to an additional 911, unconfirmed ca...</td>\n      <td></td>\n    </tr>\n    <tr>\n      <th>3</th>\n      <td>-N1X0EZmqJTLI5OsVaVY</td>\n      <td>05/08/2022, 04:54:34</td>\n      <td>Police are en route.</td>\n      <td></td>\n    </tr>\n    <tr>\n      <th>4</th>\n      <td>-N1X0eZCETKDqNtbd8-h</td>\n      <td>05/08/2022, 04:56:25</td>\n      <td>Police on the scene confirm a man was shot.</td>\n      <td></td>\n    </tr>\n    <tr>\n      <th>5</th>\n      <td>-N1X15NsBXtc1FNyQQFE</td>\n      <td>05/08/2022, 04:58:19</td>\n      <td>Police advise the man has a gunshot wound on t...</td>\n      <td></td>\n    </tr>\n    <tr>\n      <th>6</th>\n      <td>-N1X18ynpgYlrbln6o2G</td>\n      <td>05/08/2022, 04:58:36</td>\n      <td>An ambulance is en route.</td>\n      <td></td>\n    </tr>\n  </tbody>\n</table>\n</div>\n      <button class=\"colab-df-convert\" onclick=\"convertToInteractive('df-8a1dd814-b052-4abc-9b88-bb8c09f94155')\"\n              title=\"Convert this dataframe to an interactive table.\"\n              style=\"display:none;\">\n        \n  <svg xmlns=\"http://www.w3.org/2000/svg\" height=\"24px\"viewBox=\"0 0 24 24\"\n       width=\"24px\">\n    <path d=\"M0 0h24v24H0V0z\" fill=\"none\"/>\n    <path d=\"M18.56 5.44l.94 2.06.94-2.06 2.06-.94-2.06-.94-.94-2.06-.94 2.06-2.06.94zm-11 1L8.5 8.5l.94-2.06 2.06-.94-2.06-.94L8.5 2.5l-.94 2.06-2.06.94zm10 10l.94 2.06.94-2.06 2.06-.94-2.06-.94-.94-2.06-.94 2.06-2.06.94z\"/><path d=\"M17.41 7.96l-1.37-1.37c-.4-.4-.92-.59-1.43-.59-.52 0-1.04.2-1.43.59L10.3 9.45l-7.72 7.72c-.78.78-.78 2.05 0 2.83L4 21.41c.39.39.9.59 1.41.59.51 0 1.02-.2 1.41-.59l7.78-7.78 2.81-2.81c.8-.78.8-2.07 0-2.86zM5.41 20L4 18.59l7.72-7.72 1.47 1.35L5.41 20z\"/>\n  </svg>\n      </button>\n      \n  <style>\n    .colab-df-container {\n      display:flex;\n      flex-wrap:wrap;\n      gap: 12px;\n    }\n\n    .colab-df-convert {\n      background-color: #E8F0FE;\n      border: none;\n      border-radius: 50%;\n      cursor: pointer;\n      display: none;\n      fill: #1967D2;\n      height: 32px;\n      padding: 0 0 0 0;\n      width: 32px;\n    }\n\n    .colab-df-convert:hover {\n      background-color: #E2EBFA;\n      box-shadow: 0px 1px 2px rgba(60, 64, 67, 0.3), 0px 1px 3px 1px rgba(60, 64, 67, 0.15);\n      fill: #174EA6;\n    }\n\n    [theme=dark] .colab-df-convert {\n      background-color: #3B4455;\n      fill: #D2E3FC;\n    }\n\n    [theme=dark] .colab-df-convert:hover {\n      background-color: #434B5C;\n      box-shadow: 0px 1px 3px 1px rgba(0, 0, 0, 0.15);\n      filter: drop-shadow(0px 1px 2px rgba(0, 0, 0, 0.3));\n      fill: #FFFFFF;\n    }\n  </style>\n\n      <script>\n        const buttonEl =\n          document.querySelector('#df-8a1dd814-b052-4abc-9b88-bb8c09f94155 button.colab-df-convert');\n        buttonEl.style.display =\n          google.colab.kernel.accessAllowed ? 'block' : 'none';\n\n        async function convertToInteractive(key) {\n          const element = document.querySelector('#df-8a1dd814-b052-4abc-9b88-bb8c09f94155');\n          const dataTable =\n            await google.colab.kernel.invokeFunction('convertToInteractive',\n                                                     [key], {});\n          if (!dataTable) return;\n\n          const docLinkHtml = 'Like what you see? Visit the ' +\n            '<a target=\"_blank\" href=https://colab.research.google.com/notebooks/data_table.ipynb>data table notebook</a>'\n            + ' to learn more about interactive tables.';\n          element.innerHTML = '';\n          dataTable['output_type'] = 'display_data';\n          await google.colab.output.renderOutput(dataTable, element);\n          const docLink = document.createElement('div');\n          docLink.innerHTML = docLinkHtml;\n          element.appendChild(docLink);\n        }\n      </script>\n    </div>\n  </div>\n  ",
                  "application/vnd.google.colaboratory.module+javascript": "\n      import \"https://ssl.gstatic.com/colaboratory/data_table/f872b2c2305463fd/data_table.js\";\n\n      window.createDataTable({\n        data: [[{\n            'v': 0,\n            'f': \"0\",\n        },\n\"-N1WzBZVCrxGYo3liYfE\",\n\"05/08/2022, 04:45:39\",\n\"Incident reported at 2123 Tillotson Ave.\",\n\"2123 Tillotson Ave\"],\n [{\n            'v': 1,\n            'f': \"1\",\n        },\n\"-N1WzC4sA4s75GXD9CMH\",\n\"05/08/2022, 04:45:40\",\n\"ShotSpotter technology has detected five rounds of possible gunfire. These devices pick up gunshots or similarly loud noises, such as fireworks or backfiring vehicles.\",\n\"2123 Tillotson Ave\"],\n [{\n            'v': 2,\n            'f': \"2\",\n        },\n\"-N1X08XwZL6aF5rDF_F3\",\n\"05/08/2022, 04:54:09\",\n\"According to an additional 911, unconfirmed call report a person was shot in the leg at 3406 Wright Ave.\",\n\"\"],\n [{\n            'v': 3,\n            'f': \"3\",\n        },\n\"-N1X0EZmqJTLI5OsVaVY\",\n\"05/08/2022, 04:54:34\",\n\"Police are en route.\",\n\"\"],\n [{\n            'v': 4,\n            'f': \"4\",\n        },\n\"-N1X0eZCETKDqNtbd8-h\",\n\"05/08/2022, 04:56:25\",\n\"Police on the scene confirm a man was shot.\",\n\"\"],\n [{\n            'v': 5,\n            'f': \"5\",\n        },\n\"-N1X15NsBXtc1FNyQQFE\",\n\"05/08/2022, 04:58:19\",\n\"Police advise the man has a gunshot wound on the right leg. They advise he sustained injuries that are considered not life-threatening.\",\n\"\"],\n [{\n            'v': 6,\n            'f': \"6\",\n        },\n\"-N1X18ynpgYlrbln6o2G\",\n\"05/08/2022, 04:58:36\",\n\"An ambulance is en route.\",\n\"\"]],\n        columns: [[\"number\", \"index\"], [\"string\", \"id\"], [\"string\", \"created_at\"], [\"string\", \"text\"], [\"string\", \"location\"]],\n        columnOptions: [{\"width\": \"1px\", \"className\": \"index_column\"}],\n        rowsPerPage: 25,\n        helpUrl: \"https://colab.research.google.com/notebooks/data_table.ipynb\",\n        suppressOutputScrolling: true,\n        minimumWidth: undefined,\n      });\n    "
                },
                "metadata": {}
              }
            ]
          }
        },
        "0b64329e04ef494ea58c0819e34f1073": {
          "model_module": "@jupyter-widgets/base",
          "model_name": "LayoutModel",
          "model_module_version": "1.2.0",
          "state": {
            "_model_module": "@jupyter-widgets/base",
            "_model_module_version": "1.2.0",
            "_model_name": "LayoutModel",
            "_view_count": null,
            "_view_module": "@jupyter-widgets/base",
            "_view_module_version": "1.2.0",
            "_view_name": "LayoutView",
            "align_content": null,
            "align_items": null,
            "align_self": null,
            "border": null,
            "bottom": null,
            "display": null,
            "flex": null,
            "flex_flow": null,
            "grid_area": null,
            "grid_auto_columns": null,
            "grid_auto_flow": null,
            "grid_auto_rows": null,
            "grid_column": null,
            "grid_gap": null,
            "grid_row": null,
            "grid_template_areas": null,
            "grid_template_columns": null,
            "grid_template_rows": null,
            "height": null,
            "justify_content": null,
            "justify_items": null,
            "left": null,
            "margin": null,
            "max_height": null,
            "max_width": null,
            "min_height": null,
            "min_width": null,
            "object_fit": null,
            "object_position": null,
            "order": null,
            "overflow": null,
            "overflow_x": null,
            "overflow_y": null,
            "padding": null,
            "right": null,
            "top": null,
            "visibility": null,
            "width": null
          }
        },
        "219f62c558704ee5a745c40a714192b8": {
          "model_module": "@jupyter-widgets/output",
          "model_name": "OutputModel",
          "model_module_version": "1.0.0",
          "state": {
            "_dom_classes": [],
            "_model_module": "@jupyter-widgets/output",
            "_model_module_version": "1.0.0",
            "_model_name": "OutputModel",
            "_view_count": null,
            "_view_module": "@jupyter-widgets/output",
            "_view_module_version": "1.0.0",
            "_view_name": "OutputView",
            "layout": "IPY_MODEL_a93b05a781d54ccab7c4b31e97306124",
            "msg_id": "",
            "outputs": [
              {
                "output_type": "display_data",
                "data": {
                  "text/plain": "<IPython.core.display.HTML object>",
                  "text/html": "\n  <head>\n    <style> table, th, td {border:1px solid black !important;} </style>\n  </head>\n  <body>\n    <table border=\"1\" class=\"dataframe\">\n  <thead>\n    <tr style=\"text-align: center;\">\n      <th></th>\n      <th>title</th>\n      <th>address</th>\n      <th>neighborhood</th>\n      <th>location</th>\n      <th>cityCode</th>\n      <th>categories</th>\n      <th>key</th>\n      <th>police</th>\n      <th>shareImageLive</th>\n      <th>stats</th>\n      <th>hasVod</th>\n      <th>severity</th>\n      <th>cs</th>\n      <th>url</th>\n      <th>created_at</th>\n      <th>updated_at</th>\n      <th>usersNotified</th>\n    </tr>\n  </thead>\n  <tbody>\n    <tr>\n      <th>0</th>\n      <td>Man Shot in Leg</td>\n      <td>8116 Cherington Dr, Indianapolis, Indiana, 46227</td>\n      <td>Indianapolis</td>\n      <td>8116 Cherington Dr</td>\n      <td>us-in-indianapolis</td>\n      <td>Gun Related</td>\n      <td>-N1XKruBZh3rfaUDc4mu</td>\n      <td>IMPD Southeast</td>\n      <td>None</td>\n      <td>angers:2, chats:17, hearts:3, streamViews:0, streamsConfirmed:0, streamsCount:0, thanks:8, usersNotifiedUnique:2477, views:377, whoas:0</td>\n      <td>False</td>\n      <td>red</td>\n      <td>1651991084000</td>\n      <td><a target=\"_blank\" href=\"https://citizen.com/-N1XKruBZh3rfaUDc4mu\">https://citizen.com/-N1XKruBZh3rfaUDc4mu</a></td>\n      <td>05/08/2022, 06:24:44</td>\n      <td>05/08/2022, 06:24:44</td>\n      <td>2477</td>\n    </tr>\n    <tr>\n      <th>1</th>\n      <td>Man Shot in Leg</td>\n      <td>2123 Tillotson Ave, Bronx, New York, 10475</td>\n      <td>Eastchester, Bronx</td>\n      <td>2123 Tillotson Ave</td>\n      <td>nyc</td>\n      <td>Gun Related</td>\n      <td>-N1WzC4dUQo9fs0r4U7S</td>\n      <td>NYPD 47</td>\n      <td>None</td>\n      <td>angers:34, chats:6, hearts:1, streamViews:0, streamsConfirmed:0, streamsCount:0, thanks:3, usersNotifiedUnique:3228, views:737, whoas:35</td>\n      <td>False</td>\n      <td>red</td>\n      <td>1651985140000</td>\n      <td><a target=\"_blank\" href=\"https://citizen.com/-N1WzC4dUQo9fs0r4U7S\">https://citizen.com/-N1WzC4dUQo9fs0r4U7S</a></td>\n      <td>05/08/2022, 04:45:40</td>\n      <td>05/08/2022, 04:45:40</td>\n      <td>3228</td>\n    </tr>\n    <tr>\n      <th>2</th>\n      <td>Man Shot in Leg</td>\n      <td>S San Pedro St & E 5th St, Los Angeles, California, 90013</td>\n      <td>Downtown, Los Angeles</td>\n      <td>S San Pedro St & E 5th St</td>\n      <td>la</td>\n      <td>Gun Related</td>\n      <td>-N1VzvFiNXjdUTSvNxup</td>\n      <td>(C) Central 147</td>\n      <td><img src=\"https://storage.googleapis.com/citizen-stream-capture/mux:l7SI7o8LQwyMOvg6kR9e6v6nobyzWTgxxdbFPx8IHl8_0001.jpg\" style=max-height:124px;\"/></td>\n      <td>angers:13, chats:8, hearts:24, streamViews:0, streamsConfirmed:1, streamsCount:1, thanks:22, usersNotifiedUnique:4266, views:5700, whoas:9</td>\n      <td>True</td>\n      <td>red</td>\n      <td>1651968553000</td>\n      <td><a target=\"_blank\" href=\"https://citizen.com/-N1VzvFiNXjdUTSvNxup\">https://citizen.com/-N1VzvFiNXjdUTSvNxup</a></td>\n      <td>05/08/2022, 00:09:13</td>\n      <td>05/08/2022, 00:09:13</td>\n      <td>4266</td>\n    </tr>\n    <tr>\n      <th>3</th>\n      <td>Man Shot</td>\n      <td>128 Frontage Rd, Newark, New Jersey, 07114</td>\n      <td>Newark</td>\n      <td>128 Frontage Rd</td>\n      <td>us-nj-newark</td>\n      <td>Gun Related</td>\n      <td>-N1Vv6PAw8-DFnAqKDxJ</td>\n      <td>NPD 3</td>\n      <td>None</td>\n      <td>angers:0, chats:0, hearts:0, streamViews:0, streamsConfirmed:0, streamsCount:0, thanks:0, usersNotifiedUnique:214, views:230, whoas:0</td>\n      <td>False</td>\n      <td>red</td>\n      <td>1651967292000</td>\n      <td><a target=\"_blank\" href=\"https://citizen.com/-N1Vv6PAw8-DFnAqKDxJ\">https://citizen.com/-N1Vv6PAw8-DFnAqKDxJ</a></td>\n      <td>05/07/2022, 23:48:12</td>\n      <td>05/07/2022, 23:48:12</td>\n      <td>214</td>\n    </tr>\n  </tbody>\n</table>\n  </body>\n  <script> \n    function get_info(selected_key) { google.colab.kernel.invokeFunction('notebook.show_incident_data', [], {selected_key}); }\n    var rows = Array.from(document.getElementsByTagName('tr'));\n    // remove header row\n    rows.shift();\n    rows.forEach((row, i) => {\n      row.addEventListener('click', () => {\n        get_info(row.getElementsByTagName('td')[6].innerHTML);\n      });\n    }); \n  </script>\n"
                },
                "metadata": {}
              }
            ]
          }
        },
        "a93b05a781d54ccab7c4b31e97306124": {
          "model_module": "@jupyter-widgets/base",
          "model_name": "LayoutModel",
          "model_module_version": "1.2.0",
          "state": {
            "_model_module": "@jupyter-widgets/base",
            "_model_module_version": "1.2.0",
            "_model_name": "LayoutModel",
            "_view_count": null,
            "_view_module": "@jupyter-widgets/base",
            "_view_module_version": "1.2.0",
            "_view_name": "LayoutView",
            "align_content": null,
            "align_items": null,
            "align_self": null,
            "border": null,
            "bottom": null,
            "display": null,
            "flex": null,
            "flex_flow": null,
            "grid_area": null,
            "grid_auto_columns": null,
            "grid_auto_flow": null,
            "grid_auto_rows": null,
            "grid_column": null,
            "grid_gap": null,
            "grid_row": null,
            "grid_template_areas": null,
            "grid_template_columns": null,
            "grid_template_rows": null,
            "height": null,
            "justify_content": null,
            "justify_items": null,
            "left": null,
            "margin": null,
            "max_height": null,
            "max_width": null,
            "min_height": null,
            "min_width": null,
            "object_fit": null,
            "object_position": null,
            "order": null,
            "overflow": null,
            "overflow_x": null,
            "overflow_y": null,
            "padding": null,
            "right": null,
            "top": null,
            "visibility": null,
            "width": null
          }
        }
      }
    }
  },
  "cells": [
    {
      "cell_type": "markdown",
      "metadata": {
        "id": "view-in-github",
        "colab_type": "text"
      },
      "source": [
        "<a href=\"https://colab.research.google.com/github/HongSenDu/citizen-scrape/blob/main/citizen_scrape.ipynb\" target=\"_parent\"><img src=\"https://colab.research.google.com/assets/colab-badge.svg\" alt=\"Open In Colab\"/></a>"
      ]
    },
    {
      "cell_type": "code",
      "execution_count": null,
      "metadata": {
        "id": "hdFI-AyQTNeL"
      },
      "outputs": [],
      "source": [
        "import csv\n",
        "import requests\n",
        "from datetime import datetime\n",
        "from pprint import pprint\n",
        "from collections import defaultdict\n",
        "import pandas as pd\n",
        "import numpy as np"
      ]
    },
    {
      "cell_type": "code",
      "source": [
        "citizen_site = \"https://citizen.com/\"\n",
        "incident_endpoint = \"https://citizen.com/api/incident/\"\n",
        "search_route = \"search\"\n",
        "location_query_params = \"?insideBoundingBox[0]={}&insideBoundingBox[2]={}&insideBoundingBox[1]={}&insideBoundingBox[3]={}&limit={}\"\n",
        "incident_selected_fields = ['title', 'address', 'neighborhood', 'location', 'cityCode', 'categories', 'updates', 'key', 'police', 'shareImageLive', 'stats', 'hasVod', 'severity',  'cs']\n",
        "interested_categories = ['Animal Related', 'Assault / Fight', 'Break In', 'Fire', 'Fire / EMS Activity', 'Gun Related', 'Harassment', 'Protest', 'Pursuit / Search', 'Robbery / Theft ', 'Weapon']\n",
        "groupable_fields = ['cityCode', 'neighborhood', 'police', 'categories', 'hasVod']"
      ],
      "metadata": {
        "id": "eCj90QvHTkE8"
      },
      "execution_count": null,
      "outputs": []
    },
    {
      "cell_type": "markdown",
      "source": [
        "# Scrape Functions\n"
      ],
      "metadata": {
        "id": "Z2DWs5B07-3D"
      }
    },
    {
      "cell_type": "code",
      "source": [
        "# takes tuple of bounding lat long coordinates\n",
        "def get_data_by_location(latitude, longitude, limit = 10):\n",
        "  endpoint = incident_endpoint + search_route + location_query_params.format(latitude[0], latitude[1], longitude[0], longitude[1], limit)\n",
        "  request = requests.get(endpoint)\n",
        "  if request.status_code == 200:\n",
        "    return request.json().get(\"hits\", [])\n",
        "  return f\"Error: {request.status_code}\"\n",
        "\n",
        "def filter_by_keys(data, selected_fields):\n",
        "  return { key: data.get(key, None) for key in selected_fields }\n",
        "\n",
        "def endpoint_data(endpoint):\n",
        "  request = requests.get(endpoint, headers={'User-Agent': 'Mozilla/5.0 (Macintosh; Intel Mac OS X 10_11_5) AppleWebKit/537.36 (KHTML, like Gecko) Chrome/50.0.2661.102 Safari/537.36'})\n",
        "  if request.status_code == 200:\n",
        "    return request.json()\n",
        "  print(f\"Error: {request.status_code}\")\n",
        "  return None\n",
        "\n",
        "# most accurate when using city_codes\n",
        "def get_data_by_keyword(term, limit = 10):\n",
        "  endpoint = incident_endpoint + search_route + f\"?q={term}&limit={limit}\"\n",
        "  data = endpoint_data(endpoint)\n",
        "  return data.get(\"hits\", data) if data else []\n",
        "\n",
        "def get_incident_data(id, selected_fields = False):\n",
        "  endpoint = incident_endpoint + f\"{id}/stats\"\n",
        "  data = endpoint_data(endpoint)\n",
        "  if data:\n",
        "    if selected_fields:\n",
        "      data = filter_by_keys(data, selected_fields)\n",
        "    if data['categories']:\n",
        "      data['categories'] =  ','.join(e for e in data['categories'])\n",
        "    data[\"url\"] = citizen_site + f\"{id}\"\n",
        "  return data or []\n",
        "\n",
        "def get_all_data():\n",
        "  endpoint = incident_endpoint + search_route + \"?limit=10000000000\"\n",
        "  data = endpoint_data(endpoint)\n",
        "  return data.get(\"hits\", data) or []\n",
        "\n",
        "\n",
        "def group_by_category(data):\n",
        "  categories = defaultdict(dict)\n",
        "  for incident in data:\n",
        "    category = ','.join(e for e in incident['categories'])\n",
        "    if category in interested_categories:\n",
        "      cat_loc = categories[category][incident['objectID']] = {}\n",
        "      cat_loc['title'] = incident['title']\n",
        "      cat_loc[\"updates\"] = [updates['text'] for updates in incident['updates']]\n",
        "  return categories\n",
        "\n",
        "def write_to_csv(file, data):\n",
        "  keys = data[0].keys()\n",
        "  with open(file, 'w', newline='') as output_file:\n",
        "      dict_writer = csv.DictWriter(output_file, keys)\n",
        "      dict_writer.writeheader()\n",
        "      dict_writer.writerows(data) \n",
        "\n",
        "# sort by relevant incident fields\n",
        "def get_incident_fields(incidents):\n",
        "  incidents_arr = []\n",
        "  for incident in incidents:\n",
        "    if incident['severity'] == 'red':\n",
        "      incident_data = get_incident_data(incident['objectID'], incident_selected_fields)\n",
        "      if isinstance(incident_data, dict):\n",
        "        incident_data.update({\n",
        "            \"created_at\": datetime.fromtimestamp(incident_data.get('created_at', incident_data['cs']) / 1000).strftime(\"%m/%d/%Y, %H:%M:%S\"),\n",
        "            \"updated_at\": datetime.fromtimestamp(incident_data.get('updated_at', incident_data['cs']) / 1000).strftime(\"%m/%d/%Y, %H:%M:%S\"),\n",
        "            \"categories\": ''.join(incident_data['categories']) if incident_data['categories'] else None,\n",
        "            \"usersNotified\": incident_data['stats'].get('usersNotifiedUnique', 0),\n",
        "            \"stats\": ', '.join([f'{key}:{value}' for key, value in incident_data['stats'].items()])\n",
        "        })\n",
        "      incidents_arr.append(incident_data)\n",
        "  return incidents_arr\n",
        "\n",
        "\n",
        "# get updates dictionary for incidents\n",
        "def get_only_updates(incident):\n",
        "  updates = incident['updates']\n",
        "  updates_arr = [{\"id\": key, \n",
        "                  \"created_at\": datetime.fromtimestamp(val[\"ts\"] / 1000).strftime(\"%m/%d/%Y, %H:%M:%S\"),\n",
        "                  \"text\": val[\"text\"],\n",
        "                  \"location\": val[\"displayLocation\"],\n",
        "                 } for (key, val) in list(updates.items()) if isinstance(val, dict)]\n",
        "  return updates_arr"
      ],
      "metadata": {
        "id": "5o8LTNXxTU0V"
      },
      "execution_count": null,
      "outputs": []
    },
    {
      "cell_type": "code",
      "source": [
        "# get_data_by_location((40.623802144997086, 40.87898882747231), (-74.14368001656248, -73.78286186022763), 1)\n",
        "# get_data_by_term(\"nyc\")\n",
        "# get_incident_data(\"-MwjftoNarTvQe6IKpaz\", incident_selected_fields)\n",
        "# all_incidents = get_all_data()\n",
        "# incidents_arr = get_incident_fields(all_incidents)"
      ],
      "metadata": {
        "id": "P0MJbw3vUScm"
      },
      "execution_count": null,
      "outputs": []
    },
    {
      "cell_type": "code",
      "source": [
        ""
      ],
      "metadata": {
        "id": "pKQzVDkBtMCs"
      },
      "execution_count": null,
      "outputs": []
    },
    {
      "cell_type": "markdown",
      "source": [
        "# Scraping by NYC\n"
      ],
      "metadata": {
        "id": "O4hCBLzb8EEp"
      }
    },
    {
      "cell_type": "code",
      "source": [
        "# get nyc incidents by keyword\n",
        "nyc_incidents = get_data_by_keyword(\"nyc\", limit = 10000)\n",
        "\n",
        "# sort by relevant fields\n",
        "incidents_arr = get_incident_fields(nyc_incidents)\n",
        "\n",
        "# sort by number of people broadcasted to\n",
        "incidents_arr = sorted(incidents_arr, key=lambda d: d['usersNotified'], reverse=True)\n",
        "\n"
      ],
      "metadata": {
        "id": "yIHr3pUB4AGc"
      },
      "execution_count": null,
      "outputs": []
    },
    {
      "cell_type": "code",
      "source": [
        "write_to_csv('nyc_data.csv', incidents_arr)"
      ],
      "metadata": {
        "id": "CfvIxacoUu6R"
      },
      "execution_count": null,
      "outputs": []
    },
    {
      "cell_type": "code",
      "source": [
        "df_nyc = pd.DataFrame.from_dict(incidents_arr)\n"
      ],
      "metadata": {
        "id": "0OfPgMel9Ev9"
      },
      "execution_count": null,
      "outputs": []
    },
    {
      "cell_type": "markdown",
      "source": [
        "# Display"
      ],
      "metadata": {
        "id": "aIgs1MTu90ss"
      }
    },
    {
      "cell_type": "code",
      "source": [
        "from ipywidgets import widgets, Layout, Box, VBox\n",
        "from IPython.display import display, Javascript, HTML\n",
        "from google.colab import data_table, output\n",
        "\n",
        "data_table.enable_dataframe_formatter()"
      ],
      "metadata": {
        "id": "0EdDgr38xv9v"
      },
      "execution_count": null,
      "outputs": []
    },
    {
      "cell_type": "code",
      "source": [
        "table_output = widgets.Output()\n",
        "info_output = widgets.Output()\n",
        "updates_output = widgets.Output()\n",
        "similar_output = widgets.Output()"
      ],
      "metadata": {
        "id": "xEKINdk-tK0-"
      },
      "execution_count": null,
      "outputs": []
    },
    {
      "cell_type": "markdown",
      "source": [
        "## Formatters"
      ],
      "metadata": {
        "id": "bUPP2lExf1EY"
      }
    },
    {
      "cell_type": "code",
      "source": [
        "dataframe_html_string = '''\n",
        "  <head>\n",
        "    <style> table, th, td {{border:1px solid black !important;}} </style>\n",
        "  </head>\n",
        "  <body>\n",
        "    {table}\n",
        "  </body>\n",
        "  <script> \n",
        "    function get_info(selected_key) {{ google.colab.kernel.invokeFunction('notebook.show_incident_data', [], {{selected_key}}); }}\n",
        "    var rows = Array.from(document.getElementsByTagName('tr'));\n",
        "    // remove header row\n",
        "    rows.shift();\n",
        "    rows.forEach((row, i) => {{\n",
        "      row.addEventListener('click', () => {{\n",
        "        get_info(row.getElementsByTagName('td')[6].innerHTML);\n",
        "      }});\n",
        "    }}); \n",
        "  </script>\n",
        "'''\n",
        "\n",
        "ALL = 'ALL'"
      ],
      "metadata": {
        "id": "eTqugjZToC6n"
      },
      "execution_count": null,
      "outputs": []
    },
    {
      "cell_type": "code",
      "source": [
        "def make_clickable(val):\n",
        "    return f'<a target=\"_blank\" href=\"{val}\">{val}</a>'\n",
        "\n",
        "\n",
        "def path_to_image_html(path):\n",
        "    '''\n",
        "     This function essentially convert the image url to \n",
        "     '<img src=\"'+ path + '\"/>' format. And one can put any\n",
        "     formatting adjustments to control the height, aspect ratio, size etc.\n",
        "     within as in the below example. \n",
        "    '''\n",
        "\n",
        "    return '<img src=\"'+ path + '\" style=max-height:124px;\"/>'\n",
        "\n",
        "def get_similar_incidents(current_incident):\n",
        "  city = current_incident['cityCode']\n",
        "  title = current_incident['title']\n",
        "  \n",
        "  return get_incident_fields(get_data_by_keyword(f'{title}', limit = 5) )\n",
        "\n",
        "def show_incident_data(selected_key):\n",
        "  info_output.clear_output();\n",
        "  updates_output.clear_output();\n",
        "  similar_output.clear_output();\n",
        "\n",
        "  incident = get_incident_fields([{'objectID': selected_key, 'severity': 'red'}])[0]\n",
        "\n",
        "  df = pd.DataFrame(list(incident.items()), columns = ['Fields','Values'])\n",
        "  with info_output:\n",
        "    display(HTML(f\"Citizen incident link: <a href={citizen_site + selected_key}>{incident['title']}</a>\"))\n",
        "    display(df)\n",
        "\n",
        "  updates_df = pd.DataFrame(get_only_updates(incident))\n",
        "  with updates_output:\n",
        "    display(updates_df)\n",
        "\n",
        "  similar_incidents = pd.DataFrame(get_similar_incidents(incident)).drop('updates', axis=1)\n",
        "  with similar_output:\n",
        "      display(HTML(dataframe_html_string.format(table=similar_incidents.to_html(escape=False,\n",
        "                                                justify='center',\n",
        "                                                formatters=dict(shareImageLive=path_to_image_html, url=make_clickable), border=1))))\n",
        "\n",
        "output.register_callback('notebook.show_incident_data', show_incident_data)\n"
      ],
      "metadata": {
        "id": "Nn-aZUHZfz2z"
      },
      "execution_count": null,
      "outputs": []
    },
    {
      "cell_type": "code",
      "source": [
        "df_nyc = df_nyc.drop('updates', axis=1)\n",
        "widget_df = df_nyc"
      ],
      "metadata": {
        "id": "07I8fJ05oH9l"
      },
      "execution_count": null,
      "outputs": []
    },
    {
      "cell_type": "code",
      "source": [
        "def unique_sorted_values_plus_ALL(array):\n",
        "    unique = array.unique().tolist()\n",
        "    unique.sort()\n",
        "    unique.insert(0, ALL)\n",
        "    return unique\n",
        "\n",
        "def category_event_handler(change):\n",
        "  common_filterer(change.new, dropdown_neighborhood.value)\n",
        "\n",
        "def neighborhood_event_handler(change):\n",
        "  common_filterer(dropdown_categories.value, change.new)\n",
        "\n",
        "def display_event_handler(change):\n",
        "  common_filterer(dropdown_categories.value, dropdown_neighborhood.value)\n",
        "\n",
        "def common_filterer(category, neighborhood):\n",
        "  table_output.clear_output()\n",
        "  if (category == ALL) and (neighborhood == ALL):\n",
        "    widget_df = df_nyc\n",
        "  elif category == ALL:\n",
        "    widget_df = df_nyc[df_nyc.neighborhood == neighborhood]\n",
        "  elif neighborhood == ALL:\n",
        "    widget_df = df_nyc[df_nyc.categories == category]\n",
        "  else:\n",
        "    widget_df = df_nyc[(df_nyc.categories == category) & (df_nyc.neighborhood == neighborhood)]\n",
        "  with table_output:\n",
        "    if dropdown_display.value == \"Groupable Data Table\":\n",
        "      display(widget_df)\n",
        "    else:\n",
        "      display(HTML(dataframe_html_string.format(table=widget_df.to_html(escape=False,\n",
        "                                     justify='center',\n",
        "                                     formatters=dict(shareImageLive=path_to_image_html, url=make_clickable), border=1))))\n"
      ],
      "metadata": {
        "id": "V8coCsak-dKy"
      },
      "execution_count": null,
      "outputs": []
    },
    {
      "cell_type": "code",
      "source": [
        "dropdown_categories = widgets.Dropdown(\n",
        "    options=unique_sorted_values_plus_ALL(df_nyc.categories),\n",
        "    description='Category',\n",
        "    disabled=False,\n",
        ")\n",
        "dropdown_categories.observe(category_event_handler, names='value')\n",
        "\n",
        "dropdown_neighborhood = widgets.Dropdown(\n",
        "    options=unique_sorted_values_plus_ALL(df_nyc.neighborhood),\n",
        "    description='Neighborhood',\n",
        "    disabled=False,\n",
        ")\n",
        "dropdown_neighborhood.observe(neighborhood_event_handler, names='value')\n",
        "\n",
        "dropdown_display = widgets.Dropdown(\n",
        "    options=[\"Groupable Data Table\", \"HTML Rendering\"],\n",
        "    description='Display Option',\n",
        "    disabled=False,\n",
        ")\n",
        "dropdown_display.observe(display_event_handler, names='value')"
      ],
      "metadata": {
        "id": "aA_T3PhJ8-Gs"
      },
      "execution_count": null,
      "outputs": []
    },
    {
      "cell_type": "code",
      "source": [
        "box_layout = Layout(display='flex',\n",
        "                    flex_flow='row',\n",
        "                    justify_content='center',\n",
        "                    align_items='stretch',\n",
        "                    overflow='visible',\n",
        "                    width='auto')\n",
        "box_auto = Box(children=[dropdown_categories, dropdown_neighborhood, dropdown_display], layout=box_layout)\n",
        "display(VBox([box_auto]))\n",
        "display(table_output)"
      ],
      "metadata": {
        "colab": {
          "base_uri": "https://localhost:8080/",
          "height": 2394,
          "referenced_widgets": [
            "ef41897d75cd4d9680fdf89d0b5f9ac7",
            "1952804da44a4793a4703ab689cd0839",
            "1f16c6dd53254c0492c4408a1c6449f6",
            "40b1aa81d7c642e09103612ceaaac020",
            "612064f92f0a4139a1c4ccd54657f282",
            "4ceebe7a3aec4571b9f3ad865ec8cfd4",
            "a641280e8e2440f1baef4d3ead57728f",
            "af9158ae1a62410bb45a765c7c99462b",
            "2330af25bbe54840b394f721b95249c6",
            "40c3b99bc5f34cf78bc90322c4babb51",
            "c6d87c85eced46949449979b5e07eef4",
            "697ea52a7e634b0b9cf0b8621ce6479f",
            "1c459f7ac7e04696b2f933be2eabb801",
            "0dea962ad6ce4820af37d5357b1b72e1",
            "ba6bfd3d49b74d13969e13cb1542291e"
          ]
        },
        "id": "V3_9LrtvdBsu",
        "outputId": "faa74eef-cde4-4d33-a1b2-da7638e60a73"
      },
      "execution_count": null,
      "outputs": [
        {
          "output_type": "display_data",
          "data": {
            "text/plain": [
              "VBox(children=(Box(children=(Dropdown(description='Category', options=('ALL', 'Barricade', 'Fire', 'Gun Relate…"
            ],
            "application/vnd.jupyter.widget-view+json": {
              "version_major": 2,
              "version_minor": 0,
              "model_id": "ef41897d75cd4d9680fdf89d0b5f9ac7"
            }
          },
          "metadata": {}
        },
        {
          "output_type": "display_data",
          "data": {
            "text/plain": [
              "Output()"
            ],
            "application/vnd.jupyter.widget-view+json": {
              "version_major": 2,
              "version_minor": 0,
              "model_id": "0dea962ad6ce4820af37d5357b1b72e1"
            }
          },
          "metadata": {}
        }
      ]
    },
    {
      "cell_type": "markdown",
      "source": [
        "#Output"
      ],
      "metadata": {
        "id": "rCBwdU7Y_KQd"
      }
    },
    {
      "cell_type": "code",
      "source": [
        "display(info_output)"
      ],
      "metadata": {
        "colab": {
          "base_uri": "https://localhost:8080/",
          "height": 594,
          "referenced_widgets": [
            "3afac739d86545c1bc9a7279c9cb04e8",
            "a57034834e034faf82b594b162683a69"
          ]
        },
        "id": "HcpdF7rVPB_P",
        "outputId": "5660a1f2-608c-46ab-f2d4-225782440543"
      },
      "execution_count": null,
      "outputs": [
        {
          "output_type": "display_data",
          "data": {
            "text/plain": [
              "Output()"
            ],
            "application/vnd.jupyter.widget-view+json": {
              "version_major": 2,
              "version_minor": 0,
              "model_id": "3afac739d86545c1bc9a7279c9cb04e8"
            }
          },
          "metadata": {}
        }
      ]
    },
    {
      "cell_type": "code",
      "source": [
        "display(updates_output)"
      ],
      "metadata": {
        "colab": {
          "base_uri": "https://localhost:8080/",
          "height": 356,
          "referenced_widgets": [
            "3ec0689891c24b74aa5fcb1e94aaac96",
            "0b64329e04ef494ea58c0819e34f1073"
          ]
        },
        "id": "YAXn4yqueBoY",
        "outputId": "8d828dbf-920f-48b3-dc35-7a8a0737d3a4"
      },
      "execution_count": null,
      "outputs": [
        {
          "output_type": "display_data",
          "data": {
            "text/plain": [
              "Output()"
            ],
            "application/vnd.jupyter.widget-view+json": {
              "version_major": 2,
              "version_minor": 0,
              "model_id": "3ec0689891c24b74aa5fcb1e94aaac96"
            }
          },
          "metadata": {}
        }
      ]
    },
    {
      "cell_type": "code",
      "source": [
        "display(similar_output)"
      ],
      "metadata": {
        "colab": {
          "base_uri": "https://localhost:8080/",
          "height": 571,
          "referenced_widgets": [
            "219f62c558704ee5a745c40a714192b8",
            "a93b05a781d54ccab7c4b31e97306124"
          ]
        },
        "id": "AQny50W9s8np",
        "outputId": "b23cbbd8-446b-4596-8e9b-9e62e490f6b5"
      },
      "execution_count": null,
      "outputs": [
        {
          "output_type": "display_data",
          "data": {
            "text/plain": [
              "Output()"
            ],
            "application/vnd.jupyter.widget-view+json": {
              "version_major": 2,
              "version_minor": 0,
              "model_id": "219f62c558704ee5a745c40a714192b8"
            }
          },
          "metadata": {}
        }
      ]
    }
  ]
}