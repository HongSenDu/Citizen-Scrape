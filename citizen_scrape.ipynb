{
  "nbformat": 4,
  "nbformat_minor": 0,
  "metadata": {
    "colab": {
      "name": "citizen_scrape.ipynb",
      "provenance": [],
      "collapsed_sections": [],
      "authorship_tag": "ABX9TyOGqStiglXMl0jfR3XtThqN",
      "include_colab_link": true
    },
    "kernelspec": {
      "name": "python3",
      "display_name": "Python 3"
    },
    "language_info": {
      "name": "python"
    },
    "widgets": {
      "application/vnd.jupyter.widget-state+json": {
        "87814f3d1a7e48b4b5aa4c05d0e7a1a3": {
          "model_module": "@jupyter-widgets/controls",
          "model_name": "VBoxModel",
          "model_module_version": "1.5.0",
          "state": {
            "_dom_classes": [],
            "_model_module": "@jupyter-widgets/controls",
            "_model_module_version": "1.5.0",
            "_model_name": "VBoxModel",
            "_view_count": null,
            "_view_module": "@jupyter-widgets/controls",
            "_view_module_version": "1.5.0",
            "_view_name": "VBoxView",
            "box_style": "",
            "children": [
              "IPY_MODEL_8b5258b395d948c6907454c8dc9221c8"
            ],
            "layout": "IPY_MODEL_8f509d7606a4479fab11b01ea6e44fbc"
          }
        },
        "8b5258b395d948c6907454c8dc9221c8": {
          "model_module": "@jupyter-widgets/controls",
          "model_name": "BoxModel",
          "model_module_version": "1.5.0",
          "state": {
            "_dom_classes": [],
            "_model_module": "@jupyter-widgets/controls",
            "_model_module_version": "1.5.0",
            "_model_name": "BoxModel",
            "_view_count": null,
            "_view_module": "@jupyter-widgets/controls",
            "_view_module_version": "1.5.0",
            "_view_name": "BoxView",
            "box_style": "",
            "children": [
              "IPY_MODEL_55366de96f2f4791bfc52bfd02b120b5",
              "IPY_MODEL_cdefb1357e3a43359dcb0253f39759e0",
              "IPY_MODEL_b7602ef4fcc245a2af23a5c5a87315f8"
            ],
            "layout": "IPY_MODEL_02be70420bf649fd9c5859ea11dda865"
          }
        },
        "8f509d7606a4479fab11b01ea6e44fbc": {
          "model_module": "@jupyter-widgets/base",
          "model_name": "LayoutModel",
          "model_module_version": "1.2.0",
          "state": {
            "_model_module": "@jupyter-widgets/base",
            "_model_module_version": "1.2.0",
            "_model_name": "LayoutModel",
            "_view_count": null,
            "_view_module": "@jupyter-widgets/base",
            "_view_module_version": "1.2.0",
            "_view_name": "LayoutView",
            "align_content": null,
            "align_items": null,
            "align_self": null,
            "border": null,
            "bottom": null,
            "display": null,
            "flex": null,
            "flex_flow": null,
            "grid_area": null,
            "grid_auto_columns": null,
            "grid_auto_flow": null,
            "grid_auto_rows": null,
            "grid_column": null,
            "grid_gap": null,
            "grid_row": null,
            "grid_template_areas": null,
            "grid_template_columns": null,
            "grid_template_rows": null,
            "height": null,
            "justify_content": null,
            "justify_items": null,
            "left": null,
            "margin": null,
            "max_height": null,
            "max_width": null,
            "min_height": null,
            "min_width": null,
            "object_fit": null,
            "object_position": null,
            "order": null,
            "overflow": null,
            "overflow_x": null,
            "overflow_y": null,
            "padding": null,
            "right": null,
            "top": null,
            "visibility": null,
            "width": null
          }
        },
        "55366de96f2f4791bfc52bfd02b120b5": {
          "model_module": "@jupyter-widgets/controls",
          "model_name": "DropdownModel",
          "model_module_version": "1.5.0",
          "state": {
            "_dom_classes": [],
            "_model_module": "@jupyter-widgets/controls",
            "_model_module_version": "1.5.0",
            "_model_name": "DropdownModel",
            "_options_labels": [
              "ALL",
              "Barricade",
              "Fire",
              "Gun Related",
              "Missing Person",
              "Robbery / Theft ",
              "Traffic Related",
              "Weapon"
            ],
            "_view_count": null,
            "_view_module": "@jupyter-widgets/controls",
            "_view_module_version": "1.5.0",
            "_view_name": "DropdownView",
            "description": "Category",
            "description_tooltip": null,
            "disabled": false,
            "index": 2,
            "layout": "IPY_MODEL_4a1d4a7f19c442ad943247fed40227f8",
            "style": "IPY_MODEL_41af496bc216494c8eb0b14143542d3e"
          }
        },
        "cdefb1357e3a43359dcb0253f39759e0": {
          "model_module": "@jupyter-widgets/controls",
          "model_name": "DropdownModel",
          "model_module_version": "1.5.0",
          "state": {
            "_dom_classes": [],
            "_model_module": "@jupyter-widgets/controls",
            "_model_module_version": "1.5.0",
            "_model_name": "DropdownModel",
            "_options_labels": [
              "ALL",
              "Bay Terrace, Queens",
              "Bedford Stuyvesant, Brooklyn",
              "Chelsea, Manhattan",
              "Corona, Queens",
              "Crown Heights, Brooklyn",
              "East Flatbush, Brooklyn",
              "East Harlem, Manhattan",
              "East New York, Brooklyn",
              "East Tremont, Bronx",
              "East Village, Manhattan",
              "Eastchester, Bronx",
              "Far Rockaway, Queens",
              "Flatlands, Brooklyn",
              "Forest Hills, Queens",
              "Garment District, Manhattan",
              "Gramercy, Manhattan",
              "Greenwood, Brooklyn",
              "Harlem, Manhattan",
              "Howard Beach, Queens",
              "JFK Airport, Queens",
              "Jamaica, Queens",
              "Kingsbridge, Bronx",
              "Longwood, Bronx",
              "Lower East Side, Manhattan",
              "Maspeth, Queens",
              "Melrose, Bronx",
              "Midtown, Manhattan",
              "New Utrecht, Brooklyn",
              "Norwood, Bronx",
              "Ocean Hill, Brooklyn",
              "Prospect Lefferts Gardens, Brooklyn",
              "Soundview, Bronx",
              "South Bronx, Bronx",
              "St. Albans, Queens",
              "Sunset Park, Brooklyn",
              "Throggs Neck, Bronx",
              "University Heights, Bronx",
              "Upper East Side, Manhattan",
              "Washington Heights, Manhattan",
              "Williamsbridge, Bronx",
              "Woodhaven, Queens"
            ],
            "_view_count": null,
            "_view_module": "@jupyter-widgets/controls",
            "_view_module_version": "1.5.0",
            "_view_name": "DropdownView",
            "description": "Neighborhood",
            "description_tooltip": null,
            "disabled": false,
            "index": 0,
            "layout": "IPY_MODEL_bcf3aebd2cd84715a85ee8ed33c8b29d",
            "style": "IPY_MODEL_5ef9d989c4c643aebf2081ac97741495"
          }
        },
        "b7602ef4fcc245a2af23a5c5a87315f8": {
          "model_module": "@jupyter-widgets/controls",
          "model_name": "DropdownModel",
          "model_module_version": "1.5.0",
          "state": {
            "_dom_classes": [],
            "_model_module": "@jupyter-widgets/controls",
            "_model_module_version": "1.5.0",
            "_model_name": "DropdownModel",
            "_options_labels": [
              "Groupable Data Table",
              "HTML Rendering"
            ],
            "_view_count": null,
            "_view_module": "@jupyter-widgets/controls",
            "_view_module_version": "1.5.0",
            "_view_name": "DropdownView",
            "description": "Display Option",
            "description_tooltip": null,
            "disabled": false,
            "index": 1,
            "layout": "IPY_MODEL_db07925ffd4741419b3cde8da7b5ece6",
            "style": "IPY_MODEL_3cfb9b17399646eaba2351eea9fad65d"
          }
        },
        "02be70420bf649fd9c5859ea11dda865": {
          "model_module": "@jupyter-widgets/base",
          "model_name": "LayoutModel",
          "model_module_version": "1.2.0",
          "state": {
            "_model_module": "@jupyter-widgets/base",
            "_model_module_version": "1.2.0",
            "_model_name": "LayoutModel",
            "_view_count": null,
            "_view_module": "@jupyter-widgets/base",
            "_view_module_version": "1.2.0",
            "_view_name": "LayoutView",
            "align_content": null,
            "align_items": "stretch",
            "align_self": null,
            "border": null,
            "bottom": null,
            "display": "flex",
            "flex": null,
            "flex_flow": "row",
            "grid_area": null,
            "grid_auto_columns": null,
            "grid_auto_flow": null,
            "grid_auto_rows": null,
            "grid_column": null,
            "grid_gap": null,
            "grid_row": null,
            "grid_template_areas": null,
            "grid_template_columns": null,
            "grid_template_rows": null,
            "height": null,
            "justify_content": "center",
            "justify_items": null,
            "left": null,
            "margin": null,
            "max_height": null,
            "max_width": null,
            "min_height": null,
            "min_width": null,
            "object_fit": null,
            "object_position": null,
            "order": null,
            "overflow": "visible",
            "overflow_x": null,
            "overflow_y": null,
            "padding": null,
            "right": null,
            "top": null,
            "visibility": null,
            "width": "auto"
          }
        },
        "4a1d4a7f19c442ad943247fed40227f8": {
          "model_module": "@jupyter-widgets/base",
          "model_name": "LayoutModel",
          "model_module_version": "1.2.0",
          "state": {
            "_model_module": "@jupyter-widgets/base",
            "_model_module_version": "1.2.0",
            "_model_name": "LayoutModel",
            "_view_count": null,
            "_view_module": "@jupyter-widgets/base",
            "_view_module_version": "1.2.0",
            "_view_name": "LayoutView",
            "align_content": null,
            "align_items": null,
            "align_self": null,
            "border": null,
            "bottom": null,
            "display": null,
            "flex": null,
            "flex_flow": null,
            "grid_area": null,
            "grid_auto_columns": null,
            "grid_auto_flow": null,
            "grid_auto_rows": null,
            "grid_column": null,
            "grid_gap": null,
            "grid_row": null,
            "grid_template_areas": null,
            "grid_template_columns": null,
            "grid_template_rows": null,
            "height": null,
            "justify_content": null,
            "justify_items": null,
            "left": null,
            "margin": null,
            "max_height": null,
            "max_width": null,
            "min_height": null,
            "min_width": null,
            "object_fit": null,
            "object_position": null,
            "order": null,
            "overflow": null,
            "overflow_x": null,
            "overflow_y": null,
            "padding": null,
            "right": null,
            "top": null,
            "visibility": null,
            "width": null
          }
        },
        "41af496bc216494c8eb0b14143542d3e": {
          "model_module": "@jupyter-widgets/controls",
          "model_name": "DescriptionStyleModel",
          "model_module_version": "1.5.0",
          "state": {
            "_model_module": "@jupyter-widgets/controls",
            "_model_module_version": "1.5.0",
            "_model_name": "DescriptionStyleModel",
            "_view_count": null,
            "_view_module": "@jupyter-widgets/base",
            "_view_module_version": "1.2.0",
            "_view_name": "StyleView",
            "description_width": ""
          }
        },
        "bcf3aebd2cd84715a85ee8ed33c8b29d": {
          "model_module": "@jupyter-widgets/base",
          "model_name": "LayoutModel",
          "model_module_version": "1.2.0",
          "state": {
            "_model_module": "@jupyter-widgets/base",
            "_model_module_version": "1.2.0",
            "_model_name": "LayoutModel",
            "_view_count": null,
            "_view_module": "@jupyter-widgets/base",
            "_view_module_version": "1.2.0",
            "_view_name": "LayoutView",
            "align_content": null,
            "align_items": null,
            "align_self": null,
            "border": null,
            "bottom": null,
            "display": null,
            "flex": null,
            "flex_flow": null,
            "grid_area": null,
            "grid_auto_columns": null,
            "grid_auto_flow": null,
            "grid_auto_rows": null,
            "grid_column": null,
            "grid_gap": null,
            "grid_row": null,
            "grid_template_areas": null,
            "grid_template_columns": null,
            "grid_template_rows": null,
            "height": null,
            "justify_content": null,
            "justify_items": null,
            "left": null,
            "margin": null,
            "max_height": null,
            "max_width": null,
            "min_height": null,
            "min_width": null,
            "object_fit": null,
            "object_position": null,
            "order": null,
            "overflow": null,
            "overflow_x": null,
            "overflow_y": null,
            "padding": null,
            "right": null,
            "top": null,
            "visibility": null,
            "width": null
          }
        },
        "5ef9d989c4c643aebf2081ac97741495": {
          "model_module": "@jupyter-widgets/controls",
          "model_name": "DescriptionStyleModel",
          "model_module_version": "1.5.0",
          "state": {
            "_model_module": "@jupyter-widgets/controls",
            "_model_module_version": "1.5.0",
            "_model_name": "DescriptionStyleModel",
            "_view_count": null,
            "_view_module": "@jupyter-widgets/base",
            "_view_module_version": "1.2.0",
            "_view_name": "StyleView",
            "description_width": ""
          }
        },
        "db07925ffd4741419b3cde8da7b5ece6": {
          "model_module": "@jupyter-widgets/base",
          "model_name": "LayoutModel",
          "model_module_version": "1.2.0",
          "state": {
            "_model_module": "@jupyter-widgets/base",
            "_model_module_version": "1.2.0",
            "_model_name": "LayoutModel",
            "_view_count": null,
            "_view_module": "@jupyter-widgets/base",
            "_view_module_version": "1.2.0",
            "_view_name": "LayoutView",
            "align_content": null,
            "align_items": null,
            "align_self": null,
            "border": null,
            "bottom": null,
            "display": null,
            "flex": null,
            "flex_flow": null,
            "grid_area": null,
            "grid_auto_columns": null,
            "grid_auto_flow": null,
            "grid_auto_rows": null,
            "grid_column": null,
            "grid_gap": null,
            "grid_row": null,
            "grid_template_areas": null,
            "grid_template_columns": null,
            "grid_template_rows": null,
            "height": null,
            "justify_content": null,
            "justify_items": null,
            "left": null,
            "margin": null,
            "max_height": null,
            "max_width": null,
            "min_height": null,
            "min_width": null,
            "object_fit": null,
            "object_position": null,
            "order": null,
            "overflow": null,
            "overflow_x": null,
            "overflow_y": null,
            "padding": null,
            "right": null,
            "top": null,
            "visibility": null,
            "width": null
          }
        },
        "3cfb9b17399646eaba2351eea9fad65d": {
          "model_module": "@jupyter-widgets/controls",
          "model_name": "DescriptionStyleModel",
          "model_module_version": "1.5.0",
          "state": {
            "_model_module": "@jupyter-widgets/controls",
            "_model_module_version": "1.5.0",
            "_model_name": "DescriptionStyleModel",
            "_view_count": null,
            "_view_module": "@jupyter-widgets/base",
            "_view_module_version": "1.2.0",
            "_view_name": "StyleView",
            "description_width": ""
          }
        },
        "0aadb753d86749c1ba7837c0d3022247": {
          "model_module": "@jupyter-widgets/output",
          "model_name": "OutputModel",
          "model_module_version": "1.0.0",
          "state": {
            "_dom_classes": [],
            "_model_module": "@jupyter-widgets/output",
            "_model_module_version": "1.0.0",
            "_model_name": "OutputModel",
            "_view_count": null,
            "_view_module": "@jupyter-widgets/output",
            "_view_module_version": "1.0.0",
            "_view_name": "OutputView",
            "layout": "IPY_MODEL_7da8d125e1df412792aba2b6ad2cbecf",
            "msg_id": "",
            "outputs": [
              {
                "output_type": "display_data",
                "data": {
                  "text/plain": "<IPython.core.display.HTML object>",
                  "text/html": "\n  <head>\n    <style> table, th, td {border:1px solid black !important;} </style>\n  </head>\n  <body>\n    <table border=\"1\" class=\"dataframe\">\n  <thead>\n    <tr style=\"text-align: center;\">\n      <th></th>\n      <th>title</th>\n      <th>address</th>\n      <th>neighborhood</th>\n      <th>location</th>\n      <th>cityCode</th>\n      <th>categories</th>\n      <th>key</th>\n      <th>police</th>\n      <th>shareImageLive</th>\n      <th>stats</th>\n      <th>hasVod</th>\n      <th>severity</th>\n      <th>cs</th>\n      <th>url</th>\n      <th>created_at</th>\n      <th>updated_at</th>\n      <th>usersNotified</th>\n    </tr>\n  </thead>\n  <tbody>\n    <tr>\n      <th>0</th>\n      <td>Three-Alarm Restaurant Fire Consuming Multiple Buildings Underneath Elevated Train Tracks</td>\n      <td>6808 New Utrecht Ave, Brooklyn, New York, 11219</td>\n      <td>New Utrecht, Brooklyn</td>\n      <td>6808 New Utrecht Ave</td>\n      <td>nyc</td>\n      <td>Fire</td>\n      <td>-N1WSSj6sWoK5l1jYkxv</td>\n      <td>NYPD 62</td>\n      <td><img src=\"https://storage.googleapis.com/citizen-stream-capture/mux:02PIrRw9KX2gvknOAa00grFLGRNQ9br6NVXXPHnpfAcgE_0009.jpg\" style=max-height:124px;\"/></td>\n      <td>angers:1322, chats:726, hearts:1580, streamViews:0, streamsConfirmed:5, streamsCount:20, thanks:2762, usersNotifiedUnique:265537, views:150862, whoas:1127</td>\n      <td>True</td>\n      <td>red</td>\n      <td>1651976298000</td>\n      <td><a target=\"_blank\" href=\"https://citizen.com/-N1WSSj6sWoK5l1jYkxv\">https://citizen.com/-N1WSSj6sWoK5l1jYkxv</a></td>\n      <td>05/08/2022, 02:18:18</td>\n      <td>05/08/2022, 02:18:18</td>\n      <td>265537</td>\n    </tr>\n    <tr>\n      <th>3</th>\n      <td>Apartment Fire</td>\n      <td>230 W 147th St, New York, New York, 10039</td>\n      <td>Harlem, Manhattan</td>\n      <td>230 W 147th St</td>\n      <td>nyc</td>\n      <td>Fire</td>\n      <td>-N1XO-nDuNPxh2hvLqGb</td>\n      <td>NYPD 32</td>\n      <td><img src=\"https://storage.googleapis.com/citizen-stream-capture/mux:yOMCKLG00J9GplFSAA4EVGc7gs1Tu27s5702TFQQH6LSE_0001.jpg\" style=max-height:124px;\"/></td>\n      <td>angers:0, chats:15, hearts:6, streamViews:0, streamsConfirmed:2, streamsCount:3, thanks:17, usersNotifiedUnique:45811, views:3197, whoas:153</td>\n      <td>True</td>\n      <td>red</td>\n      <td>1651991905000</td>\n      <td><a target=\"_blank\" href=\"https://citizen.com/-N1XO-nDuNPxh2hvLqGb\">https://citizen.com/-N1XO-nDuNPxh2hvLqGb</a></td>\n      <td>05/08/2022, 06:38:25</td>\n      <td>05/08/2022, 06:38:25</td>\n      <td>45811</td>\n    </tr>\n    <tr>\n      <th>4</th>\n      <td>Church Fire</td>\n      <td>1470 Bedford Ave, Brooklyn, New York, 11216</td>\n      <td>Crown Heights, Brooklyn</td>\n      <td>1470 Bedford Ave</td>\n      <td>nyc</td>\n      <td>Fire</td>\n      <td>-N1V38CO7DPucyngVmC5</td>\n      <td>NYPD 77</td>\n      <td><img src=\"https://storage.googleapis.com/citizen-stream-capture/mux:i11z1kI7tX00kG1R00BWZsBoESlF7HZVnSBi1OvJTauXA_0000.jpg\" style=max-height:124px;\"/></td>\n      <td>angers:12, chats:17, hearts:83, streamViews:0, streamsConfirmed:2, streamsCount:2, thanks:145, usersNotifiedUnique:40254, views:18323, whoas:150</td>\n      <td>True</td>\n      <td>red</td>\n      <td>1651952882000</td>\n      <td><a target=\"_blank\" href=\"https://citizen.com/-N1V38CO7DPucyngVmC5\">https://citizen.com/-N1V38CO7DPucyngVmC5</a></td>\n      <td>05/07/2022, 19:48:02</td>\n      <td>05/07/2022, 19:48:02</td>\n      <td>40254</td>\n    </tr>\n    <tr>\n      <th>15</th>\n      <td>Maintenance Hole Fire</td>\n      <td>511 E 75th St, New York, New York, 10021</td>\n      <td>Upper East Side, Manhattan</td>\n      <td>511 E 75th St</td>\n      <td>nyc</td>\n      <td>Fire</td>\n      <td>-N1Vbw7d9iTU4Vv1hT_S</td>\n      <td>NYPD 19</td>\n      <td>None</td>\n      <td>angers:2, chats:0, hearts:14, streamViews:0, streamsConfirmed:0, streamsCount:0, thanks:45, usersNotifiedUnique:10773, views:1781, whoas:132</td>\n      <td>False</td>\n      <td>red</td>\n      <td>1651962266000</td>\n      <td><a target=\"_blank\" href=\"https://citizen.com/-N1Vbw7d9iTU4Vv1hT_S\">https://citizen.com/-N1Vbw7d9iTU4Vv1hT_S</a></td>\n      <td>05/07/2022, 22:24:26</td>\n      <td>05/07/2022, 22:24:26</td>\n      <td>10773</td>\n    </tr>\n    <tr>\n      <th>38</th>\n      <td>Suspicious Fire on Second Floor</td>\n      <td>737 E 228th St, Bronx, New York, 10466</td>\n      <td>Williamsbridge, Bronx</td>\n      <td>737 E 228th St</td>\n      <td>nyc</td>\n      <td>Fire</td>\n      <td>-N1TQvYmPALhVRYpbt1U</td>\n      <td>NYPD 47</td>\n      <td>None</td>\n      <td>angers:1, chats:2, hearts:0, streamViews:0, streamsConfirmed:0, streamsCount:0, thanks:57, usersNotifiedUnique:4062, views:793, whoas:17</td>\n      <td>False</td>\n      <td>red</td>\n      <td>1651925563000</td>\n      <td><a target=\"_blank\" href=\"https://citizen.com/-N1TQvYmPALhVRYpbt1U\">https://citizen.com/-N1TQvYmPALhVRYpbt1U</a></td>\n      <td>05/07/2022, 12:12:43</td>\n      <td>05/07/2022, 12:12:43</td>\n      <td>4062</td>\n    </tr>\n  </tbody>\n</table>\n  </body>\n  <script> \n    function get_info(selected_key) { google.colab.kernel.invokeFunction('notebook.show_incident_data', [], {selected_key}); }\n    var rows = Array.from(document.getElementsByTagName('tr'));\n    // remove header row\n    rows.shift();\n    rows.forEach((row, i) => {\n      row.addEventListener('click', () => {\n        get_info(row.getElementsByTagName('td')[6].innerHTML);\n      });\n    }); \n  </script>\n"
                },
                "metadata": {}
              }
            ]
          }
        },
        "7da8d125e1df412792aba2b6ad2cbecf": {
          "model_module": "@jupyter-widgets/base",
          "model_name": "LayoutModel",
          "model_module_version": "1.2.0",
          "state": {
            "_model_module": "@jupyter-widgets/base",
            "_model_module_version": "1.2.0",
            "_model_name": "LayoutModel",
            "_view_count": null,
            "_view_module": "@jupyter-widgets/base",
            "_view_module_version": "1.2.0",
            "_view_name": "LayoutView",
            "align_content": null,
            "align_items": null,
            "align_self": null,
            "border": null,
            "bottom": null,
            "display": null,
            "flex": null,
            "flex_flow": null,
            "grid_area": null,
            "grid_auto_columns": null,
            "grid_auto_flow": null,
            "grid_auto_rows": null,
            "grid_column": null,
            "grid_gap": null,
            "grid_row": null,
            "grid_template_areas": null,
            "grid_template_columns": null,
            "grid_template_rows": null,
            "height": null,
            "justify_content": null,
            "justify_items": null,
            "left": null,
            "margin": null,
            "max_height": null,
            "max_width": null,
            "min_height": null,
            "min_width": null,
            "object_fit": null,
            "object_position": null,
            "order": null,
            "overflow": null,
            "overflow_x": null,
            "overflow_y": null,
            "padding": null,
            "right": null,
            "top": null,
            "visibility": null,
            "width": null
          }
        },
        "1c7b7362cdd24a499432362c71ca4d4e": {
          "model_module": "@jupyter-widgets/output",
          "model_name": "OutputModel",
          "model_module_version": "1.0.0",
          "state": {
            "_dom_classes": [],
            "_model_module": "@jupyter-widgets/output",
            "_model_module_version": "1.0.0",
            "_model_name": "OutputModel",
            "_view_count": null,
            "_view_module": "@jupyter-widgets/output",
            "_view_module_version": "1.0.0",
            "_view_name": "OutputView",
            "layout": "IPY_MODEL_c11708fd00fb4581a573209c30de643e",
            "msg_id": "",
            "outputs": [
              {
                "output_type": "display_data",
                "data": {
                  "text/plain": "<IPython.core.display.HTML object>",
                  "text/html": "Citizen incident link: <a href=https://citizen.com/-N1TQvYmPALhVRYpbt1U>Suspicious Fire on Second Floor</a>"
                },
                "metadata": {}
              },
              {
                "output_type": "display_data",
                "data": {
                  "text/plain": "            Fields                                             Values\n0            title                    Suspicious Fire on Second Floor\n1          address             737 E 228th St, Bronx, New York, 10466\n2     neighborhood                              Williamsbridge, Bronx\n3         location                                     737 E 228th St\n4         cityCode                                                nyc\n5       categories                                               Fire\n6          updates  {'-N1TQvOsIDyGtvp17uZB': {'text': 'Incident re...\n7              key                               -N1TQvYmPALhVRYpbt1U\n8           police                                            NYPD 47\n9   shareImageLive                                               None\n10           stats  angers:1, chats:2, hearts:0, streamViews:0, st...\n11          hasVod                                              False\n12        severity                                                red\n13              cs                                      1651925563000\n14             url           https://citizen.com/-N1TQvYmPALhVRYpbt1U\n15      created_at                               05/07/2022, 12:12:43\n16      updated_at                               05/07/2022, 12:12:43\n17   usersNotified                                               4062",
                  "text/html": "\n  <div id=\"df-57375da1-edef-4064-84f7-9d1de1fb73e8\">\n    <div class=\"colab-df-container\">\n      <div>\n<style scoped>\n    .dataframe tbody tr th:only-of-type {\n        vertical-align: middle;\n    }\n\n    .dataframe tbody tr th {\n        vertical-align: top;\n    }\n\n    .dataframe thead th {\n        text-align: right;\n    }\n</style>\n<table border=\"1\" class=\"dataframe\">\n  <thead>\n    <tr style=\"text-align: right;\">\n      <th></th>\n      <th>Fields</th>\n      <th>Values</th>\n    </tr>\n  </thead>\n  <tbody>\n    <tr>\n      <th>0</th>\n      <td>title</td>\n      <td>Suspicious Fire on Second Floor</td>\n    </tr>\n    <tr>\n      <th>1</th>\n      <td>address</td>\n      <td>737 E 228th St, Bronx, New York, 10466</td>\n    </tr>\n    <tr>\n      <th>2</th>\n      <td>neighborhood</td>\n      <td>Williamsbridge, Bronx</td>\n    </tr>\n    <tr>\n      <th>3</th>\n      <td>location</td>\n      <td>737 E 228th St</td>\n    </tr>\n    <tr>\n      <th>4</th>\n      <td>cityCode</td>\n      <td>nyc</td>\n    </tr>\n    <tr>\n      <th>5</th>\n      <td>categories</td>\n      <td>Fire</td>\n    </tr>\n    <tr>\n      <th>6</th>\n      <td>updates</td>\n      <td>{'-N1TQvOsIDyGtvp17uZB': {'text': 'Incident re...</td>\n    </tr>\n    <tr>\n      <th>7</th>\n      <td>key</td>\n      <td>-N1TQvYmPALhVRYpbt1U</td>\n    </tr>\n    <tr>\n      <th>8</th>\n      <td>police</td>\n      <td>NYPD 47</td>\n    </tr>\n    <tr>\n      <th>9</th>\n      <td>shareImageLive</td>\n      <td>None</td>\n    </tr>\n    <tr>\n      <th>10</th>\n      <td>stats</td>\n      <td>angers:1, chats:2, hearts:0, streamViews:0, st...</td>\n    </tr>\n    <tr>\n      <th>11</th>\n      <td>hasVod</td>\n      <td>False</td>\n    </tr>\n    <tr>\n      <th>12</th>\n      <td>severity</td>\n      <td>red</td>\n    </tr>\n    <tr>\n      <th>13</th>\n      <td>cs</td>\n      <td>1651925563000</td>\n    </tr>\n    <tr>\n      <th>14</th>\n      <td>url</td>\n      <td>https://citizen.com/-N1TQvYmPALhVRYpbt1U</td>\n    </tr>\n    <tr>\n      <th>15</th>\n      <td>created_at</td>\n      <td>05/07/2022, 12:12:43</td>\n    </tr>\n    <tr>\n      <th>16</th>\n      <td>updated_at</td>\n      <td>05/07/2022, 12:12:43</td>\n    </tr>\n    <tr>\n      <th>17</th>\n      <td>usersNotified</td>\n      <td>4062</td>\n    </tr>\n  </tbody>\n</table>\n</div>\n      <button class=\"colab-df-convert\" onclick=\"convertToInteractive('df-57375da1-edef-4064-84f7-9d1de1fb73e8')\"\n              title=\"Convert this dataframe to an interactive table.\"\n              style=\"display:none;\">\n        \n  <svg xmlns=\"http://www.w3.org/2000/svg\" height=\"24px\"viewBox=\"0 0 24 24\"\n       width=\"24px\">\n    <path d=\"M0 0h24v24H0V0z\" fill=\"none\"/>\n    <path d=\"M18.56 5.44l.94 2.06.94-2.06 2.06-.94-2.06-.94-.94-2.06-.94 2.06-2.06.94zm-11 1L8.5 8.5l.94-2.06 2.06-.94-2.06-.94L8.5 2.5l-.94 2.06-2.06.94zm10 10l.94 2.06.94-2.06 2.06-.94-2.06-.94-.94-2.06-.94 2.06-2.06.94z\"/><path d=\"M17.41 7.96l-1.37-1.37c-.4-.4-.92-.59-1.43-.59-.52 0-1.04.2-1.43.59L10.3 9.45l-7.72 7.72c-.78.78-.78 2.05 0 2.83L4 21.41c.39.39.9.59 1.41.59.51 0 1.02-.2 1.41-.59l7.78-7.78 2.81-2.81c.8-.78.8-2.07 0-2.86zM5.41 20L4 18.59l7.72-7.72 1.47 1.35L5.41 20z\"/>\n  </svg>\n      </button>\n      \n  <style>\n    .colab-df-container {\n      display:flex;\n      flex-wrap:wrap;\n      gap: 12px;\n    }\n\n    .colab-df-convert {\n      background-color: #E8F0FE;\n      border: none;\n      border-radius: 50%;\n      cursor: pointer;\n      display: none;\n      fill: #1967D2;\n      height: 32px;\n      padding: 0 0 0 0;\n      width: 32px;\n    }\n\n    .colab-df-convert:hover {\n      background-color: #E2EBFA;\n      box-shadow: 0px 1px 2px rgba(60, 64, 67, 0.3), 0px 1px 3px 1px rgba(60, 64, 67, 0.15);\n      fill: #174EA6;\n    }\n\n    [theme=dark] .colab-df-convert {\n      background-color: #3B4455;\n      fill: #D2E3FC;\n    }\n\n    [theme=dark] .colab-df-convert:hover {\n      background-color: #434B5C;\n      box-shadow: 0px 1px 3px 1px rgba(0, 0, 0, 0.15);\n      filter: drop-shadow(0px 1px 2px rgba(0, 0, 0, 0.3));\n      fill: #FFFFFF;\n    }\n  </style>\n\n      <script>\n        const buttonEl =\n          document.querySelector('#df-57375da1-edef-4064-84f7-9d1de1fb73e8 button.colab-df-convert');\n        buttonEl.style.display =\n          google.colab.kernel.accessAllowed ? 'block' : 'none';\n\n        async function convertToInteractive(key) {\n          const element = document.querySelector('#df-57375da1-edef-4064-84f7-9d1de1fb73e8');\n          const dataTable =\n            await google.colab.kernel.invokeFunction('convertToInteractive',\n                                                     [key], {});\n          if (!dataTable) return;\n\n          const docLinkHtml = 'Like what you see? Visit the ' +\n            '<a target=\"_blank\" href=https://colab.research.google.com/notebooks/data_table.ipynb>data table notebook</a>'\n            + ' to learn more about interactive tables.';\n          element.innerHTML = '';\n          dataTable['output_type'] = 'display_data';\n          await google.colab.output.renderOutput(dataTable, element);\n          const docLink = document.createElement('div');\n          docLink.innerHTML = docLinkHtml;\n          element.appendChild(docLink);\n        }\n      </script>\n    </div>\n  </div>\n  ",
                  "application/vnd.google.colaboratory.module+javascript": "\n      import \"https://ssl.gstatic.com/colaboratory/data_table/f872b2c2305463fd/data_table.js\";\n\n      window.createDataTable({\n        data: [[{\n            'v': 0,\n            'f': \"0\",\n        },\n\"title\",\n\"Suspicious Fire on Second Floor\"],\n [{\n            'v': 1,\n            'f': \"1\",\n        },\n\"address\",\n\"737 E 228th St, Bronx, New York, 10466\"],\n [{\n            'v': 2,\n            'f': \"2\",\n        },\n\"neighborhood\",\n\"Williamsbridge, Bronx\"],\n [{\n            'v': 3,\n            'f': \"3\",\n        },\n\"location\",\n\"737 E 228th St\"],\n [{\n            'v': 4,\n            'f': \"4\",\n        },\n\"cityCode\",\n\"nyc\"],\n [{\n            'v': 5,\n            'f': \"5\",\n        },\n\"categories\",\n\"Fire\"],\n [{\n            'v': 6,\n            'f': \"6\",\n        },\n\"updates\",\n\"{'-N1TQvOsIDyGtvp17uZB': {'text': 'Incident reported at 737 E 228th St.', 'ts': 1651925562999, 'type': 'ROOT', 'displayLocation': '737 E 228th St'}, '-N1TQvYuhckPGVypgeNV': {'text': 'FDNY is on scene of a confirmed fire on the second floor of the building. They have requested additional units to help subdue the flames.', 'ts': 1651925563000, 'type': 'TEXT', 'displayLocation': '737 E 228th St'}, '-N1TRA1jmjaeuINcWi0z': {'text': 'Firefighters state that they found no trapped occupants on the first floor after completing a preliminary search.', 'ts': 1651925626000, 'type': 'TEXT', 'displayLocation': ''}, '-N1TSO0VHuP1gsOdultI': {'text': 'Firefighters say that they have extinguished all visible flames but think that additional resources will be required to fully control the fire.', 'ts': 1651925946000, 'type': 'TEXT', 'displayLocation': ''}, '-N1TScTUiS1BmWf2Ox9N': {'text': 'They are also conducting a thorough search of the property to search for any trapped occupants or isolated pockets of flames.', 'ts': 1651926009000, 'type': 'TEXT', 'displayLocation': ''}, '-N1TTND5UHyjAh93133j': {'text': 'Firefighters now think that the fire can be brought under control with the resources already present at the scene.', 'ts': 1651926204000, 'type': 'TEXT', 'displayLocation': ''}, '-N1TVI0aogdZa_BRGDRF': {'text': 'Firefighters have placed the fire under control. They also advise that they did not find any trapped or injured people after completing an extensive search of the building.', 'ts': 1651926707000, 'type': 'TEXT', 'displayLocation': ''}, '-N1TVmd8-5uGz6LyLQXJ': {'text': 'FDNY also deem the fire to have a suspicious origin and advise that they shut down the gas supply to the building.', 'ts': 1651926837000, 'type': 'TEXT', 'displayLocation': ''}}\"],\n [{\n            'v': 7,\n            'f': \"7\",\n        },\n\"key\",\n\"-N1TQvYmPALhVRYpbt1U\"],\n [{\n            'v': 8,\n            'f': \"8\",\n        },\n\"police\",\n\"NYPD 47\"],\n [{\n            'v': 9,\n            'f': \"9\",\n        },\n\"shareImageLive\",\nnull],\n [{\n            'v': 10,\n            'f': \"10\",\n        },\n\"stats\",\n\"angers:1, chats:2, hearts:0, streamViews:0, streamsConfirmed:0, streamsCount:0, thanks:57, usersNotifiedUnique:4062, views:788, whoas:17\"],\n [{\n            'v': 11,\n            'f': \"11\",\n        },\n\"hasVod\",\nfalse],\n [{\n            'v': 12,\n            'f': \"12\",\n        },\n\"severity\",\n\"red\"],\n [{\n            'v': 13,\n            'f': \"13\",\n        },\n\"cs\",\n1651925563000],\n [{\n            'v': 14,\n            'f': \"14\",\n        },\n\"url\",\n\"https://citizen.com/-N1TQvYmPALhVRYpbt1U\"],\n [{\n            'v': 15,\n            'f': \"15\",\n        },\n\"created_at\",\n\"05/07/2022, 12:12:43\"],\n [{\n            'v': 16,\n            'f': \"16\",\n        },\n\"updated_at\",\n\"05/07/2022, 12:12:43\"],\n [{\n            'v': 17,\n            'f': \"17\",\n        },\n\"usersNotified\",\n4062]],\n        columns: [[\"number\", \"index\"], [\"string\", \"Fields\"], [\"string\", \"Values\"]],\n        columnOptions: [{\"width\": \"1px\", \"className\": \"index_column\"}],\n        rowsPerPage: 25,\n        helpUrl: \"https://colab.research.google.com/notebooks/data_table.ipynb\",\n        suppressOutputScrolling: true,\n        minimumWidth: undefined,\n      });\n    "
                },
                "metadata": {}
              }
            ]
          }
        },
        "c11708fd00fb4581a573209c30de643e": {
          "model_module": "@jupyter-widgets/base",
          "model_name": "LayoutModel",
          "model_module_version": "1.2.0",
          "state": {
            "_model_module": "@jupyter-widgets/base",
            "_model_module_version": "1.2.0",
            "_model_name": "LayoutModel",
            "_view_count": null,
            "_view_module": "@jupyter-widgets/base",
            "_view_module_version": "1.2.0",
            "_view_name": "LayoutView",
            "align_content": null,
            "align_items": null,
            "align_self": null,
            "border": null,
            "bottom": null,
            "display": null,
            "flex": null,
            "flex_flow": null,
            "grid_area": null,
            "grid_auto_columns": null,
            "grid_auto_flow": null,
            "grid_auto_rows": null,
            "grid_column": null,
            "grid_gap": null,
            "grid_row": null,
            "grid_template_areas": null,
            "grid_template_columns": null,
            "grid_template_rows": null,
            "height": null,
            "justify_content": null,
            "justify_items": null,
            "left": null,
            "margin": null,
            "max_height": null,
            "max_width": null,
            "min_height": null,
            "min_width": null,
            "object_fit": null,
            "object_position": null,
            "order": null,
            "overflow": null,
            "overflow_x": null,
            "overflow_y": null,
            "padding": null,
            "right": null,
            "top": null,
            "visibility": null,
            "width": null
          }
        },
        "d7f45e7157ba482a850ebb6c2f3cc4cb": {
          "model_module": "@jupyter-widgets/output",
          "model_name": "OutputModel",
          "model_module_version": "1.0.0",
          "state": {
            "_dom_classes": [],
            "_model_module": "@jupyter-widgets/output",
            "_model_module_version": "1.0.0",
            "_model_name": "OutputModel",
            "_view_count": null,
            "_view_module": "@jupyter-widgets/output",
            "_view_module_version": "1.0.0",
            "_view_name": "OutputView",
            "layout": "IPY_MODEL_58964ec13a97425c9534ee19bad7ced1",
            "msg_id": "",
            "outputs": [
              {
                "output_type": "display_data",
                "data": {
                  "text/plain": "                     id            created_at  \\\n0  -N1TQvOsIDyGtvp17uZB  05/07/2022, 12:12:42   \n1  -N1TQvYuhckPGVypgeNV  05/07/2022, 12:12:43   \n2  -N1TRA1jmjaeuINcWi0z  05/07/2022, 12:13:46   \n3  -N1TSO0VHuP1gsOdultI  05/07/2022, 12:19:06   \n4  -N1TScTUiS1BmWf2Ox9N  05/07/2022, 12:20:09   \n5  -N1TTND5UHyjAh93133j  05/07/2022, 12:23:24   \n6  -N1TVI0aogdZa_BRGDRF  05/07/2022, 12:31:47   \n7  -N1TVmd8-5uGz6LyLQXJ  05/07/2022, 12:33:57   \n\n                                                text        location  \n0               Incident reported at 737 E 228th St.  737 E 228th St  \n1  FDNY is on scene of a confirmed fire on the se...  737 E 228th St  \n2  Firefighters state that they found no trapped ...                  \n3  Firefighters say that they have extinguished a...                  \n4  They are also conducting a thorough search of ...                  \n5  Firefighters now think that the fire can be br...                  \n6  Firefighters have placed the fire under contro...                  \n7  FDNY also deem the fire to have a suspicious o...                  ",
                  "text/html": "\n  <div id=\"df-b3869b0a-9bec-47a8-8fe2-a5f917876bcf\">\n    <div class=\"colab-df-container\">\n      <div>\n<style scoped>\n    .dataframe tbody tr th:only-of-type {\n        vertical-align: middle;\n    }\n\n    .dataframe tbody tr th {\n        vertical-align: top;\n    }\n\n    .dataframe thead th {\n        text-align: right;\n    }\n</style>\n<table border=\"1\" class=\"dataframe\">\n  <thead>\n    <tr style=\"text-align: right;\">\n      <th></th>\n      <th>id</th>\n      <th>created_at</th>\n      <th>text</th>\n      <th>location</th>\n    </tr>\n  </thead>\n  <tbody>\n    <tr>\n      <th>0</th>\n      <td>-N1TQvOsIDyGtvp17uZB</td>\n      <td>05/07/2022, 12:12:42</td>\n      <td>Incident reported at 737 E 228th St.</td>\n      <td>737 E 228th St</td>\n    </tr>\n    <tr>\n      <th>1</th>\n      <td>-N1TQvYuhckPGVypgeNV</td>\n      <td>05/07/2022, 12:12:43</td>\n      <td>FDNY is on scene of a confirmed fire on the se...</td>\n      <td>737 E 228th St</td>\n    </tr>\n    <tr>\n      <th>2</th>\n      <td>-N1TRA1jmjaeuINcWi0z</td>\n      <td>05/07/2022, 12:13:46</td>\n      <td>Firefighters state that they found no trapped ...</td>\n      <td></td>\n    </tr>\n    <tr>\n      <th>3</th>\n      <td>-N1TSO0VHuP1gsOdultI</td>\n      <td>05/07/2022, 12:19:06</td>\n      <td>Firefighters say that they have extinguished a...</td>\n      <td></td>\n    </tr>\n    <tr>\n      <th>4</th>\n      <td>-N1TScTUiS1BmWf2Ox9N</td>\n      <td>05/07/2022, 12:20:09</td>\n      <td>They are also conducting a thorough search of ...</td>\n      <td></td>\n    </tr>\n    <tr>\n      <th>5</th>\n      <td>-N1TTND5UHyjAh93133j</td>\n      <td>05/07/2022, 12:23:24</td>\n      <td>Firefighters now think that the fire can be br...</td>\n      <td></td>\n    </tr>\n    <tr>\n      <th>6</th>\n      <td>-N1TVI0aogdZa_BRGDRF</td>\n      <td>05/07/2022, 12:31:47</td>\n      <td>Firefighters have placed the fire under contro...</td>\n      <td></td>\n    </tr>\n    <tr>\n      <th>7</th>\n      <td>-N1TVmd8-5uGz6LyLQXJ</td>\n      <td>05/07/2022, 12:33:57</td>\n      <td>FDNY also deem the fire to have a suspicious o...</td>\n      <td></td>\n    </tr>\n  </tbody>\n</table>\n</div>\n      <button class=\"colab-df-convert\" onclick=\"convertToInteractive('df-b3869b0a-9bec-47a8-8fe2-a5f917876bcf')\"\n              title=\"Convert this dataframe to an interactive table.\"\n              style=\"display:none;\">\n        \n  <svg xmlns=\"http://www.w3.org/2000/svg\" height=\"24px\"viewBox=\"0 0 24 24\"\n       width=\"24px\">\n    <path d=\"M0 0h24v24H0V0z\" fill=\"none\"/>\n    <path d=\"M18.56 5.44l.94 2.06.94-2.06 2.06-.94-2.06-.94-.94-2.06-.94 2.06-2.06.94zm-11 1L8.5 8.5l.94-2.06 2.06-.94-2.06-.94L8.5 2.5l-.94 2.06-2.06.94zm10 10l.94 2.06.94-2.06 2.06-.94-2.06-.94-.94-2.06-.94 2.06-2.06.94z\"/><path d=\"M17.41 7.96l-1.37-1.37c-.4-.4-.92-.59-1.43-.59-.52 0-1.04.2-1.43.59L10.3 9.45l-7.72 7.72c-.78.78-.78 2.05 0 2.83L4 21.41c.39.39.9.59 1.41.59.51 0 1.02-.2 1.41-.59l7.78-7.78 2.81-2.81c.8-.78.8-2.07 0-2.86zM5.41 20L4 18.59l7.72-7.72 1.47 1.35L5.41 20z\"/>\n  </svg>\n      </button>\n      \n  <style>\n    .colab-df-container {\n      display:flex;\n      flex-wrap:wrap;\n      gap: 12px;\n    }\n\n    .colab-df-convert {\n      background-color: #E8F0FE;\n      border: none;\n      border-radius: 50%;\n      cursor: pointer;\n      display: none;\n      fill: #1967D2;\n      height: 32px;\n      padding: 0 0 0 0;\n      width: 32px;\n    }\n\n    .colab-df-convert:hover {\n      background-color: #E2EBFA;\n      box-shadow: 0px 1px 2px rgba(60, 64, 67, 0.3), 0px 1px 3px 1px rgba(60, 64, 67, 0.15);\n      fill: #174EA6;\n    }\n\n    [theme=dark] .colab-df-convert {\n      background-color: #3B4455;\n      fill: #D2E3FC;\n    }\n\n    [theme=dark] .colab-df-convert:hover {\n      background-color: #434B5C;\n      box-shadow: 0px 1px 3px 1px rgba(0, 0, 0, 0.15);\n      filter: drop-shadow(0px 1px 2px rgba(0, 0, 0, 0.3));\n      fill: #FFFFFF;\n    }\n  </style>\n\n      <script>\n        const buttonEl =\n          document.querySelector('#df-b3869b0a-9bec-47a8-8fe2-a5f917876bcf button.colab-df-convert');\n        buttonEl.style.display =\n          google.colab.kernel.accessAllowed ? 'block' : 'none';\n\n        async function convertToInteractive(key) {\n          const element = document.querySelector('#df-b3869b0a-9bec-47a8-8fe2-a5f917876bcf');\n          const dataTable =\n            await google.colab.kernel.invokeFunction('convertToInteractive',\n                                                     [key], {});\n          if (!dataTable) return;\n\n          const docLinkHtml = 'Like what you see? Visit the ' +\n            '<a target=\"_blank\" href=https://colab.research.google.com/notebooks/data_table.ipynb>data table notebook</a>'\n            + ' to learn more about interactive tables.';\n          element.innerHTML = '';\n          dataTable['output_type'] = 'display_data';\n          await google.colab.output.renderOutput(dataTable, element);\n          const docLink = document.createElement('div');\n          docLink.innerHTML = docLinkHtml;\n          element.appendChild(docLink);\n        }\n      </script>\n    </div>\n  </div>\n  ",
                  "application/vnd.google.colaboratory.module+javascript": "\n      import \"https://ssl.gstatic.com/colaboratory/data_table/f872b2c2305463fd/data_table.js\";\n\n      window.createDataTable({\n        data: [[{\n            'v': 0,\n            'f': \"0\",\n        },\n\"-N1TQvOsIDyGtvp17uZB\",\n\"05/07/2022, 12:12:42\",\n\"Incident reported at 737 E 228th St.\",\n\"737 E 228th St\"],\n [{\n            'v': 1,\n            'f': \"1\",\n        },\n\"-N1TQvYuhckPGVypgeNV\",\n\"05/07/2022, 12:12:43\",\n\"FDNY is on scene of a confirmed fire on the second floor of the building. They have requested additional units to help subdue the flames.\",\n\"737 E 228th St\"],\n [{\n            'v': 2,\n            'f': \"2\",\n        },\n\"-N1TRA1jmjaeuINcWi0z\",\n\"05/07/2022, 12:13:46\",\n\"Firefighters state that they found no trapped occupants on the first floor after completing a preliminary search.\",\n\"\"],\n [{\n            'v': 3,\n            'f': \"3\",\n        },\n\"-N1TSO0VHuP1gsOdultI\",\n\"05/07/2022, 12:19:06\",\n\"Firefighters say that they have extinguished all visible flames but think that additional resources will be required to fully control the fire.\",\n\"\"],\n [{\n            'v': 4,\n            'f': \"4\",\n        },\n\"-N1TScTUiS1BmWf2Ox9N\",\n\"05/07/2022, 12:20:09\",\n\"They are also conducting a thorough search of the property to search for any trapped occupants or isolated pockets of flames.\",\n\"\"],\n [{\n            'v': 5,\n            'f': \"5\",\n        },\n\"-N1TTND5UHyjAh93133j\",\n\"05/07/2022, 12:23:24\",\n\"Firefighters now think that the fire can be brought under control with the resources already present at the scene.\",\n\"\"],\n [{\n            'v': 6,\n            'f': \"6\",\n        },\n\"-N1TVI0aogdZa_BRGDRF\",\n\"05/07/2022, 12:31:47\",\n\"Firefighters have placed the fire under control. They also advise that they did not find any trapped or injured people after completing an extensive search of the building.\",\n\"\"],\n [{\n            'v': 7,\n            'f': \"7\",\n        },\n\"-N1TVmd8-5uGz6LyLQXJ\",\n\"05/07/2022, 12:33:57\",\n\"FDNY also deem the fire to have a suspicious origin and advise that they shut down the gas supply to the building.\",\n\"\"]],\n        columns: [[\"number\", \"index\"], [\"string\", \"id\"], [\"string\", \"created_at\"], [\"string\", \"text\"], [\"string\", \"location\"]],\n        columnOptions: [{\"width\": \"1px\", \"className\": \"index_column\"}],\n        rowsPerPage: 25,\n        helpUrl: \"https://colab.research.google.com/notebooks/data_table.ipynb\",\n        suppressOutputScrolling: true,\n        minimumWidth: undefined,\n      });\n    "
                },
                "metadata": {}
              }
            ]
          }
        },
        "58964ec13a97425c9534ee19bad7ced1": {
          "model_module": "@jupyter-widgets/base",
          "model_name": "LayoutModel",
          "model_module_version": "1.2.0",
          "state": {
            "_model_module": "@jupyter-widgets/base",
            "_model_module_version": "1.2.0",
            "_model_name": "LayoutModel",
            "_view_count": null,
            "_view_module": "@jupyter-widgets/base",
            "_view_module_version": "1.2.0",
            "_view_name": "LayoutView",
            "align_content": null,
            "align_items": null,
            "align_self": null,
            "border": null,
            "bottom": null,
            "display": null,
            "flex": null,
            "flex_flow": null,
            "grid_area": null,
            "grid_auto_columns": null,
            "grid_auto_flow": null,
            "grid_auto_rows": null,
            "grid_column": null,
            "grid_gap": null,
            "grid_row": null,
            "grid_template_areas": null,
            "grid_template_columns": null,
            "grid_template_rows": null,
            "height": null,
            "justify_content": null,
            "justify_items": null,
            "left": null,
            "margin": null,
            "max_height": null,
            "max_width": null,
            "min_height": null,
            "min_width": null,
            "object_fit": null,
            "object_position": null,
            "order": null,
            "overflow": null,
            "overflow_x": null,
            "overflow_y": null,
            "padding": null,
            "right": null,
            "top": null,
            "visibility": null,
            "width": null
          }
        },
        "ba7a1dcab0be48fab40f03d9347e72ed": {
          "model_module": "@jupyter-widgets/output",
          "model_name": "OutputModel",
          "model_module_version": "1.0.0",
          "state": {
            "_dom_classes": [],
            "_model_module": "@jupyter-widgets/output",
            "_model_module_version": "1.0.0",
            "_model_name": "OutputModel",
            "_view_count": null,
            "_view_module": "@jupyter-widgets/output",
            "_view_module_version": "1.0.0",
            "_view_name": "OutputView",
            "layout": "IPY_MODEL_a9d06d3d652a4bbba9e876e49984a4e2",
            "msg_id": "",
            "outputs": [
              {
                "output_type": "display_data",
                "data": {
                  "text/plain": "<IPython.core.display.HTML object>",
                  "text/html": "\n  <head>\n    <style> table, th, td {border:1px solid black !important;} </style>\n  </head>\n  <body>\n    <table border=\"1\" class=\"dataframe\">\n  <thead>\n    <tr style=\"text-align: center;\">\n      <th></th>\n      <th>title</th>\n      <th>address</th>\n      <th>neighborhood</th>\n      <th>location</th>\n      <th>cityCode</th>\n      <th>categories</th>\n      <th>key</th>\n      <th>police</th>\n      <th>shareImageLive</th>\n      <th>stats</th>\n      <th>hasVod</th>\n      <th>severity</th>\n      <th>cs</th>\n      <th>url</th>\n      <th>created_at</th>\n      <th>updated_at</th>\n      <th>usersNotified</th>\n    </tr>\n  </thead>\n  <tbody>\n    <tr>\n      <th>0</th>\n      <td>Suspicious Fire on Second Floor</td>\n      <td>737 E 228th St, Bronx, New York, 10466</td>\n      <td>Williamsbridge, Bronx</td>\n      <td>737 E 228th St</td>\n      <td>nyc</td>\n      <td>Fire</td>\n      <td>-N1TQvYmPALhVRYpbt1U</td>\n      <td>NYPD 47</td>\n      <td>None</td>\n      <td>angers:1, chats:2, hearts:0, streamViews:0, streamsConfirmed:0, streamsCount:0, thanks:57, usersNotifiedUnique:4062, views:787, whoas:17</td>\n      <td>False</td>\n      <td>red</td>\n      <td>1651925563000</td>\n      <td><a target=\"_blank\" href=\"https://citizen.com/-N1TQvYmPALhVRYpbt1U\">https://citizen.com/-N1TQvYmPALhVRYpbt1U</a></td>\n      <td>05/07/2022, 12:12:43</td>\n      <td>05/07/2022, 12:12:43</td>\n      <td>4062</td>\n    </tr>\n    <tr>\n      <th>1</th>\n      <td>Two-Story House Fire</td>\n      <td>4143 Hill Ave, Bronx, New York, 10466</td>\n      <td>Wakefield, Bronx</td>\n      <td>4143 Hill Ave</td>\n      <td>nyc</td>\n      <td>Fire</td>\n      <td>-N1NKkmNk_Ay9jK9f4Yb</td>\n      <td>NYPD 47</td>\n      <td>None</td>\n      <td>angers:2, chats:2, hearts:2, streamViews:0, streamsConfirmed:0, streamsCount:1, thanks:4, usersNotifiedUnique:2753, views:654, whoas:1</td>\n      <td>False</td>\n      <td>red</td>\n      <td>1651823283000</td>\n      <td><a target=\"_blank\" href=\"https://citizen.com/-N1NKkmNk_Ay9jK9f4Yb\">https://citizen.com/-N1NKkmNk_Ay9jK9f4Yb</a></td>\n      <td>05/06/2022, 07:48:03</td>\n      <td>05/06/2022, 07:48:03</td>\n      <td>2753</td>\n    </tr>\n  </tbody>\n</table>\n  </body>\n  <script> \n    function get_info(selected_key) { google.colab.kernel.invokeFunction('notebook.show_incident_data', [], {selected_key}); }\n    var rows = Array.from(document.getElementsByTagName('tr'));\n    // remove header row\n    rows.shift();\n    rows.forEach((row, i) => {\n      row.addEventListener('click', () => {\n        get_info(row.getElementsByTagName('td')[6].innerHTML);\n      });\n    }); \n  </script>\n"
                },
                "metadata": {}
              }
            ]
          }
        },
        "a9d06d3d652a4bbba9e876e49984a4e2": {
          "model_module": "@jupyter-widgets/base",
          "model_name": "LayoutModel",
          "model_module_version": "1.2.0",
          "state": {
            "_model_module": "@jupyter-widgets/base",
            "_model_module_version": "1.2.0",
            "_model_name": "LayoutModel",
            "_view_count": null,
            "_view_module": "@jupyter-widgets/base",
            "_view_module_version": "1.2.0",
            "_view_name": "LayoutView",
            "align_content": null,
            "align_items": null,
            "align_self": null,
            "border": null,
            "bottom": null,
            "display": null,
            "flex": null,
            "flex_flow": null,
            "grid_area": null,
            "grid_auto_columns": null,
            "grid_auto_flow": null,
            "grid_auto_rows": null,
            "grid_column": null,
            "grid_gap": null,
            "grid_row": null,
            "grid_template_areas": null,
            "grid_template_columns": null,
            "grid_template_rows": null,
            "height": null,
            "justify_content": null,
            "justify_items": null,
            "left": null,
            "margin": null,
            "max_height": null,
            "max_width": null,
            "min_height": null,
            "min_width": null,
            "object_fit": null,
            "object_position": null,
            "order": null,
            "overflow": null,
            "overflow_x": null,
            "overflow_y": null,
            "padding": null,
            "right": null,
            "top": null,
            "visibility": null,
            "width": null
          }
        }
      }
    }
  },
  "cells": [
    {
      "cell_type": "markdown",
      "metadata": {
        "id": "view-in-github",
        "colab_type": "text"
      },
      "source": [
        "<a href=\"https://colab.research.google.com/github/HongSenDu/citizen-scrape/blob/main/citizen_scrape.ipynb\" target=\"_parent\"><img src=\"https://colab.research.google.com/assets/colab-badge.svg\" alt=\"Open In Colab\"/></a>"
      ]
    },
    {
      "cell_type": "code",
      "execution_count": 1,
      "metadata": {
        "id": "hdFI-AyQTNeL"
      },
      "outputs": [],
      "source": [
        "import csv\n",
        "import requests\n",
        "from datetime import datetime\n",
        "from pprint import pprint\n",
        "from collections import defaultdict\n",
        "import pandas as pd\n",
        "import numpy as np"
      ]
    },
    {
      "cell_type": "code",
      "source": [
        "citizen_site = \"https://citizen.com/\"\n",
        "incident_endpoint = \"https://citizen.com/api/incident/\"\n",
        "search_route = \"search\"\n",
        "location_query_params = \"?insideBoundingBox[0]={}&insideBoundingBox[2]={}&insideBoundingBox[1]={}&insideBoundingBox[3]={}&limit={}\"\n",
        "incident_selected_fields = ['title', 'address', 'neighborhood', 'location', 'cityCode', 'categories', 'updates', 'key', 'police', 'shareImageLive', 'stats', 'hasVod', 'severity',  'cs']\n",
        "interested_categories = ['Animal Related', 'Assault / Fight', 'Break In', 'Fire', 'Fire / EMS Activity', 'Gun Related', 'Harassment', 'Protest', 'Pursuit / Search', 'Robbery / Theft ', 'Weapon']\n",
        "groupable_fields = ['cityCode', 'neighborhood', 'police', 'categories', 'hasVod']"
      ],
      "metadata": {
        "id": "eCj90QvHTkE8"
      },
      "execution_count": 2,
      "outputs": []
    },
    {
      "cell_type": "markdown",
      "source": [
        "# Scrape Functions\n"
      ],
      "metadata": {
        "id": "Z2DWs5B07-3D"
      }
    },
    {
      "cell_type": "code",
      "source": [
        "# takes tuple of bounding lat long coordinates\n",
        "def get_data_by_location(latitude, longitude, limit = 10):\n",
        "  endpoint = incident_endpoint + search_route + location_query_params.format(latitude[0], latitude[1], longitude[0], longitude[1], limit)\n",
        "  request = requests.get(endpoint)\n",
        "  if request.status_code == 200:\n",
        "    return request.json().get(\"hits\", [])\n",
        "  return f\"Error: {request.status_code}\"\n",
        "\n",
        "# only keep fields that are relevant\n",
        "def filter_by_keys(data, selected_fields):\n",
        "  return { key: data.get(key, None) for key in selected_fields }\n",
        "\n",
        "def endpoint_data(endpoint):\n",
        "  request = requests.get(endpoint, headers={'User-Agent': 'Mozilla/5.0 (Macintosh; Intel Mac OS X 10_11_5) AppleWebKit/537.36 (KHTML, like Gecko) Chrome/50.0.2661.102 Safari/537.36'})\n",
        "  if request.status_code == 200:\n",
        "    return request.json()\n",
        "  print(f\"Error: {request.status_code}\")\n",
        "  return None\n",
        "\n",
        "# most accurate when using city_codes\n",
        "def get_data_by_keyword(term, limit = 10):\n",
        "  endpoint = incident_endpoint + search_route + f\"?q={term}&limit={limit}\"\n",
        "  data = endpoint_data(endpoint)\n",
        "  return data.get(\"hits\", data) if data else []\n",
        "\n",
        "# get single incident information with option to sort by relevant fields\n",
        "def get_incident_data(id, selected_fields = False):\n",
        "  endpoint = incident_endpoint + f\"{id}/stats\"\n",
        "  data = endpoint_data(endpoint)\n",
        "  if data:\n",
        "    if selected_fields:\n",
        "      data = filter_by_keys(data, selected_fields)\n",
        "    if data['categories']:\n",
        "      data['categories'] =  ','.join(e for e in data['categories'])\n",
        "    data[\"url\"] = citizen_site + f\"{id}\"\n",
        "  return data or []\n",
        "\n",
        "# function to get all data from citizen\n",
        "def get_all_data():\n",
        "  endpoint = incident_endpoint + search_route + \"?limit=10000000000\"\n",
        "  data = endpoint_data(endpoint)\n",
        "  return data.get(\"hits\", data) or []\n",
        "\n",
        "# group data by category of incident\n",
        "def group_by_category(data):\n",
        "  categories = defaultdict(dict)\n",
        "  for incident in data:\n",
        "    category = ','.join(e for e in incident['categories'])\n",
        "    if category in interested_categories:\n",
        "      cat_loc = categories[category][incident['objectID']] = {}\n",
        "      cat_loc['title'] = incident['title']\n",
        "      cat_loc[\"updates\"] = [updates['text'] for updates in incident['updates']]\n",
        "  return categories\n",
        "\n",
        "# saves to local csv file from scraped data\n",
        "def write_to_csv(file, data):\n",
        "  keys = data[0].keys()\n",
        "  with open(file, 'w', newline='') as output_file:\n",
        "      dict_writer = csv.DictWriter(output_file, keys)\n",
        "      dict_writer.writeheader()\n",
        "      dict_writer.writerows(data) \n",
        "\n",
        "# sort by relevant incident fields\n",
        "def get_incident_fields(incidents):\n",
        "  incidents_arr = []\n",
        "  for incident in incidents:\n",
        "    if incident['severity'] == 'red':\n",
        "      incident_data = get_incident_data(incident['objectID'], incident_selected_fields)\n",
        "      if isinstance(incident_data, dict):\n",
        "        incident_data.update({\n",
        "            \"created_at\": datetime.fromtimestamp(incident_data.get('created_at', incident_data['cs']) / 1000).strftime(\"%m/%d/%Y, %H:%M:%S\"),\n",
        "            \"updated_at\": datetime.fromtimestamp(incident_data.get('updated_at', incident_data['cs']) / 1000).strftime(\"%m/%d/%Y, %H:%M:%S\"),\n",
        "            \"categories\": ''.join(incident_data['categories']) if incident_data['categories'] else None,\n",
        "            \"usersNotified\": incident_data['stats'].get('usersNotifiedUnique', 0),\n",
        "            \"stats\": ', '.join([f'{key}:{value}' for key, value in incident_data['stats'].items()])\n",
        "        })\n",
        "      incidents_arr.append(incident_data)\n",
        "  return incidents_arr\n",
        "\n",
        "# get updates array of dictionaries for incidents\n",
        "def get_only_updates(incident):\n",
        "  updates = incident['updates']\n",
        "  updates_arr = [{\"id\": key, \n",
        "                  \"created_at\": datetime.fromtimestamp(val[\"ts\"] / 1000).strftime(\"%m/%d/%Y, %H:%M:%S\"),\n",
        "                  \"text\": val[\"text\"],\n",
        "                  \"location\": val[\"displayLocation\"],\n",
        "                 } for (key, val) in list(updates.items()) if isinstance(val, dict)]\n",
        "  return updates_arr"
      ],
      "metadata": {
        "id": "5o8LTNXxTU0V"
      },
      "execution_count": 3,
      "outputs": []
    },
    {
      "cell_type": "markdown",
      "source": [
        "# Scraping by NYC\n"
      ],
      "metadata": {
        "id": "O4hCBLzb8EEp"
      }
    },
    {
      "cell_type": "code",
      "source": [
        "# get nyc incidents by keyword\n",
        "nyc_incidents = get_data_by_keyword(\"nyc\", limit = 10000)\n",
        "\n",
        "# sort by relevant fields\n",
        "incidents_arr = get_incident_fields(nyc_incidents)\n",
        "\n",
        "# sort by number of people broadcasted to\n",
        "incidents_arr = sorted(incidents_arr, key=lambda d: d['usersNotified'], reverse=True)"
      ],
      "metadata": {
        "id": "yIHr3pUB4AGc"
      },
      "execution_count": 4,
      "outputs": []
    },
    {
      "cell_type": "code",
      "source": [
        "write_to_csv('nyc_data.csv', incidents_arr)"
      ],
      "metadata": {
        "id": "CfvIxacoUu6R"
      },
      "execution_count": 5,
      "outputs": []
    },
    {
      "cell_type": "code",
      "source": [
        "# get dataframe from scraped data\n",
        "df_nyc = pd.DataFrame.from_dict(incidents_arr)"
      ],
      "metadata": {
        "id": "0OfPgMel9Ev9"
      },
      "execution_count": 6,
      "outputs": []
    },
    {
      "cell_type": "markdown",
      "source": [
        "# Display"
      ],
      "metadata": {
        "id": "aIgs1MTu90ss"
      }
    },
    {
      "cell_type": "code",
      "source": [
        "from ipywidgets import widgets, Layout, Box, VBox\n",
        "from IPython.display import display, Javascript, HTML\n",
        "from google.colab import data_table, output\n",
        "\n",
        "# enables powerful colab dataframe sort buttons\n",
        "data_table.enable_dataframe_formatter()"
      ],
      "metadata": {
        "id": "0EdDgr38xv9v"
      },
      "execution_count": 7,
      "outputs": []
    },
    {
      "cell_type": "code",
      "source": [
        "table_output = widgets.Output()\n",
        "info_output = widgets.Output()\n",
        "updates_output = widgets.Output()\n",
        "similar_output = widgets.Output()"
      ],
      "metadata": {
        "id": "xEKINdk-tK0-"
      },
      "execution_count": 8,
      "outputs": []
    },
    {
      "cell_type": "markdown",
      "source": [
        "# Formatters"
      ],
      "metadata": {
        "id": "bUPP2lExf1EY"
      }
    },
    {
      "cell_type": "code",
      "source": [
        "dataframe_html_string = '''\n",
        "  <head>\n",
        "    <style> table, th, td {{border:1px solid black !important;}} </style>\n",
        "  </head>\n",
        "  <body>\n",
        "    {table}\n",
        "  </body>\n",
        "  <script> \n",
        "    function get_info(selected_key) {{ google.colab.kernel.invokeFunction('notebook.show_incident_data', [], {{selected_key}}); }}\n",
        "    var rows = Array.from(document.getElementsByTagName('tr'));\n",
        "    // remove header row\n",
        "    rows.shift();\n",
        "    rows.forEach((row, i) => {{\n",
        "      row.addEventListener('click', () => {{\n",
        "        get_info(row.getElementsByTagName('td')[6].innerHTML);\n",
        "      }});\n",
        "    }}); \n",
        "  </script>\n",
        "'''\n",
        "\n",
        "ALL = 'ALL'"
      ],
      "metadata": {
        "id": "eTqugjZToC6n"
      },
      "execution_count": 9,
      "outputs": []
    },
    {
      "cell_type": "code",
      "source": [
        "# makes links hyperlinks\n",
        "def make_clickable(val):\n",
        "    return f'<a target=\"_blank\" href=\"{val}\">{val}</a>'\n",
        "\n",
        "# converts image URLS to img path formats\n",
        "def path_to_image_html(path):\n",
        "    return '<img src=\"'+ path + '\" style=max-height:124px;\"/>'\n",
        "\n",
        "# grab similar incidents to current incident\n",
        "def get_similar_incidents(current_incident):\n",
        "  city = current_incident['cityCode']\n",
        "  title = current_incident['title']\n",
        "  \n",
        "  return get_incident_fields(get_data_by_keyword(f'{title}', limit = 5) )\n",
        "\n",
        "# writes to output display after clicking on an incident to explore\n",
        "def show_incident_data(selected_key):\n",
        "  info_output.clear_output();\n",
        "  updates_output.clear_output();\n",
        "  similar_output.clear_output();\n",
        "\n",
        "  incident = get_incident_fields([{'objectID': selected_key, 'severity': 'red'}])[0]\n",
        "\n",
        "  df = pd.DataFrame(list(incident.items()), columns = ['Fields','Values'])\n",
        "  with info_output:\n",
        "    # display list to citizen incident endpoint\n",
        "    display(HTML(f\"Citizen incident link: <a href={citizen_site + selected_key}>{incident['title']}</a>\"))\n",
        "    display(df)\n",
        "\n",
        "  updates_df = pd.DataFrame(get_only_updates(incident))\n",
        "  with updates_output:\n",
        "    display(updates_df)\n",
        "\n",
        "  similar_incidents = pd.DataFrame(get_similar_incidents(incident)).drop('updates', axis=1)\n",
        "  with similar_output:\n",
        "      # displays in clickable table form\n",
        "      display(HTML(dataframe_html_string.format(table=similar_incidents.to_html(escape=False,\n",
        "                                                justify='center',\n",
        "                                                formatters=dict(shareImageLive=path_to_image_html, url=make_clickable), border=1))))\n",
        "\n",
        "output.register_callback('notebook.show_incident_data', show_incident_data)\n"
      ],
      "metadata": {
        "id": "Nn-aZUHZfz2z"
      },
      "execution_count": 10,
      "outputs": []
    },
    {
      "cell_type": "markdown",
      "source": [
        "# Data Handling and Display"
      ],
      "metadata": {
        "id": "ABp_cEH_kTf0"
      }
    },
    {
      "cell_type": "code",
      "source": [
        "df_nyc = df_nyc.drop('updates', axis=1)\n",
        "widget_df = df_nyc"
      ],
      "metadata": {
        "id": "07I8fJ05oH9l"
      },
      "execution_count": 11,
      "outputs": []
    },
    {
      "cell_type": "code",
      "source": [
        "def unique_sorted_values_plus_ALL(array):\n",
        "    unique = array.unique().tolist()\n",
        "    unique.sort()\n",
        "    unique.insert(0, ALL)\n",
        "    return unique\n",
        "\n",
        "# handler for category widget\n",
        "def category_event_handler(change):\n",
        "  common_filterer(change.new, dropdown_neighborhood.value)\n",
        "\n",
        "# handler for neighborhood widget\n",
        "def neighborhood_event_handler(change):\n",
        "  common_filterer(dropdown_categories.value, change.new)\n",
        "\n",
        "# handler for type of display widget. Supports colab dataframe and HTML rendering\n",
        "def display_event_handler(change):\n",
        "  common_filterer(dropdown_categories.value, dropdown_neighborhood.value)\n",
        "\n",
        "# filters based on category and neighborhood. Displays based on option selected\n",
        "def common_filterer(category, neighborhood):\n",
        "  table_output.clear_output()\n",
        "  if (category == ALL) and (neighborhood == ALL):\n",
        "    widget_df = df_nyc\n",
        "  elif category == ALL:\n",
        "    widget_df = df_nyc[df_nyc.neighborhood == neighborhood]\n",
        "  elif neighborhood == ALL:\n",
        "    widget_df = df_nyc[df_nyc.categories == category]\n",
        "  else:\n",
        "    widget_df = df_nyc[(df_nyc.categories == category) & (df_nyc.neighborhood == neighborhood)]\n",
        "  with table_output:\n",
        "    if dropdown_display.value == \"Groupable Data Table\":\n",
        "      display(widget_df)\n",
        "    else:\n",
        "      display(HTML(dataframe_html_string.format(table=widget_df.to_html(escape=False,\n",
        "                                     justify='center',\n",
        "                                     formatters=dict(shareImageLive=path_to_image_html, url=make_clickable), border=1))))\n"
      ],
      "metadata": {
        "id": "V8coCsak-dKy"
      },
      "execution_count": 12,
      "outputs": []
    },
    {
      "cell_type": "code",
      "source": [
        "dropdown_categories = widgets.Dropdown(\n",
        "    options=unique_sorted_values_plus_ALL(df_nyc.categories),\n",
        "    description='Category',\n",
        "    disabled=False,\n",
        ")\n",
        "dropdown_categories.observe(category_event_handler, names='value')\n",
        "\n",
        "dropdown_neighborhood = widgets.Dropdown(\n",
        "    options=unique_sorted_values_plus_ALL(df_nyc.neighborhood),\n",
        "    description='Neighborhood',\n",
        "    disabled=False,\n",
        ")\n",
        "dropdown_neighborhood.observe(neighborhood_event_handler, names='value')\n",
        "\n",
        "dropdown_display = widgets.Dropdown(\n",
        "    options=[\"Groupable Data Table\", \"HTML Rendering\"],\n",
        "    description='Display Option',\n",
        "    disabled=False,\n",
        ")\n",
        "dropdown_display.observe(display_event_handler, names='value')"
      ],
      "metadata": {
        "id": "aA_T3PhJ8-Gs"
      },
      "execution_count": 13,
      "outputs": []
    },
    {
      "cell_type": "markdown",
      "source": [
        "# Interactables"
      ],
      "metadata": {
        "id": "wV6w_T0UlIhQ"
      }
    },
    {
      "cell_type": "code",
      "source": [
        "box_layout = Layout(display='flex',\n",
        "                    flex_flow='row',\n",
        "                    justify_content='center',\n",
        "                    align_items='stretch',\n",
        "                    overflow='visible',\n",
        "                    width='auto')\n",
        "box_auto = Box(children=[dropdown_categories, dropdown_neighborhood, dropdown_display], layout=box_layout)\n",
        "display(VBox([box_auto]))\n",
        "display(table_output)"
      ],
      "metadata": {
        "colab": {
          "base_uri": "https://localhost:8080/",
          "height": 815,
          "referenced_widgets": [
            "87814f3d1a7e48b4b5aa4c05d0e7a1a3",
            "8b5258b395d948c6907454c8dc9221c8",
            "8f509d7606a4479fab11b01ea6e44fbc",
            "55366de96f2f4791bfc52bfd02b120b5",
            "cdefb1357e3a43359dcb0253f39759e0",
            "b7602ef4fcc245a2af23a5c5a87315f8",
            "02be70420bf649fd9c5859ea11dda865",
            "4a1d4a7f19c442ad943247fed40227f8",
            "41af496bc216494c8eb0b14143542d3e",
            "bcf3aebd2cd84715a85ee8ed33c8b29d",
            "5ef9d989c4c643aebf2081ac97741495",
            "db07925ffd4741419b3cde8da7b5ece6",
            "3cfb9b17399646eaba2351eea9fad65d",
            "0aadb753d86749c1ba7837c0d3022247",
            "7da8d125e1df412792aba2b6ad2cbecf"
          ]
        },
        "id": "V3_9LrtvdBsu",
        "outputId": "ee094f77-a5b6-4013-c234-e687305a366c"
      },
      "execution_count": 18,
      "outputs": [
        {
          "output_type": "display_data",
          "data": {
            "text/plain": [
              "VBox(children=(Box(children=(Dropdown(description='Category', options=('ALL', 'Barricade', 'Fire', 'Gun Relate…"
            ],
            "application/vnd.jupyter.widget-view+json": {
              "version_major": 2,
              "version_minor": 0,
              "model_id": "87814f3d1a7e48b4b5aa4c05d0e7a1a3"
            }
          },
          "metadata": {}
        },
        {
          "output_type": "display_data",
          "data": {
            "text/plain": [
              "Output()"
            ],
            "application/vnd.jupyter.widget-view+json": {
              "version_major": 2,
              "version_minor": 0,
              "model_id": "0aadb753d86749c1ba7837c0d3022247"
            }
          },
          "metadata": {}
        }
      ]
    },
    {
      "cell_type": "markdown",
      "source": [
        "#Output"
      ],
      "metadata": {
        "id": "rCBwdU7Y_KQd"
      }
    },
    {
      "cell_type": "code",
      "source": [
        "display(info_output)"
      ],
      "metadata": {
        "colab": {
          "base_uri": "https://localhost:8080/",
          "height": 627,
          "referenced_widgets": [
            "1c7b7362cdd24a499432362c71ca4d4e",
            "c11708fd00fb4581a573209c30de643e"
          ]
        },
        "id": "HcpdF7rVPB_P",
        "outputId": "d9cbe41f-6e66-4d44-bced-f75ea3bcdeb1"
      },
      "execution_count": 15,
      "outputs": [
        {
          "output_type": "display_data",
          "data": {
            "text/plain": [
              "Output()"
            ],
            "application/vnd.jupyter.widget-view+json": {
              "version_major": 2,
              "version_minor": 0,
              "model_id": "1c7b7362cdd24a499432362c71ca4d4e"
            }
          },
          "metadata": {}
        }
      ]
    },
    {
      "cell_type": "code",
      "source": [
        "display(updates_output)"
      ],
      "metadata": {
        "colab": {
          "base_uri": "https://localhost:8080/",
          "height": 394,
          "referenced_widgets": [
            "d7f45e7157ba482a850ebb6c2f3cc4cb",
            "58964ec13a97425c9534ee19bad7ced1"
          ]
        },
        "id": "YAXn4yqueBoY",
        "outputId": "28ca4dc1-099f-446f-b3aa-02c7d46c37c8"
      },
      "execution_count": 16,
      "outputs": [
        {
          "output_type": "display_data",
          "data": {
            "text/plain": [
              "Output()"
            ],
            "application/vnd.jupyter.widget-view+json": {
              "version_major": 2,
              "version_minor": 0,
              "model_id": "d7f45e7157ba482a850ebb6c2f3cc4cb"
            }
          },
          "metadata": {}
        }
      ]
    },
    {
      "cell_type": "code",
      "source": [
        "display(similar_output)"
      ],
      "metadata": {
        "colab": {
          "base_uri": "https://localhost:8080/",
          "height": 326,
          "referenced_widgets": [
            "ba7a1dcab0be48fab40f03d9347e72ed",
            "a9d06d3d652a4bbba9e876e49984a4e2"
          ]
        },
        "id": "AQny50W9s8np",
        "outputId": "978f6620-41b6-469e-baca-b5cee153992a"
      },
      "execution_count": 17,
      "outputs": [
        {
          "output_type": "display_data",
          "data": {
            "text/plain": [
              "Output()"
            ],
            "application/vnd.jupyter.widget-view+json": {
              "version_major": 2,
              "version_minor": 0,
              "model_id": "ba7a1dcab0be48fab40f03d9347e72ed"
            }
          },
          "metadata": {}
        }
      ]
    }
  ]
}